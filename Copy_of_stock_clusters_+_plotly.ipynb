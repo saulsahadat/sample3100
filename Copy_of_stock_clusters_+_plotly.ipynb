{
  "cells": [
    {
      "cell_type": "markdown",
      "id": "392b3aa9-d680-4856-996b-2c5335e75c13",
      "metadata": {
        "id": "392b3aa9-d680-4856-996b-2c5335e75c13"
      },
      "source": [
        "**Locating Novel Digital Stocks Within a Cluster-Driven Model for Global Stocks**\n",
        "\n",
        "The economy is very unpredictable right now. Everyone talks about a reccesion and there is many evidence of that. However, there is strong\n",
        "evidence that it may not be in the near future. By clustering stocks and seeing their relationship with one another, we are able to make a strong\n",
        "prediction of where they will go. I picked banking, commercial real estate, health care, and railroad stocks for this assignment.\n",
        "Union Pacific is the back bone of America. They transport goods from shore to shore, and the country does not function without Union Pacific.\n",
        "Their performace is a good indication of where the country is headed. Banking and Commerical real estate simultaneously follow each other.\n",
        "Just like real estate follows after stocks. Commerical real estate is a big sector that has may types of products. Such as offices, apartments,\n",
        "industrial, and hotels to name a few. Currently health care leases are prospering so I added healh care stocks as well. However, when there is a\n",
        "recession, Health care stocks are considered a defensive hedge agaisnt inflation. They have shown to provide stable earnings during a\n",
        "recession.\n",
        "\n",
        "\n",
        "**Why Cluster Commodities, to Study Stocks?**\n",
        "\n",
        "By clustering companies together, we are able to determine their correlations with one another This is extremely important because it gives us a\n",
        "better understanding of how different sectors of the economy correlate with each other. By having this information we can make better\n",
        "investments and build a diversified portfolio. It also allows us to combine like compaanies into a group so we can focus on each group rather\n",
        "than trying to decide on indivdual stock. We are able to see how the sector as a whole is performing."
      ]
    },
    {
      "cell_type": "markdown",
      "id": "803361df-9af3-49bb-ac6c-488996cd5988",
      "metadata": {
        "id": "803361df-9af3-49bb-ac6c-488996cd5988"
      },
      "source": [
        "**Using Cluster Matrices to Study Covariant, Affine Price Behaviors between Stocks and Other Flows**\n",
        "\n",
        "This study samples the recent price behavior of 10 companies, then traces the covariant, linear behavior, matrix style. Affine, or common mover groups are established, and presented interactively, for the viewer in a visual milieu. \n",
        "\n",
        "Discussion of data pipeline used, and the subsequent data transformations needed in order to create this affine matrix, as well as the technical tools to facilitate this. "
      ]
    },
    {
      "cell_type": "markdown",
      "id": "bbc02ad0-58d3-4281-aa10-06db35e8b94a",
      "metadata": {
        "id": "bbc02ad0-58d3-4281-aa10-06db35e8b94a"
      },
      "source": [
        "**Overview of Data Science Techniques**\n",
        "\n",
        "The pipeline includes downloading data, introducing processing efficiencies, model building and cross validation, and cluster expression. I outline my steps as I take them, to arrive at a matrix of pricing which affords the following advantages. \n",
        "\n",
        "The experiement was adapted from scikit-learn's own documentation, where the techniques were applied to the US stock market. My rendition creates several departures while adapting the advantage of Varoquaux's pipeline.[1]\n",
        "\n",
        "1. The data ingest is fast, efficient, updateable and portable. Anyone may use this code to build a working model of US-traded commodities, and add symbols they wish to see, where I have missed them. \n",
        "2. Data represent public, recently settled trades. \n",
        "3. Local CPU resources are used in order to use notebook memory efficiently, and leverage local Linux resources.\n",
        "4. Data remains in perpetuity for the analyst, or it may be rebuilt, using updated, daily trade series. \n",
        "5. Data is built as a time series, in the OHLC format, where Opening, Closing, High and daily Low prices are located.\n",
        "6. Clustering is aimed toward predictive use, where clusters can achieve whatever size is needed, to cluster affine, covariant items\n",
        "7. Every commodity under consideration is measured for covariance against each other, to locate a product that trades in the same linear way\n",
        "8. Sparse Inverse Covariance is the technique used to identify relationships between every item in the Matrix, and thus explose clusters of products, trading similarly. This is a list of connected items, trading conditionally upon the others.Thus the list is a useable, probable list of items which trade in the same way, over a week of US business.\n",
        "9. An edge model exposes the borders for classification, and locates clusters at its discretion. Thus, no supervised limits are imposed in cluster formation. \n",
        "10. Hyperparameters are determined via search with a predetermined number of folds, where each subset is used to locate model parameters, which are averaged at the close of the run. \n",
        "11. Given the large volume of colinear features, a cross validation technique is used to 'lasso' model features. "
      ]
    },
    {
      "cell_type": "markdown",
      "id": "e6584e36-196d-4eb9-99e3-50ec0a45def7",
      "metadata": {
        "id": "e6584e36-196d-4eb9-99e3-50ec0a45def7"
      },
      "source": [
        "**Building the Data Science Environment for Linux and Python**\n",
        "\n",
        "Use the following commands to interface with your underlying linux environment. These may not need to be commented out, but will remain necessary each time a new kernel boot, in your notebook, takes place."
      ]
    },
    {
      "cell_type": "code",
      "execution_count": 30,
      "id": "073d549f-d5fe-4a53-b6ab-f0fd80ec5bde",
      "metadata": {
        "colab": {
          "base_uri": "https://localhost:8080/"
        },
        "id": "073d549f-d5fe-4a53-b6ab-f0fd80ec5bde",
        "outputId": "f94cdb19-f0e2-470a-b269-a56f5540f4cb"
      },
      "outputs": [
        {
          "output_type": "stream",
          "name": "stdout",
          "text": [
            "Looking in indexes: https://pypi.org/simple, https://us-python.pkg.dev/colab-wheels/public/simple/\n",
            "Requirement already satisfied: yfinance in /usr/local/lib/python3.10/dist-packages (0.2.18)\n",
            "Requirement already satisfied: pandas>=1.3.0 in /usr/local/lib/python3.10/dist-packages (from yfinance) (1.5.3)\n",
            "Requirement already satisfied: numpy>=1.16.5 in /usr/local/lib/python3.10/dist-packages (from yfinance) (1.22.4)\n",
            "Requirement already satisfied: requests>=2.26 in /usr/local/lib/python3.10/dist-packages (from yfinance) (2.27.1)\n",
            "Requirement already satisfied: multitasking>=0.0.7 in /usr/local/lib/python3.10/dist-packages (from yfinance) (0.0.11)\n",
            "Requirement already satisfied: lxml>=4.9.1 in /usr/local/lib/python3.10/dist-packages (from yfinance) (4.9.2)\n",
            "Requirement already satisfied: appdirs>=1.4.4 in /usr/local/lib/python3.10/dist-packages (from yfinance) (1.4.4)\n",
            "Requirement already satisfied: pytz>=2022.5 in /usr/local/lib/python3.10/dist-packages (from yfinance) (2022.7.1)\n",
            "Requirement already satisfied: frozendict>=2.3.4 in /usr/local/lib/python3.10/dist-packages (from yfinance) (2.3.7)\n",
            "Requirement already satisfied: cryptography>=3.3.2 in /usr/local/lib/python3.10/dist-packages (from yfinance) (40.0.2)\n",
            "Requirement already satisfied: beautifulsoup4>=4.11.1 in /usr/local/lib/python3.10/dist-packages (from yfinance) (4.11.2)\n",
            "Requirement already satisfied: html5lib>=1.1 in /usr/local/lib/python3.10/dist-packages (from yfinance) (1.1)\n",
            "Requirement already satisfied: soupsieve>1.2 in /usr/local/lib/python3.10/dist-packages (from beautifulsoup4>=4.11.1->yfinance) (2.4.1)\n",
            "Requirement already satisfied: cffi>=1.12 in /usr/local/lib/python3.10/dist-packages (from cryptography>=3.3.2->yfinance) (1.15.1)\n",
            "Requirement already satisfied: six>=1.9 in /usr/local/lib/python3.10/dist-packages (from html5lib>=1.1->yfinance) (1.16.0)\n",
            "Requirement already satisfied: webencodings in /usr/local/lib/python3.10/dist-packages (from html5lib>=1.1->yfinance) (0.5.1)\n",
            "Requirement already satisfied: python-dateutil>=2.8.1 in /usr/local/lib/python3.10/dist-packages (from pandas>=1.3.0->yfinance) (2.8.2)\n",
            "Requirement already satisfied: urllib3<1.27,>=1.21.1 in /usr/local/lib/python3.10/dist-packages (from requests>=2.26->yfinance) (1.26.15)\n",
            "Requirement already satisfied: certifi>=2017.4.17 in /usr/local/lib/python3.10/dist-packages (from requests>=2.26->yfinance) (2022.12.7)\n",
            "Requirement already satisfied: charset-normalizer~=2.0.0 in /usr/local/lib/python3.10/dist-packages (from requests>=2.26->yfinance) (2.0.12)\n",
            "Requirement already satisfied: idna<4,>=2.5 in /usr/local/lib/python3.10/dist-packages (from requests>=2.26->yfinance) (3.4)\n",
            "Requirement already satisfied: pycparser in /usr/local/lib/python3.10/dist-packages (from cffi>=1.12->cryptography>=3.3.2->yfinance) (2.21)\n",
            "Looking in indexes: https://pypi.org/simple, https://us-python.pkg.dev/colab-wheels/public/simple/\n",
            "Requirement already satisfied: vega_datasets in /usr/local/lib/python3.10/dist-packages (0.9.0)\n",
            "Requirement already satisfied: pandas in /usr/local/lib/python3.10/dist-packages (from vega_datasets) (1.5.3)\n",
            "Requirement already satisfied: python-dateutil>=2.8.1 in /usr/local/lib/python3.10/dist-packages (from pandas->vega_datasets) (2.8.2)\n",
            "Requirement already satisfied: pytz>=2020.1 in /usr/local/lib/python3.10/dist-packages (from pandas->vega_datasets) (2022.7.1)\n",
            "Requirement already satisfied: numpy>=1.21.0 in /usr/local/lib/python3.10/dist-packages (from pandas->vega_datasets) (1.22.4)\n",
            "Requirement already satisfied: six>=1.5 in /usr/local/lib/python3.10/dist-packages (from python-dateutil>=2.8.1->pandas->vega_datasets) (1.16.0)\n"
          ]
        }
      ],
      "source": [
        "!pip install yfinance\n",
        "!pip install vega_datasets"
      ]
    },
    {
      "cell_type": "markdown",
      "id": "e57d2105-6753-404e-b0c3-9d64531ffa65",
      "metadata": {
        "id": "e57d2105-6753-404e-b0c3-9d64531ffa65"
      },
      "source": [
        "**Data Ingest from Public Markets**\n",
        "\n",
        "The free, common Yahoo Finace API is used to download data from all commodites you wish to see studied. This data will be stored persistently next to your notebook in common environments such as Binder. \n",
        "\n",
        "Please note that if you deploy this notebook in Google Collab that the 37+ files downloaded will be erased between uses, but can be rebuilt easily each time you operate this notebook. \n",
        "\n",
        "The data you download becomes permanently usable, and the ingest request below can be customized in order to grab more, or less data and at different intervals.[2]\n",
        "\n",
        "I have included several exceptions to the download and renaming technique, in order to tolerate commodities with differing ticker symbols. "
      ]
    },
    {
      "cell_type": "code",
      "execution_count": 31,
      "id": "14283c99-4df9-46a4-8696-153e91a6da8a",
      "metadata": {
        "id": "14283c99-4df9-46a4-8696-153e91a6da8a"
      },
      "outputs": [],
      "source": [
        "import yfinance as yf\n",
        "from time import time,ctime, clock_gettime\n",
        "from time import gmtime, time, time_ns\n",
        "\n",
        "def ifs(input):\n",
        "    ni = ''\n",
        "    if input =='gff':\n",
        "        input = 'GFF'\n",
        "        ni = \"GF=F\"\n",
        "    elif input == 'zff':\n",
        "        input = 'ZFF'\n",
        "        ni = \"ZF=F\"\n",
        "    else:\n",
        "        input = input.upper()\n",
        "        ins = \"=\"\n",
        "        before = \"F\"\n",
        "        ni = input.replace(before, ins + before , 1)\n",
        "    print(ni)\n",
        "    data = yf.download( \n",
        "        tickers = ni,\n",
        "        period = \"365d\",\n",
        "        interval = \"1d\",\n",
        "        group_by = 'ticker',\n",
        "        auto_adjust = True,\n",
        "        prepost = True,\n",
        "        threads = True,\n",
        "        proxy = None\n",
        "    )\n",
        "    epoch = ctime()\n",
        "    filename = input\n",
        "    data.to_csv(filename)\n",
        "#!ls #only in jupy"
      ]
    },
    {
      "cell_type": "markdown",
      "id": "765eed9a-8928-40c7-b35c-7095cdba1989",
      "metadata": {
        "id": "765eed9a-8928-40c7-b35c-7095cdba1989"
      },
      "source": [
        "**Trigger Data Downloads**\n",
        "\n",
        "The following code customizes the commodities under investigation. In order to compare every commodity's price history versus the rest in your matrix, the lengths of the data captures are minimized to the length of the smallest data set. Thus, larger sets are only captured at the length of the smallest set.\n",
        "\n",
        "The volatility of every price tick is calculated via [close price minus open price]."
      ]
    },
    {
      "cell_type": "code",
      "execution_count": 32,
      "id": "235a9b6c-d3f8-490d-bd67-1e129d2e7ffc",
      "metadata": {
        "colab": {
          "base_uri": "https://localhost:8080/"
        },
        "id": "235a9b6c-d3f8-490d-bd67-1e129d2e7ffc",
        "outputId": "26f6485b-2e59-4b4e-c1c3-2a12e459ce3c"
      },
      "outputs": [
        {
          "output_type": "stream",
          "name": "stdout",
          "text": [
            "BAC\n",
            "\r[*********************100%***********************]  1 of 1 completed\n",
            "CAH\n",
            "[*********************100%***********************]  1 of 1 completed\n",
            "CVS\n",
            "[*********************100%***********************]  1 of 1 completed\n",
            "GS\n",
            "[*********************100%***********************]  1 of 1 completed\n",
            "JPM\n",
            "[*********************100%***********************]  1 of 1 completed\n",
            "TDOC\n",
            "[*********************100%***********************]  1 of 1 completed\n",
            "UNP\n",
            "[*********************100%***********************]  1 of 1 completed\n",
            "min length of data:  364\n"
          ]
        }
      ],
      "source": [
        "#read in csv data from each commodity capture, gather\n",
        "#assign 'open' to an array, create df from arrays\n",
        "import numpy as np \n",
        "import pandas as pd\n",
        "from  scipy.stats import pearsonr\n",
        "symbol_dict = {\"JPM\":\"JPMorgan\", \"BAC\":\"Bank of America\", \"GS\":\"Goldman Sachs\", \"TDOC\":\"Teladoc\", \"CVS\":\"CVS Health\", \"CAH\":\"Cardinal Health\", \"UNP\":\"Union Pacific\" } #QQ, SPY , TNX, VIX\n",
        "\n",
        "\n",
        "'''\n",
        "\"clf\":\"crude oil\", \"esf\":\"E-Mini S&P 500\",\"btcf\":\"Bitcoin\",\"bzf\":\"Brent Crude Oil\", \"ccf\":\"Cocoa\",\"ctf\":\"Cotton\",\"gcf\":\"Gold\",\n",
        "           \"gff\":\"Feeder Cattle\", \"hef\":\"Lean Hogs\",\"hgf\":\"Copper\",\"hof\":\"Heating Oil\",\"kcf\":\"Coffee\",\"kef\":\"KC HRW Wheat\",\n",
        "           \"lbsf\":\"Lumber\",\"lef\":\"Live Cattle\",\"mgcf\":\"Micro Gold\",\"ngf\":\"Natural Gas\",\"nqf\":\"Nasdaq 100\",\"ojf\":\"Orange Juice\",\"paf\":\"Palladium\",\"plf\":\"Chicago Ethanol (Platts)\",\n",
        "            \"rbf\":\"RBOB Gasoline\",\"rtyf\":\"E-mini Russell 2000\",\"sbf\":\"Sugar #11\",\"sif\":\"Silver\",\"silf\":\"Micro Silver\",\"ymf\":\"Mini Dow Jones Indus\",\"zbf\":\"U.S. Treasury Bond Futures\",\n",
        "            \"zcf\":\"Corn\",\"zff\":\"Five-Year US Treasury Note\",\"zlf\":\"Soybean Oil Futures\",\"zmf\":\"Soybean Meal\",\"znf\":\"10-Year T-Note\",\"zof\":\"Oat Futures\",\"zrf\":\"Rough Rice\",\n",
        "            \"zsf\":\"Soybean\",\"ztf\":\"2-Year T-Note\"\n",
        "'''\n",
        "\n",
        "sym, names = np.array(sorted(symbol_dict.items())).T\n",
        "\n",
        "for i in sym:    #build all symbol csvs, will populate/appear in your binder. Use linux for efficient dp\n",
        "    ifs(i)\n",
        "\n",
        "quotes = []\n",
        "lens = []\n",
        "for symbol in sym:\n",
        "    symbol = symbol.upper()\n",
        "    t = pd.read_csv(symbol) \n",
        "    lens.append(t.shape[0])\n",
        "mm = np.amin(lens)-1\n",
        "print(\"min length of data: \",mm)\n",
        "\n",
        "for symbol in sym:\n",
        "    symbol = symbol.upper()\n",
        "    t = pd.read_csv(symbol) \n",
        "    t= t.truncate(after=mm)\n",
        "    quotes.append(t)\n",
        "mi = np.vstack([q[\"Close\"] for q in quotes]) #min\n",
        "ma = np.vstack([q[\"Open\"] for q in quotes]) #max\n",
        "\n",
        "volatility = ma - mi \n",
        "      "
      ]
    },
    {
      "cell_type": "code",
      "source": [],
      "metadata": {
        "id": "3NQCrmm2DWq4"
      },
      "id": "3NQCrmm2DWq4",
      "execution_count": 32,
      "outputs": []
    },
    {
      "cell_type": "markdown",
      "id": "95d403b1-19a4-41cb-92a0-fbbd9db0d87d",
      "metadata": {
        "id": "95d403b1-19a4-41cb-92a0-fbbd9db0d87d"
      },
      "source": [
        "**Data Format**\n",
        "\n",
        "After downloading this massive store of data, you should click on a file, in your project. Using the file browser, you will see a large quantity of new files. \n",
        "\n",
        "When you open one, you will see the rows of new data. \n"
      ]
    },
    {
      "cell_type": "markdown",
      "id": "856530ae-2745-4a90-82ce-714af3afe78f",
      "metadata": {
        "id": "856530ae-2745-4a90-82ce-714af3afe78f"
      },
      "source": [
        "**Cross Validate for Optimal Parameters: the Lasso**\n",
        "\n",
        "Varoquaux's pipeline involves steps in the following two cells. \n",
        "\n",
        "A set of clusters is built using a set of predefined edges, called the edge model. The volatility of every OHLC tick is fed into the edge model, in order to establish every commodity's covariance to eachother. \n",
        "\n",
        "The advantages of the Graphical Lasso model is that a cross validated average set of hyperparameters is located, then applied to cluster each commodity. Thus, every commodity is identified with other commodities which move in tandem, together, over seven days. I print the alpha edges below, and visualize this group. \n",
        "\n",
        "Depending upon the markets when you run this study, more intensive clustering may take place at either end of the spectrum. This exposes the covariance between different groups, while exposing outlier clusters. \n",
        "\n",
        "**Using the Interactive Graph**\n",
        "\n",
        "Feel free to move your mouse into the graph, then roll your mouse. This will drill in/out and allow you to hover over data points. They will mape to the edges of the clusters, under investigation.\n",
        "\n",
        "\n"
      ]
    },
    {
      "cell_type": "code",
      "execution_count": 33,
      "id": "a9c414d9-220d-4e89-867a-663f6e92c7bb",
      "metadata": {
        "id": "a9c414d9-220d-4e89-867a-663f6e92c7bb",
        "colab": {
          "base_uri": "https://localhost:8080/",
          "height": 769
        },
        "outputId": "9d469bdd-aad0-426c-a992-5251436e1462"
      },
      "outputs": [
        {
          "output_type": "stream",
          "name": "stdout",
          "text": [
            "<class 'numpy.ndarray'>\n",
            "0.03162277660168379\n",
            "0.047705826961439296\n",
            "0.07196856730011521\n",
            "0.10857111194022041\n",
            "0.16378937069540642\n",
            "0.2470911227985605\n",
            "0.372759372031494\n",
            "0.5623413251903491\n",
            "0.8483428982440722\n",
            "1.279802213997954\n",
            "1.9306977288832505\n",
            "2.9126326549087382\n",
            "4.39397056076079\n",
            "6.628703161826448\n",
            "10.0\n"
          ]
        },
        {
          "output_type": "execute_result",
          "data": {
            "text/html": [
              "\n",
              "<div id=\"altair-viz-c48efbc343204432b619118aa7cfa256\"></div>\n",
              "<script type=\"text/javascript\">\n",
              "  var VEGA_DEBUG = (typeof VEGA_DEBUG == \"undefined\") ? {} : VEGA_DEBUG;\n",
              "  (function(spec, embedOpt){\n",
              "    let outputDiv = document.currentScript.previousElementSibling;\n",
              "    if (outputDiv.id !== \"altair-viz-c48efbc343204432b619118aa7cfa256\") {\n",
              "      outputDiv = document.getElementById(\"altair-viz-c48efbc343204432b619118aa7cfa256\");\n",
              "    }\n",
              "    const paths = {\n",
              "      \"vega\": \"https://cdn.jsdelivr.net/npm//vega@5?noext\",\n",
              "      \"vega-lib\": \"https://cdn.jsdelivr.net/npm//vega-lib?noext\",\n",
              "      \"vega-lite\": \"https://cdn.jsdelivr.net/npm//vega-lite@4.17.0?noext\",\n",
              "      \"vega-embed\": \"https://cdn.jsdelivr.net/npm//vega-embed@6?noext\",\n",
              "    };\n",
              "\n",
              "    function maybeLoadScript(lib, version) {\n",
              "      var key = `${lib.replace(\"-\", \"\")}_version`;\n",
              "      return (VEGA_DEBUG[key] == version) ?\n",
              "        Promise.resolve(paths[lib]) :\n",
              "        new Promise(function(resolve, reject) {\n",
              "          var s = document.createElement('script');\n",
              "          document.getElementsByTagName(\"head\")[0].appendChild(s);\n",
              "          s.async = true;\n",
              "          s.onload = () => {\n",
              "            VEGA_DEBUG[key] = version;\n",
              "            return resolve(paths[lib]);\n",
              "          };\n",
              "          s.onerror = () => reject(`Error loading script: ${paths[lib]}`);\n",
              "          s.src = paths[lib];\n",
              "        });\n",
              "    }\n",
              "\n",
              "    function showError(err) {\n",
              "      outputDiv.innerHTML = `<div class=\"error\" style=\"color:red;\">${err}</div>`;\n",
              "      throw err;\n",
              "    }\n",
              "\n",
              "    function displayChart(vegaEmbed) {\n",
              "      vegaEmbed(outputDiv, spec, embedOpt)\n",
              "        .catch(err => showError(`Javascript Error: ${err.message}<br>This usually means there's a typo in your chart specification. See the javascript console for the full traceback.`));\n",
              "    }\n",
              "\n",
              "    if(typeof define === \"function\" && define.amd) {\n",
              "      requirejs.config({paths});\n",
              "      require([\"vega-embed\"], displayChart, err => showError(`Error loading script: ${err.message}`));\n",
              "    } else {\n",
              "      maybeLoadScript(\"vega\", \"5\")\n",
              "        .then(() => maybeLoadScript(\"vega-lite\", \"4.17.0\"))\n",
              "        .then(() => maybeLoadScript(\"vega-embed\", \"6\"))\n",
              "        .catch(showError)\n",
              "        .then(() => displayChart(vegaEmbed));\n",
              "    }\n",
              "  })({\"config\": {\"view\": {\"continuousWidth\": 400, \"continuousHeight\": 300}}, \"data\": {\"name\": \"data-e00b725f47bb04e84b24a287207abc43\"}, \"mark\": {\"type\": \"point\", \"filled\": true, \"size\": 100}, \"encoding\": {\"tooltip\": [{\"field\": \"alpha\", \"type\": \"quantitative\"}], \"x\": {\"field\": \"alpha\", \"type\": \"quantitative\"}, \"y\": {\"field\": \"idx\", \"type\": \"quantitative\"}}, \"height\": 400, \"selection\": {\"selector001\": {\"type\": \"interval\", \"bind\": \"scales\", \"encodings\": [\"x\", \"y\"]}}, \"title\": \"Edges Present Within the Graphical Lasso Model\", \"width\": 800, \"$schema\": \"https://vega.github.io/schema/vega-lite/v4.17.0.json\", \"datasets\": {\"data-e00b725f47bb04e84b24a287207abc43\": [{\"idx\": 0, \"alpha\": 0.03162277660168379}, {\"idx\": 1, \"alpha\": 0.047705826961439296}, {\"idx\": 2, \"alpha\": 0.07196856730011521}, {\"idx\": 3, \"alpha\": 0.10857111194022041}, {\"idx\": 4, \"alpha\": 0.16378937069540642}, {\"idx\": 5, \"alpha\": 0.2470911227985605}, {\"idx\": 6, \"alpha\": 0.372759372031494}, {\"idx\": 7, \"alpha\": 0.5623413251903491}, {\"idx\": 8, \"alpha\": 0.8483428982440722}, {\"idx\": 9, \"alpha\": 1.279802213997954}, {\"idx\": 10, \"alpha\": 1.9306977288832505}, {\"idx\": 11, \"alpha\": 2.9126326549087382}, {\"idx\": 12, \"alpha\": 4.39397056076079}, {\"idx\": 13, \"alpha\": 6.628703161826448}, {\"idx\": 14, \"alpha\": 10.0}]}}, {\"mode\": \"vega-lite\"});\n",
              "</script>"
            ],
            "text/plain": [
              "alt.Chart(...)"
            ]
          },
          "metadata": {},
          "execution_count": 33
        }
      ],
      "source": [
        "from sklearn import covariance\n",
        "import altair as alt\n",
        "alphas = np.logspace(-1.5, 1, num=15)\n",
        "edge_model = covariance.GraphicalLassoCV(alphas=alphas)\n",
        "X = volatility.copy().T\n",
        "X /= X.std(axis=0)\n",
        "l =edge_model.fit(X)\n",
        "n= []\n",
        "print(type(l.alphas))\n",
        "for  i in range(len(l.alphas)):\n",
        "    print(l.alphas[i])\n",
        "    dict = {\"idx\":i , \"alpha\":l.alphas[i]}\n",
        "    n.append(dict)\n",
        "    \n",
        "dd = pd.DataFrame(n)\n",
        "alt.Chart(dd).mark_point(filled=True, size=100).encode(\n",
        "    y=alt.Y('idx'),\n",
        "    x=alt.X('alpha'),tooltip=['alpha'],).properties(\n",
        "        width=800,\n",
        "        height=400,\n",
        "        title=\"Edges Present Within the Graphical Lasso Model\"\n",
        "    ).interactive()"
      ]
    },
    {
      "cell_type": "markdown",
      "id": "da9140ae-9ecd-4988-a3a7-b19dbf7ed23d",
      "metadata": {
        "id": "da9140ae-9ecd-4988-a3a7-b19dbf7ed23d"
      },
      "source": [
        "**Definining cluster Membership, by Covariant Affinity**\n",
        "\n",
        "Clusters of covariant, affine moving commodities are established. This group is then passed into a dataframe so that the buckets of symbols can become visible. "
      ]
    },
    {
      "cell_type": "code",
      "execution_count": 34,
      "id": "2ce0b55e-e43a-4203-b640-3f7bb59802eb",
      "metadata": {
        "id": "2ce0b55e-e43a-4203-b640-3f7bb59802eb",
        "colab": {
          "base_uri": "https://localhost:8080/",
          "height": 303
        },
        "outputId": "5b8d60ad-7e1e-4493-c9b2-aa817334939e"
      },
      "outputs": [
        {
          "output_type": "stream",
          "name": "stdout",
          "text": [
            "Cluster 1: BAC, GS, JPM, UNP\n",
            "Cluster 2: CAH, CVS\n",
            "Cluster 3: TDOC\n"
          ]
        },
        {
          "output_type": "stream",
          "name": "stderr",
          "text": [
            "<ipython-input-34-3e2cbe7f4ace>:12: FutureWarning: The frame.append method is deprecated and will be removed from pandas in a future version. Use pandas.concat instead.\n",
            "  gdf = gdf.append(dict, ignore_index=True, sort=True)\n",
            "<ipython-input-34-3e2cbe7f4ace>:12: FutureWarning: The frame.append method is deprecated and will be removed from pandas in a future version. Use pandas.concat instead.\n",
            "  gdf = gdf.append(dict, ignore_index=True, sort=True)\n",
            "<ipython-input-34-3e2cbe7f4ace>:12: FutureWarning: The frame.append method is deprecated and will be removed from pandas in a future version. Use pandas.concat instead.\n",
            "  gdf = gdf.append(dict, ignore_index=True, sort=True)\n"
          ]
        },
        {
          "output_type": "execute_result",
          "data": {
            "text/plain": [
              "   cluster                                              names  size  \\\n",
              "0        1  [Bank of America, Goldman Sachs, JPMorgan, Uni...     4   \n",
              "1        2                      [Cardinal Health, CVS Health]     2   \n",
              "2        3                                          [Teladoc]     1   \n",
              "\n",
              "               symbols  \n",
              "0  [BAC, GS, JPM, UNP]  \n",
              "1           [CAH, CVS]  \n",
              "2               [TDOC]  "
            ],
            "text/html": [
              "\n",
              "  <div id=\"df-2b0cdd83-f698-4533-9fe7-a264bd44057b\">\n",
              "    <div class=\"colab-df-container\">\n",
              "      <div>\n",
              "<style scoped>\n",
              "    .dataframe tbody tr th:only-of-type {\n",
              "        vertical-align: middle;\n",
              "    }\n",
              "\n",
              "    .dataframe tbody tr th {\n",
              "        vertical-align: top;\n",
              "    }\n",
              "\n",
              "    .dataframe thead th {\n",
              "        text-align: right;\n",
              "    }\n",
              "</style>\n",
              "<table border=\"1\" class=\"dataframe\">\n",
              "  <thead>\n",
              "    <tr style=\"text-align: right;\">\n",
              "      <th></th>\n",
              "      <th>cluster</th>\n",
              "      <th>names</th>\n",
              "      <th>size</th>\n",
              "      <th>symbols</th>\n",
              "    </tr>\n",
              "  </thead>\n",
              "  <tbody>\n",
              "    <tr>\n",
              "      <th>0</th>\n",
              "      <td>1</td>\n",
              "      <td>[Bank of America, Goldman Sachs, JPMorgan, Uni...</td>\n",
              "      <td>4</td>\n",
              "      <td>[BAC, GS, JPM, UNP]</td>\n",
              "    </tr>\n",
              "    <tr>\n",
              "      <th>1</th>\n",
              "      <td>2</td>\n",
              "      <td>[Cardinal Health, CVS Health]</td>\n",
              "      <td>2</td>\n",
              "      <td>[CAH, CVS]</td>\n",
              "    </tr>\n",
              "    <tr>\n",
              "      <th>2</th>\n",
              "      <td>3</td>\n",
              "      <td>[Teladoc]</td>\n",
              "      <td>1</td>\n",
              "      <td>[TDOC]</td>\n",
              "    </tr>\n",
              "  </tbody>\n",
              "</table>\n",
              "</div>\n",
              "      <button class=\"colab-df-convert\" onclick=\"convertToInteractive('df-2b0cdd83-f698-4533-9fe7-a264bd44057b')\"\n",
              "              title=\"Convert this dataframe to an interactive table.\"\n",
              "              style=\"display:none;\">\n",
              "        \n",
              "  <svg xmlns=\"http://www.w3.org/2000/svg\" height=\"24px\"viewBox=\"0 0 24 24\"\n",
              "       width=\"24px\">\n",
              "    <path d=\"M0 0h24v24H0V0z\" fill=\"none\"/>\n",
              "    <path d=\"M18.56 5.44l.94 2.06.94-2.06 2.06-.94-2.06-.94-.94-2.06-.94 2.06-2.06.94zm-11 1L8.5 8.5l.94-2.06 2.06-.94-2.06-.94L8.5 2.5l-.94 2.06-2.06.94zm10 10l.94 2.06.94-2.06 2.06-.94-2.06-.94-.94-2.06-.94 2.06-2.06.94z\"/><path d=\"M17.41 7.96l-1.37-1.37c-.4-.4-.92-.59-1.43-.59-.52 0-1.04.2-1.43.59L10.3 9.45l-7.72 7.72c-.78.78-.78 2.05 0 2.83L4 21.41c.39.39.9.59 1.41.59.51 0 1.02-.2 1.41-.59l7.78-7.78 2.81-2.81c.8-.78.8-2.07 0-2.86zM5.41 20L4 18.59l7.72-7.72 1.47 1.35L5.41 20z\"/>\n",
              "  </svg>\n",
              "      </button>\n",
              "      \n",
              "  <style>\n",
              "    .colab-df-container {\n",
              "      display:flex;\n",
              "      flex-wrap:wrap;\n",
              "      gap: 12px;\n",
              "    }\n",
              "\n",
              "    .colab-df-convert {\n",
              "      background-color: #E8F0FE;\n",
              "      border: none;\n",
              "      border-radius: 50%;\n",
              "      cursor: pointer;\n",
              "      display: none;\n",
              "      fill: #1967D2;\n",
              "      height: 32px;\n",
              "      padding: 0 0 0 0;\n",
              "      width: 32px;\n",
              "    }\n",
              "\n",
              "    .colab-df-convert:hover {\n",
              "      background-color: #E2EBFA;\n",
              "      box-shadow: 0px 1px 2px rgba(60, 64, 67, 0.3), 0px 1px 3px 1px rgba(60, 64, 67, 0.15);\n",
              "      fill: #174EA6;\n",
              "    }\n",
              "\n",
              "    [theme=dark] .colab-df-convert {\n",
              "      background-color: #3B4455;\n",
              "      fill: #D2E3FC;\n",
              "    }\n",
              "\n",
              "    [theme=dark] .colab-df-convert:hover {\n",
              "      background-color: #434B5C;\n",
              "      box-shadow: 0px 1px 3px 1px rgba(0, 0, 0, 0.15);\n",
              "      filter: drop-shadow(0px 1px 2px rgba(0, 0, 0, 0.3));\n",
              "      fill: #FFFFFF;\n",
              "    }\n",
              "  </style>\n",
              "\n",
              "      <script>\n",
              "        const buttonEl =\n",
              "          document.querySelector('#df-2b0cdd83-f698-4533-9fe7-a264bd44057b button.colab-df-convert');\n",
              "        buttonEl.style.display =\n",
              "          google.colab.kernel.accessAllowed ? 'block' : 'none';\n",
              "\n",
              "        async function convertToInteractive(key) {\n",
              "          const element = document.querySelector('#df-2b0cdd83-f698-4533-9fe7-a264bd44057b');\n",
              "          const dataTable =\n",
              "            await google.colab.kernel.invokeFunction('convertToInteractive',\n",
              "                                                     [key], {});\n",
              "          if (!dataTable) return;\n",
              "\n",
              "          const docLinkHtml = 'Like what you see? Visit the ' +\n",
              "            '<a target=\"_blank\" href=https://colab.research.google.com/notebooks/data_table.ipynb>data table notebook</a>'\n",
              "            + ' to learn more about interactive tables.';\n",
              "          element.innerHTML = '';\n",
              "          dataTable['output_type'] = 'display_data';\n",
              "          await google.colab.output.renderOutput(dataTable, element);\n",
              "          const docLink = document.createElement('div');\n",
              "          docLink.innerHTML = docLinkHtml;\n",
              "          element.appendChild(docLink);\n",
              "        }\n",
              "      </script>\n",
              "    </div>\n",
              "  </div>\n",
              "  "
            ]
          },
          "metadata": {},
          "execution_count": 34
        }
      ],
      "source": [
        "from sklearn import cluster\n",
        "                                                    #each symbol, at index, is labeled with a cluster id:\n",
        "_, labels = cluster.affinity_propagation(edge_model.covariance_, random_state=0)\n",
        "n_labels = labels.max()                             #integer limit to list of clusters ids    \n",
        "# print(\"names: \",names,\"  symbols: \",sym)\n",
        "gdf = pd.DataFrame()\n",
        "for i in range(n_labels + 1):\n",
        "    print(f\"Cluster {i + 1}: {', '.join(np.array(sym)[labels == i])}\")\n",
        "    l = np.array(sym)[labels == i]\n",
        "    ss = np.array(names)[labels == i]\n",
        "    dict = {\"cluster\":(i+1), \"symbols\":l, \"size\":len(l), \"names\":ss}\n",
        "    gdf = gdf.append(dict, ignore_index=True, sort=True)\n",
        "    \n",
        "gdf.head(15)\n"
      ]
    },
    {
      "cell_type": "markdown",
      "id": "8288af93-98fc-4bf6-86e1-63f14329185d",
      "metadata": {
        "id": "8288af93-98fc-4bf6-86e1-63f14329185d"
      },
      "source": [
        "**Visualizing cluster and affine commodities, by volatility**\n",
        "\n",
        "The interactive graphic requires the user to hover over each dot, in teh scatter chart. The size of the commodity cluster pushes it to the top, where the user can study the members, whose prices move in covariant fashion. \n",
        "\n",
        "I have experimented with laying the text of the commodity group over the dots, but I find that the above table is most helpful, in identifying markets which move in tandem, and with similar price graphs. Also, as groups expand and contract, overlaying text on the chart below may prevent certain clusters from appearing. I appreciate spacing them out, and not congesting the chart. \n",
        "\n",
        "The user is free to study where his or her chosen commodity may sit, in close relation to other globally relevant commodities."
      ]
    },
    {
      "cell_type": "code",
      "execution_count": 35,
      "id": "5aef26d7-c4d9-45e7-86fd-1cdcdad04f68",
      "metadata": {
        "id": "5aef26d7-c4d9-45e7-86fd-1cdcdad04f68",
        "colab": {
          "base_uri": "https://localhost:8080/"
        },
        "outputId": "503d4ab8-b694-4a46-b50b-93f1c673f80e"
      },
      "outputs": [
        {
          "output_type": "stream",
          "name": "stdout",
          "text": [
            "cluster  1\n",
            "['Bank of America' 'Goldman Sachs' 'JPMorgan' 'Union Pacific'] , \n",
            "cluster  2\n",
            "['Cardinal Health' 'CVS Health'] , \n",
            "cluster  3\n",
            "['Teladoc'] , \n"
          ]
        }
      ],
      "source": [
        "for i in gdf['cluster']:\n",
        "    print(\"cluster \",i)\n",
        "    d = gdf[gdf['cluster'].eq(i)]\n",
        "    for j in d.names:\n",
        "        print(j, \", \")"
      ]
    },
    {
      "cell_type": "code",
      "execution_count": 36,
      "id": "e9fc3447-18c9-4a13-96dc-b3a1e54eaf3f",
      "metadata": {
        "id": "e9fc3447-18c9-4a13-96dc-b3a1e54eaf3f",
        "colab": {
          "base_uri": "https://localhost:8080/",
          "height": 481
        },
        "outputId": "645d3e7b-c84b-4032-d40e-cb301e1d8dfb"
      },
      "outputs": [
        {
          "output_type": "execute_result",
          "data": {
            "text/html": [
              "\n",
              "<div id=\"altair-viz-f2925d61cfc64666a7bd4df778b446e1\"></div>\n",
              "<script type=\"text/javascript\">\n",
              "  var VEGA_DEBUG = (typeof VEGA_DEBUG == \"undefined\") ? {} : VEGA_DEBUG;\n",
              "  (function(spec, embedOpt){\n",
              "    let outputDiv = document.currentScript.previousElementSibling;\n",
              "    if (outputDiv.id !== \"altair-viz-f2925d61cfc64666a7bd4df778b446e1\") {\n",
              "      outputDiv = document.getElementById(\"altair-viz-f2925d61cfc64666a7bd4df778b446e1\");\n",
              "    }\n",
              "    const paths = {\n",
              "      \"vega\": \"https://cdn.jsdelivr.net/npm//vega@5?noext\",\n",
              "      \"vega-lib\": \"https://cdn.jsdelivr.net/npm//vega-lib?noext\",\n",
              "      \"vega-lite\": \"https://cdn.jsdelivr.net/npm//vega-lite@4.17.0?noext\",\n",
              "      \"vega-embed\": \"https://cdn.jsdelivr.net/npm//vega-embed@6?noext\",\n",
              "    };\n",
              "\n",
              "    function maybeLoadScript(lib, version) {\n",
              "      var key = `${lib.replace(\"-\", \"\")}_version`;\n",
              "      return (VEGA_DEBUG[key] == version) ?\n",
              "        Promise.resolve(paths[lib]) :\n",
              "        new Promise(function(resolve, reject) {\n",
              "          var s = document.createElement('script');\n",
              "          document.getElementsByTagName(\"head\")[0].appendChild(s);\n",
              "          s.async = true;\n",
              "          s.onload = () => {\n",
              "            VEGA_DEBUG[key] = version;\n",
              "            return resolve(paths[lib]);\n",
              "          };\n",
              "          s.onerror = () => reject(`Error loading script: ${paths[lib]}`);\n",
              "          s.src = paths[lib];\n",
              "        });\n",
              "    }\n",
              "\n",
              "    function showError(err) {\n",
              "      outputDiv.innerHTML = `<div class=\"error\" style=\"color:red;\">${err}</div>`;\n",
              "      throw err;\n",
              "    }\n",
              "\n",
              "    function displayChart(vegaEmbed) {\n",
              "      vegaEmbed(outputDiv, spec, embedOpt)\n",
              "        .catch(err => showError(`Javascript Error: ${err.message}<br>This usually means there's a typo in your chart specification. See the javascript console for the full traceback.`));\n",
              "    }\n",
              "\n",
              "    if(typeof define === \"function\" && define.amd) {\n",
              "      requirejs.config({paths});\n",
              "      require([\"vega-embed\"], displayChart, err => showError(`Error loading script: ${err.message}`));\n",
              "    } else {\n",
              "      maybeLoadScript(\"vega\", \"5\")\n",
              "        .then(() => maybeLoadScript(\"vega-lite\", \"4.17.0\"))\n",
              "        .then(() => maybeLoadScript(\"vega-embed\", \"6\"))\n",
              "        .catch(showError)\n",
              "        .then(() => displayChart(vegaEmbed));\n",
              "    }\n",
              "  })({\"config\": {\"view\": {\"continuousWidth\": 400, \"continuousHeight\": 300}}, \"data\": {\"name\": \"data-7f22501ae746acf003366f920ed23226\"}, \"mark\": {\"type\": \"circle\", \"size\": 60}, \"encoding\": {\"color\": {\"field\": \"size\", \"type\": \"quantitative\"}, \"size\": {\"field\": \"size\", \"type\": \"quantitative\"}, \"tooltip\": [{\"field\": \"names\", \"type\": \"nominal\"}], \"x\": {\"field\": \"cluster\", \"type\": \"nominal\"}, \"y\": {\"field\": \"size\", \"type\": \"quantitative\"}}, \"height\": 400, \"selection\": {\"selector002\": {\"type\": \"interval\", \"bind\": \"scales\", \"encodings\": [\"x\", \"y\"]}}, \"title\": \"40 Top Global Commodities, Clustered by Affine Covariance\", \"width\": 800, \"$schema\": \"https://vega.github.io/schema/vega-lite/v4.17.0.json\", \"datasets\": {\"data-7f22501ae746acf003366f920ed23226\": [{\"cluster\": 1, \"names\": [\"Bank of America\", \"Goldman Sachs\", \"JPMorgan\", \"Union Pacific\"], \"size\": 4, \"symbols\": [\"BAC\", \"GS\", \"JPM\", \"UNP\"]}, {\"cluster\": 2, \"names\": [\"Cardinal Health\", \"CVS Health\"], \"size\": 2, \"symbols\": [\"CAH\", \"CVS\"]}, {\"cluster\": 3, \"names\": [\"Teladoc\"], \"size\": 1, \"symbols\": [\"TDOC\"]}]}}, {\"mode\": \"vega-lite\"});\n",
              "</script>"
            ],
            "text/plain": [
              "alt.Chart(...)"
            ]
          },
          "metadata": {},
          "execution_count": 36
        }
      ],
      "source": [
        "import altair as alt\n",
        "def runCluster():\n",
        "    c = alt.Chart(gdf).mark_circle(size=60).encode(\n",
        "        x= alt.X('cluster:N'),\n",
        "        y= alt.Y('size:Q'),\n",
        "        color='size:Q',\n",
        "        tooltip=['names'],\n",
        "        size=alt.Size('size:Q')\n",
        "    ).properties(\n",
        "        width=800,\n",
        "        height=400,\n",
        "        title=\"40 Top Global Commodities, Clustered by Affine Covariance\"\n",
        "    ).interactive()\n",
        "    #.configure_title(\"40 Top Global Commodities, Clustered by Affine Covariance\")\n",
        "        \n",
        "    chart =c \n",
        "    return chart\n",
        "runCluster()\n"
      ]
    },
    {
      "cell_type": "markdown",
      "id": "5079bf29-0361-4c9b-9919-87291a0d5418",
      "metadata": {
        "id": "5079bf29-0361-4c9b-9919-87291a0d5418"
      },
      "source": []
    },
    {
      "cell_type": "markdown",
      "id": "1ffdcdd3-d682-420d-9b97-4513126f4802",
      "metadata": {
        "id": "1ffdcdd3-d682-420d-9b97-4513126f4802"
      },
      "source": [
        "**References**\n",
        "\n",
        "1. Gael Varoquaux. Visualizing the Stock Market Structure. Scikit-Learn documentation pages, https://scikit-learn.org/stable/auto_examples/applications/plot_stock_market.html\n",
        "2. Ran Aroussi. YFinance API documents. https://github.com/ranaroussi/yfinance\n",
        "3. The Altair Charting Toolkit. https://altair-viz.github.io/index.html"
      ]
    },
    {
      "cell_type": "code",
      "source": [
        "!pip install plotly"
      ],
      "metadata": {
        "id": "-SGY7b8lHs7S",
        "colab": {
          "base_uri": "https://localhost:8080/"
        },
        "outputId": "96b61adc-c47e-4ccf-d5be-8ebc0b7cdca3"
      },
      "id": "-SGY7b8lHs7S",
      "execution_count": 37,
      "outputs": [
        {
          "output_type": "stream",
          "name": "stdout",
          "text": [
            "Looking in indexes: https://pypi.org/simple, https://us-python.pkg.dev/colab-wheels/public/simple/\n",
            "Requirement already satisfied: plotly in /usr/local/lib/python3.10/dist-packages (5.13.1)\n",
            "Requirement already satisfied: tenacity>=6.2.0 in /usr/local/lib/python3.10/dist-packages (from plotly) (8.2.2)\n"
          ]
        }
      ]
    },
    {
      "cell_type": "code",
      "source": [
        "import plotly.graph_objects as go\n",
        "import pandas as pd\n",
        "from datetime import datetime\n",
        "\n",
        "df_symbol = pd.read_csv('GS')    #no .csv"
      ],
      "metadata": {
        "id": "ZpUoUD1rHppJ"
      },
      "id": "ZpUoUD1rHppJ",
      "execution_count": 39,
      "outputs": []
    },
    {
      "cell_type": "code",
      "source": [
        "df_symbol.columns"
      ],
      "metadata": {
        "id": "wlyoT3dLIyow",
        "colab": {
          "base_uri": "https://localhost:8080/"
        },
        "outputId": "4674d020-0d0d-41ca-f868-49cbf5f54938"
      },
      "id": "wlyoT3dLIyow",
      "execution_count": 40,
      "outputs": [
        {
          "output_type": "execute_result",
          "data": {
            "text/plain": [
              "Index(['Date', 'Open', 'High', 'Low', 'Close', 'Volume'], dtype='object')"
            ]
          },
          "metadata": {},
          "execution_count": 40
        }
      ]
    },
    {
      "cell_type": "code",
      "source": [
        "df_symbol.head(2)"
      ],
      "metadata": {
        "id": "obHrsWBCI-8H",
        "colab": {
          "base_uri": "https://localhost:8080/",
          "height": 112
        },
        "outputId": "74fe584e-c055-4341-b3cb-08c9058a99f6"
      },
      "id": "obHrsWBCI-8H",
      "execution_count": 41,
      "outputs": [
        {
          "output_type": "execute_result",
          "data": {
            "text/plain": [
              "         Date        Open        High         Low       Close   Volume\n",
              "0  2021-12-13  378.424906  378.424906  370.173253  372.088654  2313300\n",
              "1  2021-12-14  371.043895  379.692173  370.753696  376.132263  2788500"
            ],
            "text/html": [
              "\n",
              "  <div id=\"df-97ed0898-ac92-4789-8981-1c290e1781c5\">\n",
              "    <div class=\"colab-df-container\">\n",
              "      <div>\n",
              "<style scoped>\n",
              "    .dataframe tbody tr th:only-of-type {\n",
              "        vertical-align: middle;\n",
              "    }\n",
              "\n",
              "    .dataframe tbody tr th {\n",
              "        vertical-align: top;\n",
              "    }\n",
              "\n",
              "    .dataframe thead th {\n",
              "        text-align: right;\n",
              "    }\n",
              "</style>\n",
              "<table border=\"1\" class=\"dataframe\">\n",
              "  <thead>\n",
              "    <tr style=\"text-align: right;\">\n",
              "      <th></th>\n",
              "      <th>Date</th>\n",
              "      <th>Open</th>\n",
              "      <th>High</th>\n",
              "      <th>Low</th>\n",
              "      <th>Close</th>\n",
              "      <th>Volume</th>\n",
              "    </tr>\n",
              "  </thead>\n",
              "  <tbody>\n",
              "    <tr>\n",
              "      <th>0</th>\n",
              "      <td>2021-12-13</td>\n",
              "      <td>378.424906</td>\n",
              "      <td>378.424906</td>\n",
              "      <td>370.173253</td>\n",
              "      <td>372.088654</td>\n",
              "      <td>2313300</td>\n",
              "    </tr>\n",
              "    <tr>\n",
              "      <th>1</th>\n",
              "      <td>2021-12-14</td>\n",
              "      <td>371.043895</td>\n",
              "      <td>379.692173</td>\n",
              "      <td>370.753696</td>\n",
              "      <td>376.132263</td>\n",
              "      <td>2788500</td>\n",
              "    </tr>\n",
              "  </tbody>\n",
              "</table>\n",
              "</div>\n",
              "      <button class=\"colab-df-convert\" onclick=\"convertToInteractive('df-97ed0898-ac92-4789-8981-1c290e1781c5')\"\n",
              "              title=\"Convert this dataframe to an interactive table.\"\n",
              "              style=\"display:none;\">\n",
              "        \n",
              "  <svg xmlns=\"http://www.w3.org/2000/svg\" height=\"24px\"viewBox=\"0 0 24 24\"\n",
              "       width=\"24px\">\n",
              "    <path d=\"M0 0h24v24H0V0z\" fill=\"none\"/>\n",
              "    <path d=\"M18.56 5.44l.94 2.06.94-2.06 2.06-.94-2.06-.94-.94-2.06-.94 2.06-2.06.94zm-11 1L8.5 8.5l.94-2.06 2.06-.94-2.06-.94L8.5 2.5l-.94 2.06-2.06.94zm10 10l.94 2.06.94-2.06 2.06-.94-2.06-.94-.94-2.06-.94 2.06-2.06.94z\"/><path d=\"M17.41 7.96l-1.37-1.37c-.4-.4-.92-.59-1.43-.59-.52 0-1.04.2-1.43.59L10.3 9.45l-7.72 7.72c-.78.78-.78 2.05 0 2.83L4 21.41c.39.39.9.59 1.41.59.51 0 1.02-.2 1.41-.59l7.78-7.78 2.81-2.81c.8-.78.8-2.07 0-2.86zM5.41 20L4 18.59l7.72-7.72 1.47 1.35L5.41 20z\"/>\n",
              "  </svg>\n",
              "      </button>\n",
              "      \n",
              "  <style>\n",
              "    .colab-df-container {\n",
              "      display:flex;\n",
              "      flex-wrap:wrap;\n",
              "      gap: 12px;\n",
              "    }\n",
              "\n",
              "    .colab-df-convert {\n",
              "      background-color: #E8F0FE;\n",
              "      border: none;\n",
              "      border-radius: 50%;\n",
              "      cursor: pointer;\n",
              "      display: none;\n",
              "      fill: #1967D2;\n",
              "      height: 32px;\n",
              "      padding: 0 0 0 0;\n",
              "      width: 32px;\n",
              "    }\n",
              "\n",
              "    .colab-df-convert:hover {\n",
              "      background-color: #E2EBFA;\n",
              "      box-shadow: 0px 1px 2px rgba(60, 64, 67, 0.3), 0px 1px 3px 1px rgba(60, 64, 67, 0.15);\n",
              "      fill: #174EA6;\n",
              "    }\n",
              "\n",
              "    [theme=dark] .colab-df-convert {\n",
              "      background-color: #3B4455;\n",
              "      fill: #D2E3FC;\n",
              "    }\n",
              "\n",
              "    [theme=dark] .colab-df-convert:hover {\n",
              "      background-color: #434B5C;\n",
              "      box-shadow: 0px 1px 3px 1px rgba(0, 0, 0, 0.15);\n",
              "      filter: drop-shadow(0px 1px 2px rgba(0, 0, 0, 0.3));\n",
              "      fill: #FFFFFF;\n",
              "    }\n",
              "  </style>\n",
              "\n",
              "      <script>\n",
              "        const buttonEl =\n",
              "          document.querySelector('#df-97ed0898-ac92-4789-8981-1c290e1781c5 button.colab-df-convert');\n",
              "        buttonEl.style.display =\n",
              "          google.colab.kernel.accessAllowed ? 'block' : 'none';\n",
              "\n",
              "        async function convertToInteractive(key) {\n",
              "          const element = document.querySelector('#df-97ed0898-ac92-4789-8981-1c290e1781c5');\n",
              "          const dataTable =\n",
              "            await google.colab.kernel.invokeFunction('convertToInteractive',\n",
              "                                                     [key], {});\n",
              "          if (!dataTable) return;\n",
              "\n",
              "          const docLinkHtml = 'Like what you see? Visit the ' +\n",
              "            '<a target=\"_blank\" href=https://colab.research.google.com/notebooks/data_table.ipynb>data table notebook</a>'\n",
              "            + ' to learn more about interactive tables.';\n",
              "          element.innerHTML = '';\n",
              "          dataTable['output_type'] = 'display_data';\n",
              "          await google.colab.output.renderOutput(dataTable, element);\n",
              "          const docLink = document.createElement('div');\n",
              "          docLink.innerHTML = docLinkHtml;\n",
              "          element.appendChild(docLink);\n",
              "        }\n",
              "      </script>\n",
              "    </div>\n",
              "  </div>\n",
              "  "
            ]
          },
          "metadata": {},
          "execution_count": 41
        }
      ]
    },
    {
      "cell_type": "code",
      "source": [
        "fig = go.Figure(data=[go.Candlestick(x=df_symbol['Date'],\n",
        "                open=df_symbol['Open'],\n",
        "                high=df_symbol['High'],\n",
        "                low=df_symbol['Low'],\n",
        "                close=df_symbol['Close'])])\n",
        "fig.show()"
      ],
      "metadata": {
        "id": "9fQGEnT9It6o",
        "colab": {
          "base_uri": "https://localhost:8080/",
          "height": 542
        },
        "outputId": "16e0ef05-af56-42ff-cddc-3eb720628dc1"
      },
      "id": "9fQGEnT9It6o",
      "execution_count": 42,
      "outputs": [
        {
          "output_type": "display_data",
          "data": {
            "text/html": [
              "<html>\n",
              "<head><meta charset=\"utf-8\" /></head>\n",
              "<body>\n",
              "    <div>            <script src=\"https://cdnjs.cloudflare.com/ajax/libs/mathjax/2.7.5/MathJax.js?config=TeX-AMS-MML_SVG\"></script><script type=\"text/javascript\">if (window.MathJax && window.MathJax.Hub && window.MathJax.Hub.Config) {window.MathJax.Hub.Config({SVG: {font: \"STIX-Web\"}});}</script>                <script type=\"text/javascript\">window.PlotlyConfig = {MathJaxConfig: 'local'};</script>\n",
              "        <script src=\"https://cdn.plot.ly/plotly-2.18.2.min.js\"></script>                <div id=\"1586719f-3705-49d8-8b3e-2d89b30fda5c\" class=\"plotly-graph-div\" style=\"height:525px; width:100%;\"></div>            <script type=\"text/javascript\">                                    window.PLOTLYENV=window.PLOTLYENV || {};                                    if (document.getElementById(\"1586719f-3705-49d8-8b3e-2d89b30fda5c\")) {                    Plotly.newPlot(                        \"1586719f-3705-49d8-8b3e-2d89b30fda5c\",                        [{\"close\":[372.0886535644531,376.13226318359375,377.1866760253906,384.4032287597656,369.3413391113281,359.4838256835937,367.90960693359375,369.85400390625,372.4756164550781,375.3777160644531,374.9617309570313,373.5977478027344,372.9399108886719,370.0668640136719,382.4298095703125,394.183349609375,385.6221618652344,383.9776306152344,384.5386962890625,386.14453125,389.8978576660156,377.5736389160156,378.0476684570313,368.5093994140625,342.83544921875,335.9864807128906,336.740966796875,332.687744140625,332.1847229003906,330.4047546386719,331.49786376953125,329.9017639160156,335.68658447265625,343.1062927246094,352.1802062988281,351.2128601074219,347.16925048828125,355.604736328125,356.13671875,358.0231018066406,362.3085632324219,358.4778137207031,351.2128601074219,348.4848937988281,352.06414794921875,348.3010559082031,337.669677734375,334.7482604980469,333.03594970703125,330.0565185546875,329.0891418457031,338.695068359375,330.1532287597656,319.36187744140625,327.32159423828125,324.4412841796875,320.79229736328125,313.2218017578125,312.7157897949219,324.6067199707031,321.0160522460937,318.1941833496094,316.2286071777344,320.2960205078125,331.5836486816406,334.0260314941406,336.0792541503906,329.8710327148437,333.7730712890625,326.57232666015625,327.1756286621094,328.4017028808594,326.2706298828125,330.5132751464844,326.5528564453125,321.2107238769531,321.3274841308594,319.37158203125,315.2360534667969,307.7434387207031,305.6902160644531,312.7352905273437,312.1222229003906,311.16864013671875,313.29962158203125,312.9785461425781,320.99664306640625,326.9031982421875,331.8755798339844,325.2975769042969,311.15887451171875,312.7644958496094,304.6879272460937,304.79498291015625,309.8354797363281,297.263427734375,302.0606994628906,306.1864624023437,315.3819885253906,304.6393127441406,304.5322570800781,300.5718688964844,296.8450012207031,293.4295349121094,291.34716796875,298.7230224609375,295.2686462402344,304.5420227050781,298.4700622558594,299.9004821777344,298.5381774902344,308.0839538574219,305.4956359863281,306.4200134277344,314.9149475097656,319.73162841796875,319.9960021972656,315.1008605957031,317.45050048828125,311.997314453125,313.7889709472656,314.7679748535156,308.0811767578125,297.8405456542969,281.0011901855469,277.3788146972656,276.6151733398437,283.9872741699219,279.0040283203125,273.9228515625,278.8375244140625,278.5732421875,280.1690673828125,296.4013366699219,294.4726867675781,293.209716796875,296.9202575683594,290.79150390625,292.9552001953125,290.9677429199219,287.5998840332031,292.33837890625,290.2530212402344,287.0320129394531,286.3956604003906,284.0655517578125,275.6850891113281,287.7075500488281,294.942626953125,311.3805236816406,314.709228515625,319.6925048828125,317.13720703125,317.3232116699219,311.8700256347656,317.73443603515625,322.20855712890625,326.3988647460937,325.1163024902344,321.00439453125,326.1834716796875,324.91070556640625,327.6520080566406,327.6617736816406,329.56109619140625,340.6143798828125,344.3052978515625,346.40045166015625,348.3878479003906,347.5263061523437,346.32208251953125,347.0857238769531,341.9458312988281,335.239501953125,333.04644775390625,334.7695617675781,339.22412109375,329.3457336425781,326.917724609375,326.6337890625,328.1529235839844,328.9716186523437,326.97906494140625,322.0567932128906,326.071533203125,330.8260803222656,335.4820251464844,337.9283142089844,323.9310302734375,322.8163757324219,327.1171264648437,321.78057861328125,324.1973571777344,318.8706970214844,316.35528564453125,308.6710510253906,297.8697509765625,290.6195678710937,287.42352294921875,296.7057800292969,292.0893249511719,289.0708312988281,295.0880126953125,310.5945739746094,304.8042907714844,300.5330810546875,296.9918212890625,296.4591979980469,290.215087890625,291.3001708984375,302.9004821777344,295.9166259765625,302.5453796386719,309.58843994140625,307.5268249511719,306.5897216796875,320.6856689453125,324.2367858886719,327.88653564453125,331.13189697265625,332.6016540527344,337.1786499023437,339.8321228027344,343.8468322753906,345.0404357910156,344.1329345703125,353.0502014160156,357.63702392578125,359.0771789550781,357.08465576171875,373.1731567382813,379.9400329589844,377.1681823730469,377.6811218261719,377.1385803222656,374.6232299804688,374.0511169433594,375.04736328125,378.6576843261719,381.00537109375,383.5799255371094,377.1681823730469,378.4998474121094,383.40472412109375,381.0813598632813,377.8742980957031,368.8985900878906,360.3299560546875,357.3612060546875,355.5342712402344,356.5867614746094,360.5980224609375,366.06884765625,357.81793212890625,347.3429260253906,343.8876953125,342.1600341796875,342.0408935546875,347.67059326171875,343.1231384277344,343.0536499023437,339.538818359375,338.4466247558594,340.9884338378906,340.9388122558594,343.75860595703125,345.22808837890625,341.31610107421875,345.6053771972656,350.4903869628906,354.81939697265625,361.8887939453125,367.3099670410156,371.3410949707031,347.43231201171875,346.6081848144531,348.25640869140625,339.40972900390625,346.6578674316406,345.85357666015625,347.1443786621094,352.4464111328125,351.1854248046875,354.9186706542969,363.2093200683594,363.1100463867188,366.8433227539063,367.3199157714844,368.1638488769531,371.7382507324219,372.4332885742188,365.3738098144531,368.6404418945313,371.3609619140625,369.1369018554688,371.6786804199219,367.5681457519531,365.8802185058594,358.5526733398437,358.3243103027344,360.9554748535156,361.2632751464844,362.9313354492188,349.1499938964844,346.2300109863281,349.1000061035156,357.0899963378906,357.04998779296875,346.0799865722656,349.2900085449219,342.0899963378906,327.6700134277344,315.510009765625,322.1499938964844,312.19000244140625,315.0899963378906,303.5400085449219,309.5299987792969,317.2799987792969,313.6700134277344,314.8500061035156,312.57000732421875,318.5299987792969,318.44000244140625,320.7200012207031,321.1400146484375,327.1099853515625,326.5199890136719,322.6499938964844,321.5299987792969,322.3999938964844,324.9599914550781,327.3699951171875,330.239990234375,332.1300048828125,336.9200134277344,339.67999267578125,333.9100036621094,336.8900146484375,338.7099914550781,341.6600036621094,343.9599914550781,339.4800109863281,336.5599975585937,341.6000061035156,343.44000244140625,340.57000732421875,333.3699951171875,328.6499938964844,321.260009765625,327.0199890136719,326.510009765625,324.7699890136719,322.54998779296875,320.7200012207031,319.5,322.07000732421875,320.8099975585937,330.17999267578125,329.5799865722656,326.1499938964844,324.9200134277344,323.57000732421875,319.8099975585937,323.8800048828125],\"high\":[378.4249057637386,379.6921725184199,378.6280457223354,386.7926302141931,380.824029795979,363.3726662890186,369.6218386062801,371.47920550314825,374.9617313368698,376.4127780195974,378.5603433498776,376.7513492176952,377.06091033786186,374.3716663005036,386.2702640321444,396.8919697559834,399.1943425690666,388.1083136388007,387.47947553653705,391.1748301813749,390.1784027939018,390.9329970268382,383.91960343174185,371.8468329160214,349.77149554136867,347.9721627249552,345.5246594232352,337.6019637184079,332.842526473421,331.7397281154744,339.0433565399712,337.3891886005096,335.822000724194,343.61899690885514,352.6445538495736,356.5043678098208,353.8247512295434,358.8454273437906,359.3483893578384,360.4898797697634,364.0014582948288,365.0849287213119,362.666501393862,352.4027547778826,353.95052862063056,351.1741418581862,349.1813580534365,338.57903213843787,337.6116134338335,337.8631907991355,329.87270808675,339.25615864451703,332.62000681381994,329.0536551747587,328.8979643456566,332.30368329817554,321.7556280537202,318.9629140462297,321.6583137248042,328.3822398373252,322.90381198119525,327.5453804167107,322.6897828266953,322.9622252670076,332.1382765246784,334.3471615153304,337.431807347958,336.97443835517515,336.9160714073244,331.6517581974156,328.41141797408415,332.6248272078066,329.384468345179,334.7363994127932,330.70785845556526,327.43837196628147,325.1613859759519,322.9330249800946,320.8604023132226,311.9860139544675,307.3249680428838,314.9636016479178,320.04300436923444,318.31097764309374,313.94185190410366,324.06180852135856,323.70177906335766,328.1195369323344,335.6121687635579,337.99616945586644,323.54607789889565,313.4845588914833,312.9395784045623,310.6431183312504,310.7598791870589,310.4874580575931,302.9850990543492,310.9155722504453,316.0534098079593,312.04436801375044,305.2620602467645,305.3204296966606,306.66328286762,302.53749450233664,294.73346546370954,301.2919438597111,298.21704997894483,305.85567445388875,304.4349622163653,301.64225781766305,304.1722670190133,313.1633849860044,307.2957934834155,309.04731667565227,316.734585384152,319.8192309326583,322.805813874414,322.36524759665804,318.38059100668386,315.73721671790275,318.3903948431463,315.09104163814425,312.8490484415193,307.5525376349651,292.3873142850024,280.4138139783558,283.1159176797005,288.3048005858191,280.12990703914767,280.2571777709475,282.02917168910426,280.0124176769679,280.5802433087797,296.7733728555758,297.9384618577903,302.4909329549084,300.99302650732824,294.03209108418963,294.0321094495885,291.1145914519516,291.1047985511645,292.7985242248562,294.5803469259359,290.3215693297982,292.80829530077585,285.0837513351369,278.2795129651505,290.2138645346615,304.7231284051927,312.4476928252026,315.41413136239123,320.2994987789418,322.14983626655413,320.4267500417577,317.48967871169225,319.5456476900693,323.0603383477092,328.1513071420112,327.779265557572,324.87154550645386,328.47439852919064,327.28974147331456,329.8450258618606,331.7345423211731,331.07861072099547,342.3668522006411,348.58365460135985,347.1249244036569,351.0997503722994,348.99485126160897,348.13329409902747,347.65357803956186,344.48151566530333,337.3052411349719,336.854889132784,337.09965823460493,339.5863574410454,341.42696200401474,329.34569999065565,328.9638852813139,330.5893864123535,329.1590411731753,335.6990288633579,328.7250131654905,327.64981383950243,331.2502343845977,336.39939009986085,339.6940173840516,331.9506132532866,326.43652651988,330.72743313642104,324.5327032797159,324.81880766072914,322.36260825986574,325.3120112740696,318.9988860706166,305.5835756110747,297.99801331453034,295.0880077393967,298.3037783046185,295.2853518367299,297.0016692122976,297.1397864607723,310.8806446763461,305.9978525426968,304.88317380449064,301.0065646854637,300.5824336441076,298.4122489044664,295.70947681517566,304.56753705829465,307.38871476967205,307.3887136133257,320.07410686586064,310.51568136320367,311.7585616789815,321.3465545610973,326.742275031444,329.07025361239965,334.07144442335647,337.2871570216772,337.9283098734384,341.4794300545288,343.95535430637705,352.5865553580718,345.9085116969173,353.5138208285416,358.03158655731926,362.20414866343066,362.1647215012245,375.26436573422666,381.7451712987881,382.0411079225928,384.29012874326577,380.1669020456415,376.5368904762969,377.6318023918882,375.5997569913436,380.5910623841584,382.92890539686266,384.1520669775082,383.1163340538966,379.7032830436071,383.40472412109375,383.7522381492231,379.800508318823,376.1764650130214,367.7369119557416,362.70293214930905,360.0122177757474,359.06898809187777,361.422138676705,375.868673295666,366.2078398199016,353.5782781540346,345.3075217219767,345.9230982474592,344.9500862151499,348.3854757409655,345.57557955192766,345.2876538109537,345.2777251308333,340.4125591147104,342.1898533590884,341.2466059477642,346.1216905789535,347.8195184104944,342.6862950254759,346.5188499621029,353.9655041140808,354.9584162114137,362.90153149708186,367.4688331800327,371.68861275071896,364.1823725463424,352.267673499964,349.6563881970597,349.7457240885592,347.0748645499432,347.809572395435,347.47201925930125,352.4761966416307,353.4591225105711,359.7540430998935,363.3185537943209,366.31709422921466,370.2390222303128,371.9070658223412,368.6206004022947,373.6346754968982,375.6601831841116,376.9807035944619,369.5837001388661,372.3935767073508,374.3694249167054,371.7084659272477,371.5893409283246,368.422016242936,364.1128671432453,360.4192949660923,365.2646166320944,362.5838064009509,367.6674131681239,363.4079195045815,352.5400085449219,349.7799987792969,357.7699890136719,358.8599853515625,356.20001220703125,349.69000244140625,354.2900085449219,339.92999267578125,326.1099853515625,326.3800048828125,312.510009765625,318.32000732421875,310.3999938964844,312.20001220703125,320.32000732421875,322.2200012207031,321.3599853515625,312.75,320.8999938964844,320.6099853515625,322.7099914550781,324.8699951171875,327.3299865722656,328.9800109863281,326.8699951171875,322.20001220703125,323.2300109863281,324.989990234375,329.20001220703125,332.07000732421875,332.94000244140625,339.6300048828125,340.45001220703125,336.54998779296875,336.989990234375,339.3099975585937,342.3599853515625,345.0599975585937,343.4700012207031,340.6000061035156,343.3599853515625,344.1000061035156,347.4599914550781,339.8900146484375,334.8299865722656,326.9800109863281,327.8699951171875,330.29998779296875,327.17999267578125,329.9200134277344,321.94000244140625,323.2200012207031,323.25,323.07000732421875,330.3900146484375,330.6000061035156,331.95001220703125,327.3399963378906,327.1400146484375,321.8999938964844,325.17999267578125],\"low\":[370.1732532059672,370.7536961715694,368.1804771591169,379.0149789523946,368.2095343219346,354.6856857683205,362.5310402609492,366.893858511598,371.05358342287377,372.4369072837083,373.6364406911538,371.87583295545977,372.6303753907583,368.4126718937824,374.700544026116,388.0889099968879,384.90631852568765,373.820259804626,381.6559272732952,381.35604494324514,383.3778034973934,375.8807438525121,377.031943151404,362.76322752827485,335.8994324178802,335.0868349693823,334.8449328815514,329.6018358950561,315.58467392312656,320.11196742813075,327.36721048773654,326.6997757124955,322.5690687301671,332.2330789566636,342.49683727187613,346.153511434328,346.4727439102016,349.2394338161073,351.49336161033204,354.2987270311113,358.7970104652068,356.79457216671767,348.9975776303083,345.52474791514254,349.56832030637395,344.89592903189794,336.489486873458,332.1653731775928,330.06615078756306,328.73122820156976,316.2811904273588,329.0891058464196,326.5352502196077,318.2136312243466,318.5834068619352,321.2398728837577,315.27497228220506,312.2097997215277,309.9717227350865,321.14258992098684,316.01448375617804,317.9119844746374,314.20460297750424,316.0923470993863,325.2586878450886,325.88143295043244,328.2168241350848,328.0708456237067,330.96088202980894,326.1052716103283,325.29757931794927,326.44585047956184,322.5827129032659,327.6621844528888,324.6456458155304,321.2107238769531,318.7488521019946,317.0848595468566,314.7689984208009,307.24716301650994,299.90046205023594,304.57121090751497,310.4387995986848,309.446315174108,306.2448579461088,310.43881559000505,312.0151876940811,321.57075873410673,328.4114495858661,324.3828879194353,310.8669651167335,304.3182169478,304.3765374599407,303.7343392823845,303.7440469717195,296.50443359978965,294.0717655269556,302.9364094841671,303.76354954335915,300.37725746544976,297.8180738857168,296.7671583122012,292.5537550627708,292.8943577646012,285.9855376923393,295.3951366529779,292.4564569903237,299.8323627732084,296.6698750648035,295.2200132291252,291.34719808381647,302.69316261926144,298.17812345247324,301.63252133940523,309.41710273487786,314.4867916240892,315.8938635850297,309.2070799552587,312.535780288325,310.8420660711136,313.0840680261668,310.0196729255486,306.2405954368257,297.64472767835616,280.834771810892,272.4836642044195,275.4011556967743,278.2110024355988,273.2962657035137,272.3172277897264,277.0459127083795,275.1466367247314,273.08086887588144,283.91870399431,292.6125354616055,292.9062198543166,293.62093080026744,286.10197133009376,285.6026742668289,282.3130909823726,284.5061454147566,287.44322865623786,288.88238523490725,285.75928586961794,283.4390003943,279.816565094764,272.01372614526963,279.1704069947003,292.446082191421,297.1356471137307,309.6769996055606,313.1427909666047,315.4337042508093,315.8350967656039,311.096613369565,311.703607052529,315.13998903218976,322.59042325322366,322.11070278996885,320.35823107880174,322.70789689686933,323.6869179750797,322.7568576859697,327.3289070461784,327.5540965062135,334.19194454915294,342.4451466400368,342.8073978965202,341.73042565994945,344.6381554864049,343.41436205751063,343.50247029514577,340.212958782701,333.6143083922838,331.9205691296221,331.39189590106827,334.93596458523626,328.95412756148306,325.04777364476325,324.2351535719269,325.2035022002523,320.2121896270378,325.48955859154427,319.06793683294825,318.86079346072995,322.9149598410117,332.45370331214144,335.47213394370294,322.39218475613137,319.1074205009933,323.1418486174553,315.4477688599603,316.18761784847084,315.6648264095544,316.2763851562676,306.9744047203373,293.4209796404763,288.3409360627035,284.7009897728972,288.48887073016255,287.59124425630006,288.725607829197,287.14733093527656,301.72665314956413,299.47761986602075,299.3000540590476,295.0880347027121,294.37783247417826,289.9290473035066,287.7490469884471,283.84281000330947,295.00913490155415,300.0102988447958,307.76355387375844,303.8770527845482,304.8043008370856,305.28761207893285,321.425478360685,321.49454290699725,329.60295540621865,331.9604859828876,331.4376687720599,335.94561920180286,339.1021467297908,342.0318317104719,337.93820748209885,346.4609115512133,353.6518721098888,356.55194207464626,355.97986827311183,364.7195163188166,373.60719284086815,375.33345248193575,375.48139073481104,374.850104947678,369.91800933426094,372.26569609245735,370.32242530038513,376.2212215799009,378.2039371555677,379.94990092741057,375.7181713899951,374.1102890791154,372.4332943961969,377.7452618068499,375.709803820442,366.68443309317365,357.7682811622276,355.603770261096,353.52864303195645,353.6775688507012,353.8066539857327,362.9114627348524,356.8945511098864,345.4663784355555,340.9685942702839,340.1941300745831,341.0480028953044,344.42385174797454,337.4636798877162,340.67068815933266,339.3601053136986,336.88777919205097,338.81400085730564,336.9870963750612,340.37284516602534,342.62668944408165,337.7218417531635,338.52609204740804,347.01526981170053,348.008181488393,353.6775689018066,359.9923678473049,359.78383351341483,341.5543859903112,345.3273474234048,343.0635794868012,335.80553117229726,333.77013546459403,337.5828111199881,341.4551040695508,347.03514472609464,349.3286938907049,349.89464656785367,354.32293678191394,356.20947425959884,361.9582872493708,362.8419691501152,363.17954861417815,364.7284452158854,369.33547459682046,365.1851581724711,361.9682154679082,365.3837709176007,366.75397024449154,365.6319800278371,366.1780745447252,364.2518632333407,357.52999716337274,355.49456597634827,357.0533915762934,356.9739801941021,361.9185978459804,348.83226161371147,345.9599914550781,340.489990234375,349.5599975585937,353.7300109863281,345.6300048828125,345.1700134277344,341.04998779296875,326.0299987792969,314.5400085449219,318.95001220703125,304.4100036621094,304.9200134277344,301.8699951171875,306.260009765625,315.3500061035156,313.489990234375,312.6400146484375,305.3599853515625,317.1700134277344,316.1199951171875,318.67999267578125,319.8800048828125,322.4200134277344,323.1499938964844,320.1199951171875,319.3699951171875,319.9800109863281,321.3099975585937,323.6700134277344,327.17999267578125,327.0,334.32000732421875,333.67999267578125,326.1300048828125,331.6700134277344,334.32000732421875,336.0,341.5299987792969,338.3299865722656,334.6400146484375,338.760009765625,339.70001220703125,340.3699951171875,330.0,328.25,318.5599975585937,322.4200134277344,325.6700134277344,323.29998779296875,319.0799865722656,318.17999267578125,317.32000732421875,318.0599975585937,320.5,322.6600036621094,325.6600036621094,324.7900085449219,322.42999267578125,322.8099975585937,318.79998779296875,318.79998779296875],\"open\":[378.4249057637386,371.0438949405918,376.7900513760695,382.2363326954813,376.5095443572313,363.2662403933658,364.1465291761502,368.0063559590107,371.2664056971407,374.36196133154056,376.2386646013389,375.3099795174991,375.0971533721284,372.4369290069609,376.3063794192033,389.1046646931752,396.42765293477504,387.9148281003755,384.6934788055211,388.2243678044025,387.1892377056293,390.08170792856833,381.1916166680437,369.6605704178253,348.29142266372185,346.6468724211692,337.51484975610106,334.26455970756587,326.3127883216776,326.8351619147865,335.2899616597378,334.39036909032563,326.70940512201844,333.35523009084704,344.5089804700268,351.6385046756467,350.9806851625302,350.3519314269437,353.56351491517125,358.9711040799334,360.8284904444445,359.58059864886707,356.5237045550134,351.2128806396364,352.2092473420008,349.5586528131191,347.07250161201404,334.29359604544817,331.2850150478102,336.2283353867022,317.8483229094525,329.0891058464196,329.14715717710305,328.314111796952,322.670316522052,329.7445023035905,318.1941849885218,318.0190340989509,313.8153646611815,322.7481509767416,318.8071922118629,325.3657111098665,320.34467827996014,318.2623058934773,326.04687289675144,328.2849192205482,329.74455267488,335.96246600744473,332.9848862064954,330.8441223765757,327.3799652295898,328.343320999971,329.0438876233945,333.2476020799798,329.871031744047,327.07834046908283,324.93756897127,321.11338720392826,318.5444887242646,311.38271469606707,306.5173322652747,305.13557899896875,311.976238512746,313.01746907941055,307.2957613940128,319.6246074850934,312.0151876940811,321.57075873410673,328.99529810206144,335.05747645080515,323.3611920501492,307.8602096640056,309.3878758875624,303.7343392823845,308.5802100783937,308.70675132883184,297.57482691043737,303.1310058272875,307.3249628303325,311.86922237933584,303.8705760025998,300.60105983413297,303.3256568655948,296.8450234704157,291.92127624854663,295.4535185306076,297.7110637843384,301.5254967585642,300.678922615014,295.6384266155369,302.8780956266774,304.29872361540333,306.85792937430045,302.86831066352426,309.7284628614028,317.95092170835665,317.2155602287498,320.1428599061612,313.8672468434838,314.1511926887636,316.2267465221521,311.60569689625305,311.66443041678383,306.9846834313141,290.7621208398766,273.14939750081595,278.3676157102469,281.13829293449464,276.75224100501254,276.2137785075124,281.73544477042554,276.3704243900059,277.80960116790504,284.89773400808343,296.70487431027107,299.4853033597621,297.008366695022,290.36072828039454,289.0782193204552,286.85580475733286,290.05722920159405,291.41808826903764,294.1985108900104,287.05161266145444,283.6347884784552,284.4180180981892,278.2795129651505,280.4921035103264,299.34826254452537,297.2237562409037,310.6266599702648,313.78895443340866,320.2505155188234,319.1344232187937,315.0225037440956,313.5735581230498,318.4784551245329,322.59042325322366,324.7736658573065,322.5904185156104,325.1065325937773,326.2911415547377,323.9610455554737,330.0408095595074,329.10095086506493,334.20171453377367,342.66053445680046,346.02841542615465,343.6395462010054,345.5878158521681,344.5206708014374,345.264742318357,343.6395641229584,335.2590717992938,334.7793501292076,331.91078066978724,337.22692125283066,341.03535592291973,326.917724609375,327.9750554041807,327.0481059818497,325.3909032639937,330.1355962131823,327.80764826049426,319.8472150955659,325.8051980013073,333.3908159655053,337.02082315254285,331.5165853053901,323.99021996570485,324.26638369198514,321.94828352907604,316.2172092951277,321.2775684430049,320.5081425533125,317.94340776562245,303.3739706143223,294.9400999035851,293.4604181634991,290.0079685179622,293.03631148929395,291.98078699427305,293.1349172127127,302.6341441918197,302.4171371258596,303.2161490013278,299.872185792743,299.5072375605101,293.9635079987495,289.9980871142411,286.4765688706412,303.2851970263641,300.27662185648546,317.3022644459588,308.36525927578543,307.86221408295216,306.777118331508,324.0394895310877,323.408173126707,329.9777703588415,334.70273704268817,333.92344045069865,336.43883001305613,340.44369577581244,342.89988757498026,342.78154165425974,349.19328887844847,355.1216608094268,357.3805326038631,358.0217684189485,364.975995570349,374.84021987994697,378.7859283917565,380.73903492665386,378.0066362002679,372.0289361070934,376.1028608134476,373.755153341224,376.2212215799009,378.6872741421834,380.52204236780943,380.1965041815721,375.95489277012905,379.7806792549933,383.7522381492231,378.8076177007454,375.8587327419144,366.85325501731097,359.9129119251311,359.4562014348264,354.1740141741548,356.02081106473776,371.96662040409245,364.4008018914613,351.95989183182627,342.6267047483108,343.80823630356474,343.5302295437622,345.7841070888954,344.69192262734623,342.3883998506194,344.0465504153496,338.07926007025475,340.0054817756547,339.3104569690939,343.0437234688919,345.5557289585279,341.8026077987076,344.83092367298536,349.3783543226085,350.1329820765849,356.318661659036,363.6362595402128,360.9058047714519,362.2064995345944,345.8436699410519,343.5699634336981,347.3826395432829,339.240972821356,337.5828111199881,342.2990672207192,349.2294549779716,349.44786621775575,350.77833375925223,356.60660341840247,356.5470534587112,365.3837722343151,363.0206821987053,366.3766577884763,365.5525614180396,370.2687942311159,374.3594881121401,364.3908710948773,366.4660181247334,371.2815493955341,366.1184867476981,368.1142235114932,365.4334055760387,364.1128671432453,359.05903966514546,360.617895669087,357.6094447651003,365.6022138495733,363.3979809018016,349.3900146484375,343.989990234375,350.6400146484375,358.0599975585937,355.54998779296875,346.19000244140625,349.20001220703125,338.8699951171875,319.6700134277344,324.7699890136719,310.7699890136719,309.0,310.0899963378906,306.7799987792969,317.6199951171875,317.2799987792969,315.2099914550781,310.1499938964844,318.6199951171875,319.0899963378906,322.5,324.5599975585937,323.4700012207031,326.1400146484375,326.82000732421875,319.6199951171875,320.3800048828125,322.3999938964844,326.04998779296875,331.7200012207031,330.0799865722656,336.5299987792969,336.0,328.0,332.9800109863281,334.95001220703125,339.0,341.989990234375,341.0,337.5799865722656,340.1400146484375,340.04998779296875,344.04998779296875,339.010009765625,332.3599853515625,325.95001220703125,325.0599975585937,329.6400146484375,325.0400085449219,329.9200134277344,319.6600036621094,322.0400085449219,320.4200134277344,322.5,322.6600036621094,330.0,330.0,326.1499938964844,323.6000061035156,320.3900146484375,318.9200134277344],\"x\":[\"2021-12-13\",\"2021-12-14\",\"2021-12-15\",\"2021-12-16\",\"2021-12-17\",\"2021-12-20\",\"2021-12-21\",\"2021-12-22\",\"2021-12-23\",\"2021-12-27\",\"2021-12-28\",\"2021-12-29\",\"2021-12-30\",\"2021-12-31\",\"2022-01-03\",\"2022-01-04\",\"2022-01-05\",\"2022-01-06\",\"2022-01-07\",\"2022-01-10\",\"2022-01-11\",\"2022-01-12\",\"2022-01-13\",\"2022-01-14\",\"2022-01-18\",\"2022-01-19\",\"2022-01-20\",\"2022-01-21\",\"2022-01-24\",\"2022-01-25\",\"2022-01-26\",\"2022-01-27\",\"2022-01-28\",\"2022-01-31\",\"2022-02-01\",\"2022-02-02\",\"2022-02-03\",\"2022-02-04\",\"2022-02-07\",\"2022-02-08\",\"2022-02-09\",\"2022-02-10\",\"2022-02-11\",\"2022-02-14\",\"2022-02-15\",\"2022-02-16\",\"2022-02-17\",\"2022-02-18\",\"2022-02-22\",\"2022-02-23\",\"2022-02-24\",\"2022-02-25\",\"2022-02-28\",\"2022-03-01\",\"2022-03-02\",\"2022-03-03\",\"2022-03-04\",\"2022-03-07\",\"2022-03-08\",\"2022-03-09\",\"2022-03-10\",\"2022-03-11\",\"2022-03-14\",\"2022-03-15\",\"2022-03-16\",\"2022-03-17\",\"2022-03-18\",\"2022-03-21\",\"2022-03-22\",\"2022-03-23\",\"2022-03-24\",\"2022-03-25\",\"2022-03-28\",\"2022-03-29\",\"2022-03-30\",\"2022-03-31\",\"2022-04-01\",\"2022-04-04\",\"2022-04-05\",\"2022-04-06\",\"2022-04-07\",\"2022-04-08\",\"2022-04-11\",\"2022-04-12\",\"2022-04-13\",\"2022-04-14\",\"2022-04-18\",\"2022-04-19\",\"2022-04-20\",\"2022-04-21\",\"2022-04-22\",\"2022-04-25\",\"2022-04-26\",\"2022-04-27\",\"2022-04-28\",\"2022-04-29\",\"2022-05-02\",\"2022-05-03\",\"2022-05-04\",\"2022-05-05\",\"2022-05-06\",\"2022-05-09\",\"2022-05-10\",\"2022-05-11\",\"2022-05-12\",\"2022-05-13\",\"2022-05-16\",\"2022-05-17\",\"2022-05-18\",\"2022-05-19\",\"2022-05-20\",\"2022-05-23\",\"2022-05-24\",\"2022-05-25\",\"2022-05-26\",\"2022-05-27\",\"2022-05-31\",\"2022-06-01\",\"2022-06-02\",\"2022-06-03\",\"2022-06-06\",\"2022-06-07\",\"2022-06-08\",\"2022-06-09\",\"2022-06-10\",\"2022-06-13\",\"2022-06-14\",\"2022-06-15\",\"2022-06-16\",\"2022-06-17\",\"2022-06-21\",\"2022-06-22\",\"2022-06-23\",\"2022-06-24\",\"2022-06-27\",\"2022-06-28\",\"2022-06-29\",\"2022-06-30\",\"2022-07-01\",\"2022-07-05\",\"2022-07-06\",\"2022-07-07\",\"2022-07-08\",\"2022-07-11\",\"2022-07-12\",\"2022-07-13\",\"2022-07-14\",\"2022-07-15\",\"2022-07-18\",\"2022-07-19\",\"2022-07-20\",\"2022-07-21\",\"2022-07-22\",\"2022-07-25\",\"2022-07-26\",\"2022-07-27\",\"2022-07-28\",\"2022-07-29\",\"2022-08-01\",\"2022-08-02\",\"2022-08-03\",\"2022-08-04\",\"2022-08-05\",\"2022-08-08\",\"2022-08-09\",\"2022-08-10\",\"2022-08-11\",\"2022-08-12\",\"2022-08-15\",\"2022-08-16\",\"2022-08-17\",\"2022-08-18\",\"2022-08-19\",\"2022-08-22\",\"2022-08-23\",\"2022-08-24\",\"2022-08-25\",\"2022-08-26\",\"2022-08-29\",\"2022-08-30\",\"2022-08-31\",\"2022-09-01\",\"2022-09-02\",\"2022-09-06\",\"2022-09-07\",\"2022-09-08\",\"2022-09-09\",\"2022-09-12\",\"2022-09-13\",\"2022-09-14\",\"2022-09-15\",\"2022-09-16\",\"2022-09-19\",\"2022-09-20\",\"2022-09-21\",\"2022-09-22\",\"2022-09-23\",\"2022-09-26\",\"2022-09-27\",\"2022-09-28\",\"2022-09-29\",\"2022-09-30\",\"2022-10-03\",\"2022-10-04\",\"2022-10-05\",\"2022-10-06\",\"2022-10-07\",\"2022-10-10\",\"2022-10-11\",\"2022-10-12\",\"2022-10-13\",\"2022-10-14\",\"2022-10-17\",\"2022-10-18\",\"2022-10-19\",\"2022-10-20\",\"2022-10-21\",\"2022-10-24\",\"2022-10-25\",\"2022-10-26\",\"2022-10-27\",\"2022-10-28\",\"2022-10-31\",\"2022-11-01\",\"2022-11-02\",\"2022-11-03\",\"2022-11-04\",\"2022-11-07\",\"2022-11-08\",\"2022-11-09\",\"2022-11-10\",\"2022-11-11\",\"2022-11-14\",\"2022-11-15\",\"2022-11-16\",\"2022-11-17\",\"2022-11-18\",\"2022-11-21\",\"2022-11-22\",\"2022-11-23\",\"2022-11-25\",\"2022-11-28\",\"2022-11-29\",\"2022-11-30\",\"2022-12-01\",\"2022-12-02\",\"2022-12-05\",\"2022-12-06\",\"2022-12-07\",\"2022-12-08\",\"2022-12-09\",\"2022-12-12\",\"2022-12-13\",\"2022-12-14\",\"2022-12-15\",\"2022-12-16\",\"2022-12-19\",\"2022-12-20\",\"2022-12-21\",\"2022-12-22\",\"2022-12-23\",\"2022-12-27\",\"2022-12-28\",\"2022-12-29\",\"2022-12-30\",\"2023-01-03\",\"2023-01-04\",\"2023-01-05\",\"2023-01-06\",\"2023-01-09\",\"2023-01-10\",\"2023-01-11\",\"2023-01-12\",\"2023-01-13\",\"2023-01-17\",\"2023-01-18\",\"2023-01-19\",\"2023-01-20\",\"2023-01-23\",\"2023-01-24\",\"2023-01-25\",\"2023-01-26\",\"2023-01-27\",\"2023-01-30\",\"2023-01-31\",\"2023-02-01\",\"2023-02-02\",\"2023-02-03\",\"2023-02-06\",\"2023-02-07\",\"2023-02-08\",\"2023-02-09\",\"2023-02-10\",\"2023-02-13\",\"2023-02-14\",\"2023-02-15\",\"2023-02-16\",\"2023-02-17\",\"2023-02-21\",\"2023-02-22\",\"2023-02-23\",\"2023-02-24\",\"2023-02-27\",\"2023-02-28\",\"2023-03-01\",\"2023-03-02\",\"2023-03-03\",\"2023-03-06\",\"2023-03-07\",\"2023-03-08\",\"2023-03-09\",\"2023-03-10\",\"2023-03-13\",\"2023-03-14\",\"2023-03-15\",\"2023-03-16\",\"2023-03-17\",\"2023-03-20\",\"2023-03-21\",\"2023-03-22\",\"2023-03-23\",\"2023-03-24\",\"2023-03-27\",\"2023-03-28\",\"2023-03-29\",\"2023-03-30\",\"2023-03-31\",\"2023-04-03\",\"2023-04-04\",\"2023-04-05\",\"2023-04-06\",\"2023-04-10\",\"2023-04-11\",\"2023-04-12\",\"2023-04-13\",\"2023-04-14\",\"2023-04-17\",\"2023-04-18\",\"2023-04-19\",\"2023-04-20\",\"2023-04-21\",\"2023-04-24\",\"2023-04-25\",\"2023-04-26\",\"2023-04-27\",\"2023-04-28\",\"2023-05-01\",\"2023-05-02\",\"2023-05-03\",\"2023-05-04\",\"2023-05-05\",\"2023-05-08\",\"2023-05-09\",\"2023-05-10\",\"2023-05-11\",\"2023-05-12\",\"2023-05-15\",\"2023-05-16\",\"2023-05-17\",\"2023-05-18\",\"2023-05-19\",\"2023-05-22\",\"2023-05-23\",\"2023-05-24\",\"2023-05-25\"],\"type\":\"candlestick\"}],                        {\"template\":{\"data\":{\"histogram2dcontour\":[{\"type\":\"histogram2dcontour\",\"colorbar\":{\"outlinewidth\":0,\"ticks\":\"\"},\"colorscale\":[[0.0,\"#0d0887\"],[0.1111111111111111,\"#46039f\"],[0.2222222222222222,\"#7201a8\"],[0.3333333333333333,\"#9c179e\"],[0.4444444444444444,\"#bd3786\"],[0.5555555555555556,\"#d8576b\"],[0.6666666666666666,\"#ed7953\"],[0.7777777777777778,\"#fb9f3a\"],[0.8888888888888888,\"#fdca26\"],[1.0,\"#f0f921\"]]}],\"choropleth\":[{\"type\":\"choropleth\",\"colorbar\":{\"outlinewidth\":0,\"ticks\":\"\"}}],\"histogram2d\":[{\"type\":\"histogram2d\",\"colorbar\":{\"outlinewidth\":0,\"ticks\":\"\"},\"colorscale\":[[0.0,\"#0d0887\"],[0.1111111111111111,\"#46039f\"],[0.2222222222222222,\"#7201a8\"],[0.3333333333333333,\"#9c179e\"],[0.4444444444444444,\"#bd3786\"],[0.5555555555555556,\"#d8576b\"],[0.6666666666666666,\"#ed7953\"],[0.7777777777777778,\"#fb9f3a\"],[0.8888888888888888,\"#fdca26\"],[1.0,\"#f0f921\"]]}],\"heatmap\":[{\"type\":\"heatmap\",\"colorbar\":{\"outlinewidth\":0,\"ticks\":\"\"},\"colorscale\":[[0.0,\"#0d0887\"],[0.1111111111111111,\"#46039f\"],[0.2222222222222222,\"#7201a8\"],[0.3333333333333333,\"#9c179e\"],[0.4444444444444444,\"#bd3786\"],[0.5555555555555556,\"#d8576b\"],[0.6666666666666666,\"#ed7953\"],[0.7777777777777778,\"#fb9f3a\"],[0.8888888888888888,\"#fdca26\"],[1.0,\"#f0f921\"]]}],\"heatmapgl\":[{\"type\":\"heatmapgl\",\"colorbar\":{\"outlinewidth\":0,\"ticks\":\"\"},\"colorscale\":[[0.0,\"#0d0887\"],[0.1111111111111111,\"#46039f\"],[0.2222222222222222,\"#7201a8\"],[0.3333333333333333,\"#9c179e\"],[0.4444444444444444,\"#bd3786\"],[0.5555555555555556,\"#d8576b\"],[0.6666666666666666,\"#ed7953\"],[0.7777777777777778,\"#fb9f3a\"],[0.8888888888888888,\"#fdca26\"],[1.0,\"#f0f921\"]]}],\"contourcarpet\":[{\"type\":\"contourcarpet\",\"colorbar\":{\"outlinewidth\":0,\"ticks\":\"\"}}],\"contour\":[{\"type\":\"contour\",\"colorbar\":{\"outlinewidth\":0,\"ticks\":\"\"},\"colorscale\":[[0.0,\"#0d0887\"],[0.1111111111111111,\"#46039f\"],[0.2222222222222222,\"#7201a8\"],[0.3333333333333333,\"#9c179e\"],[0.4444444444444444,\"#bd3786\"],[0.5555555555555556,\"#d8576b\"],[0.6666666666666666,\"#ed7953\"],[0.7777777777777778,\"#fb9f3a\"],[0.8888888888888888,\"#fdca26\"],[1.0,\"#f0f921\"]]}],\"surface\":[{\"type\":\"surface\",\"colorbar\":{\"outlinewidth\":0,\"ticks\":\"\"},\"colorscale\":[[0.0,\"#0d0887\"],[0.1111111111111111,\"#46039f\"],[0.2222222222222222,\"#7201a8\"],[0.3333333333333333,\"#9c179e\"],[0.4444444444444444,\"#bd3786\"],[0.5555555555555556,\"#d8576b\"],[0.6666666666666666,\"#ed7953\"],[0.7777777777777778,\"#fb9f3a\"],[0.8888888888888888,\"#fdca26\"],[1.0,\"#f0f921\"]]}],\"mesh3d\":[{\"type\":\"mesh3d\",\"colorbar\":{\"outlinewidth\":0,\"ticks\":\"\"}}],\"scatter\":[{\"fillpattern\":{\"fillmode\":\"overlay\",\"size\":10,\"solidity\":0.2},\"type\":\"scatter\"}],\"parcoords\":[{\"type\":\"parcoords\",\"line\":{\"colorbar\":{\"outlinewidth\":0,\"ticks\":\"\"}}}],\"scatterpolargl\":[{\"type\":\"scatterpolargl\",\"marker\":{\"colorbar\":{\"outlinewidth\":0,\"ticks\":\"\"}}}],\"bar\":[{\"error_x\":{\"color\":\"#2a3f5f\"},\"error_y\":{\"color\":\"#2a3f5f\"},\"marker\":{\"line\":{\"color\":\"#E5ECF6\",\"width\":0.5},\"pattern\":{\"fillmode\":\"overlay\",\"size\":10,\"solidity\":0.2}},\"type\":\"bar\"}],\"scattergeo\":[{\"type\":\"scattergeo\",\"marker\":{\"colorbar\":{\"outlinewidth\":0,\"ticks\":\"\"}}}],\"scatterpolar\":[{\"type\":\"scatterpolar\",\"marker\":{\"colorbar\":{\"outlinewidth\":0,\"ticks\":\"\"}}}],\"histogram\":[{\"marker\":{\"pattern\":{\"fillmode\":\"overlay\",\"size\":10,\"solidity\":0.2}},\"type\":\"histogram\"}],\"scattergl\":[{\"type\":\"scattergl\",\"marker\":{\"colorbar\":{\"outlinewidth\":0,\"ticks\":\"\"}}}],\"scatter3d\":[{\"type\":\"scatter3d\",\"line\":{\"colorbar\":{\"outlinewidth\":0,\"ticks\":\"\"}},\"marker\":{\"colorbar\":{\"outlinewidth\":0,\"ticks\":\"\"}}}],\"scattermapbox\":[{\"type\":\"scattermapbox\",\"marker\":{\"colorbar\":{\"outlinewidth\":0,\"ticks\":\"\"}}}],\"scatterternary\":[{\"type\":\"scatterternary\",\"marker\":{\"colorbar\":{\"outlinewidth\":0,\"ticks\":\"\"}}}],\"scattercarpet\":[{\"type\":\"scattercarpet\",\"marker\":{\"colorbar\":{\"outlinewidth\":0,\"ticks\":\"\"}}}],\"carpet\":[{\"aaxis\":{\"endlinecolor\":\"#2a3f5f\",\"gridcolor\":\"white\",\"linecolor\":\"white\",\"minorgridcolor\":\"white\",\"startlinecolor\":\"#2a3f5f\"},\"baxis\":{\"endlinecolor\":\"#2a3f5f\",\"gridcolor\":\"white\",\"linecolor\":\"white\",\"minorgridcolor\":\"white\",\"startlinecolor\":\"#2a3f5f\"},\"type\":\"carpet\"}],\"table\":[{\"cells\":{\"fill\":{\"color\":\"#EBF0F8\"},\"line\":{\"color\":\"white\"}},\"header\":{\"fill\":{\"color\":\"#C8D4E3\"},\"line\":{\"color\":\"white\"}},\"type\":\"table\"}],\"barpolar\":[{\"marker\":{\"line\":{\"color\":\"#E5ECF6\",\"width\":0.5},\"pattern\":{\"fillmode\":\"overlay\",\"size\":10,\"solidity\":0.2}},\"type\":\"barpolar\"}],\"pie\":[{\"automargin\":true,\"type\":\"pie\"}]},\"layout\":{\"autotypenumbers\":\"strict\",\"colorway\":[\"#636efa\",\"#EF553B\",\"#00cc96\",\"#ab63fa\",\"#FFA15A\",\"#19d3f3\",\"#FF6692\",\"#B6E880\",\"#FF97FF\",\"#FECB52\"],\"font\":{\"color\":\"#2a3f5f\"},\"hovermode\":\"closest\",\"hoverlabel\":{\"align\":\"left\"},\"paper_bgcolor\":\"white\",\"plot_bgcolor\":\"#E5ECF6\",\"polar\":{\"bgcolor\":\"#E5ECF6\",\"angularaxis\":{\"gridcolor\":\"white\",\"linecolor\":\"white\",\"ticks\":\"\"},\"radialaxis\":{\"gridcolor\":\"white\",\"linecolor\":\"white\",\"ticks\":\"\"}},\"ternary\":{\"bgcolor\":\"#E5ECF6\",\"aaxis\":{\"gridcolor\":\"white\",\"linecolor\":\"white\",\"ticks\":\"\"},\"baxis\":{\"gridcolor\":\"white\",\"linecolor\":\"white\",\"ticks\":\"\"},\"caxis\":{\"gridcolor\":\"white\",\"linecolor\":\"white\",\"ticks\":\"\"}},\"coloraxis\":{\"colorbar\":{\"outlinewidth\":0,\"ticks\":\"\"}},\"colorscale\":{\"sequential\":[[0.0,\"#0d0887\"],[0.1111111111111111,\"#46039f\"],[0.2222222222222222,\"#7201a8\"],[0.3333333333333333,\"#9c179e\"],[0.4444444444444444,\"#bd3786\"],[0.5555555555555556,\"#d8576b\"],[0.6666666666666666,\"#ed7953\"],[0.7777777777777778,\"#fb9f3a\"],[0.8888888888888888,\"#fdca26\"],[1.0,\"#f0f921\"]],\"sequentialminus\":[[0.0,\"#0d0887\"],[0.1111111111111111,\"#46039f\"],[0.2222222222222222,\"#7201a8\"],[0.3333333333333333,\"#9c179e\"],[0.4444444444444444,\"#bd3786\"],[0.5555555555555556,\"#d8576b\"],[0.6666666666666666,\"#ed7953\"],[0.7777777777777778,\"#fb9f3a\"],[0.8888888888888888,\"#fdca26\"],[1.0,\"#f0f921\"]],\"diverging\":[[0,\"#8e0152\"],[0.1,\"#c51b7d\"],[0.2,\"#de77ae\"],[0.3,\"#f1b6da\"],[0.4,\"#fde0ef\"],[0.5,\"#f7f7f7\"],[0.6,\"#e6f5d0\"],[0.7,\"#b8e186\"],[0.8,\"#7fbc41\"],[0.9,\"#4d9221\"],[1,\"#276419\"]]},\"xaxis\":{\"gridcolor\":\"white\",\"linecolor\":\"white\",\"ticks\":\"\",\"title\":{\"standoff\":15},\"zerolinecolor\":\"white\",\"automargin\":true,\"zerolinewidth\":2},\"yaxis\":{\"gridcolor\":\"white\",\"linecolor\":\"white\",\"ticks\":\"\",\"title\":{\"standoff\":15},\"zerolinecolor\":\"white\",\"automargin\":true,\"zerolinewidth\":2},\"scene\":{\"xaxis\":{\"backgroundcolor\":\"#E5ECF6\",\"gridcolor\":\"white\",\"linecolor\":\"white\",\"showbackground\":true,\"ticks\":\"\",\"zerolinecolor\":\"white\",\"gridwidth\":2},\"yaxis\":{\"backgroundcolor\":\"#E5ECF6\",\"gridcolor\":\"white\",\"linecolor\":\"white\",\"showbackground\":true,\"ticks\":\"\",\"zerolinecolor\":\"white\",\"gridwidth\":2},\"zaxis\":{\"backgroundcolor\":\"#E5ECF6\",\"gridcolor\":\"white\",\"linecolor\":\"white\",\"showbackground\":true,\"ticks\":\"\",\"zerolinecolor\":\"white\",\"gridwidth\":2}},\"shapedefaults\":{\"line\":{\"color\":\"#2a3f5f\"}},\"annotationdefaults\":{\"arrowcolor\":\"#2a3f5f\",\"arrowhead\":0,\"arrowwidth\":1},\"geo\":{\"bgcolor\":\"white\",\"landcolor\":\"#E5ECF6\",\"subunitcolor\":\"white\",\"showland\":true,\"showlakes\":true,\"lakecolor\":\"white\"},\"title\":{\"x\":0.05},\"mapbox\":{\"style\":\"light\"}}}},                        {\"responsive\": true}                    ).then(function(){\n",
              "                            \n",
              "var gd = document.getElementById('1586719f-3705-49d8-8b3e-2d89b30fda5c');\n",
              "var x = new MutationObserver(function (mutations, observer) {{\n",
              "        var display = window.getComputedStyle(gd).display;\n",
              "        if (!display || display === 'none') {{\n",
              "            console.log([gd, 'removed!']);\n",
              "            Plotly.purge(gd);\n",
              "            observer.disconnect();\n",
              "        }}\n",
              "}});\n",
              "\n",
              "// Listen for the removal of the full notebook cells\n",
              "var notebookContainer = gd.closest('#notebook-container');\n",
              "if (notebookContainer) {{\n",
              "    x.observe(notebookContainer, {childList: true});\n",
              "}}\n",
              "\n",
              "// Listen for the clearing of the current output cell\n",
              "var outputEl = gd.closest('.output');\n",
              "if (outputEl) {{\n",
              "    x.observe(outputEl, {childList: true});\n",
              "}}\n",
              "\n",
              "                        })                };                            </script>        </div>\n",
              "</body>\n",
              "</html>"
            ]
          },
          "metadata": {}
        }
      ]
    },
    {
      "cell_type": "code",
      "source": [
        "# Using plotly.express\n",
        "import plotly.express as px\n",
        "fig = px.line(df_symbol, x='Date', y=\"Close\")\n",
        "fig.show()"
      ],
      "metadata": {
        "id": "aeD0bl9FWBjo",
        "colab": {
          "base_uri": "https://localhost:8080/",
          "height": 542
        },
        "outputId": "34ca2261-cf64-4cf4-d1d0-9f85b6abea26"
      },
      "id": "aeD0bl9FWBjo",
      "execution_count": 51,
      "outputs": [
        {
          "output_type": "display_data",
          "data": {
            "text/html": [
              "<html>\n",
              "<head><meta charset=\"utf-8\" /></head>\n",
              "<body>\n",
              "    <div>            <script src=\"https://cdnjs.cloudflare.com/ajax/libs/mathjax/2.7.5/MathJax.js?config=TeX-AMS-MML_SVG\"></script><script type=\"text/javascript\">if (window.MathJax && window.MathJax.Hub && window.MathJax.Hub.Config) {window.MathJax.Hub.Config({SVG: {font: \"STIX-Web\"}});}</script>                <script type=\"text/javascript\">window.PlotlyConfig = {MathJaxConfig: 'local'};</script>\n",
              "        <script src=\"https://cdn.plot.ly/plotly-2.18.2.min.js\"></script>                <div id=\"6d0df358-b748-4afe-b0ef-bcd2b0ad5498\" class=\"plotly-graph-div\" style=\"height:525px; width:100%;\"></div>            <script type=\"text/javascript\">                                    window.PLOTLYENV=window.PLOTLYENV || {};                                    if (document.getElementById(\"6d0df358-b748-4afe-b0ef-bcd2b0ad5498\")) {                    Plotly.newPlot(                        \"6d0df358-b748-4afe-b0ef-bcd2b0ad5498\",                        [{\"hovertemplate\":\"Date=%{x}<br>Close=%{y}<extra></extra>\",\"legendgroup\":\"\",\"line\":{\"color\":\"#636efa\",\"dash\":\"solid\"},\"marker\":{\"symbol\":\"circle\"},\"mode\":\"lines\",\"name\":\"\",\"orientation\":\"v\",\"showlegend\":false,\"x\":[\"2021-12-13\",\"2021-12-14\",\"2021-12-15\",\"2021-12-16\",\"2021-12-17\",\"2021-12-20\",\"2021-12-21\",\"2021-12-22\",\"2021-12-23\",\"2021-12-27\",\"2021-12-28\",\"2021-12-29\",\"2021-12-30\",\"2021-12-31\",\"2022-01-03\",\"2022-01-04\",\"2022-01-05\",\"2022-01-06\",\"2022-01-07\",\"2022-01-10\",\"2022-01-11\",\"2022-01-12\",\"2022-01-13\",\"2022-01-14\",\"2022-01-18\",\"2022-01-19\",\"2022-01-20\",\"2022-01-21\",\"2022-01-24\",\"2022-01-25\",\"2022-01-26\",\"2022-01-27\",\"2022-01-28\",\"2022-01-31\",\"2022-02-01\",\"2022-02-02\",\"2022-02-03\",\"2022-02-04\",\"2022-02-07\",\"2022-02-08\",\"2022-02-09\",\"2022-02-10\",\"2022-02-11\",\"2022-02-14\",\"2022-02-15\",\"2022-02-16\",\"2022-02-17\",\"2022-02-18\",\"2022-02-22\",\"2022-02-23\",\"2022-02-24\",\"2022-02-25\",\"2022-02-28\",\"2022-03-01\",\"2022-03-02\",\"2022-03-03\",\"2022-03-04\",\"2022-03-07\",\"2022-03-08\",\"2022-03-09\",\"2022-03-10\",\"2022-03-11\",\"2022-03-14\",\"2022-03-15\",\"2022-03-16\",\"2022-03-17\",\"2022-03-18\",\"2022-03-21\",\"2022-03-22\",\"2022-03-23\",\"2022-03-24\",\"2022-03-25\",\"2022-03-28\",\"2022-03-29\",\"2022-03-30\",\"2022-03-31\",\"2022-04-01\",\"2022-04-04\",\"2022-04-05\",\"2022-04-06\",\"2022-04-07\",\"2022-04-08\",\"2022-04-11\",\"2022-04-12\",\"2022-04-13\",\"2022-04-14\",\"2022-04-18\",\"2022-04-19\",\"2022-04-20\",\"2022-04-21\",\"2022-04-22\",\"2022-04-25\",\"2022-04-26\",\"2022-04-27\",\"2022-04-28\",\"2022-04-29\",\"2022-05-02\",\"2022-05-03\",\"2022-05-04\",\"2022-05-05\",\"2022-05-06\",\"2022-05-09\",\"2022-05-10\",\"2022-05-11\",\"2022-05-12\",\"2022-05-13\",\"2022-05-16\",\"2022-05-17\",\"2022-05-18\",\"2022-05-19\",\"2022-05-20\",\"2022-05-23\",\"2022-05-24\",\"2022-05-25\",\"2022-05-26\",\"2022-05-27\",\"2022-05-31\",\"2022-06-01\",\"2022-06-02\",\"2022-06-03\",\"2022-06-06\",\"2022-06-07\",\"2022-06-08\",\"2022-06-09\",\"2022-06-10\",\"2022-06-13\",\"2022-06-14\",\"2022-06-15\",\"2022-06-16\",\"2022-06-17\",\"2022-06-21\",\"2022-06-22\",\"2022-06-23\",\"2022-06-24\",\"2022-06-27\",\"2022-06-28\",\"2022-06-29\",\"2022-06-30\",\"2022-07-01\",\"2022-07-05\",\"2022-07-06\",\"2022-07-07\",\"2022-07-08\",\"2022-07-11\",\"2022-07-12\",\"2022-07-13\",\"2022-07-14\",\"2022-07-15\",\"2022-07-18\",\"2022-07-19\",\"2022-07-20\",\"2022-07-21\",\"2022-07-22\",\"2022-07-25\",\"2022-07-26\",\"2022-07-27\",\"2022-07-28\",\"2022-07-29\",\"2022-08-01\",\"2022-08-02\",\"2022-08-03\",\"2022-08-04\",\"2022-08-05\",\"2022-08-08\",\"2022-08-09\",\"2022-08-10\",\"2022-08-11\",\"2022-08-12\",\"2022-08-15\",\"2022-08-16\",\"2022-08-17\",\"2022-08-18\",\"2022-08-19\",\"2022-08-22\",\"2022-08-23\",\"2022-08-24\",\"2022-08-25\",\"2022-08-26\",\"2022-08-29\",\"2022-08-30\",\"2022-08-31\",\"2022-09-01\",\"2022-09-02\",\"2022-09-06\",\"2022-09-07\",\"2022-09-08\",\"2022-09-09\",\"2022-09-12\",\"2022-09-13\",\"2022-09-14\",\"2022-09-15\",\"2022-09-16\",\"2022-09-19\",\"2022-09-20\",\"2022-09-21\",\"2022-09-22\",\"2022-09-23\",\"2022-09-26\",\"2022-09-27\",\"2022-09-28\",\"2022-09-29\",\"2022-09-30\",\"2022-10-03\",\"2022-10-04\",\"2022-10-05\",\"2022-10-06\",\"2022-10-07\",\"2022-10-10\",\"2022-10-11\",\"2022-10-12\",\"2022-10-13\",\"2022-10-14\",\"2022-10-17\",\"2022-10-18\",\"2022-10-19\",\"2022-10-20\",\"2022-10-21\",\"2022-10-24\",\"2022-10-25\",\"2022-10-26\",\"2022-10-27\",\"2022-10-28\",\"2022-10-31\",\"2022-11-01\",\"2022-11-02\",\"2022-11-03\",\"2022-11-04\",\"2022-11-07\",\"2022-11-08\",\"2022-11-09\",\"2022-11-10\",\"2022-11-11\",\"2022-11-14\",\"2022-11-15\",\"2022-11-16\",\"2022-11-17\",\"2022-11-18\",\"2022-11-21\",\"2022-11-22\",\"2022-11-23\",\"2022-11-25\",\"2022-11-28\",\"2022-11-29\",\"2022-11-30\",\"2022-12-01\",\"2022-12-02\",\"2022-12-05\",\"2022-12-06\",\"2022-12-07\",\"2022-12-08\",\"2022-12-09\",\"2022-12-12\",\"2022-12-13\",\"2022-12-14\",\"2022-12-15\",\"2022-12-16\",\"2022-12-19\",\"2022-12-20\",\"2022-12-21\",\"2022-12-22\",\"2022-12-23\",\"2022-12-27\",\"2022-12-28\",\"2022-12-29\",\"2022-12-30\",\"2023-01-03\",\"2023-01-04\",\"2023-01-05\",\"2023-01-06\",\"2023-01-09\",\"2023-01-10\",\"2023-01-11\",\"2023-01-12\",\"2023-01-13\",\"2023-01-17\",\"2023-01-18\",\"2023-01-19\",\"2023-01-20\",\"2023-01-23\",\"2023-01-24\",\"2023-01-25\",\"2023-01-26\",\"2023-01-27\",\"2023-01-30\",\"2023-01-31\",\"2023-02-01\",\"2023-02-02\",\"2023-02-03\",\"2023-02-06\",\"2023-02-07\",\"2023-02-08\",\"2023-02-09\",\"2023-02-10\",\"2023-02-13\",\"2023-02-14\",\"2023-02-15\",\"2023-02-16\",\"2023-02-17\",\"2023-02-21\",\"2023-02-22\",\"2023-02-23\",\"2023-02-24\",\"2023-02-27\",\"2023-02-28\",\"2023-03-01\",\"2023-03-02\",\"2023-03-03\",\"2023-03-06\",\"2023-03-07\",\"2023-03-08\",\"2023-03-09\",\"2023-03-10\",\"2023-03-13\",\"2023-03-14\",\"2023-03-15\",\"2023-03-16\",\"2023-03-17\",\"2023-03-20\",\"2023-03-21\",\"2023-03-22\",\"2023-03-23\",\"2023-03-24\",\"2023-03-27\",\"2023-03-28\",\"2023-03-29\",\"2023-03-30\",\"2023-03-31\",\"2023-04-03\",\"2023-04-04\",\"2023-04-05\",\"2023-04-06\",\"2023-04-10\",\"2023-04-11\",\"2023-04-12\",\"2023-04-13\",\"2023-04-14\",\"2023-04-17\",\"2023-04-18\",\"2023-04-19\",\"2023-04-20\",\"2023-04-21\",\"2023-04-24\",\"2023-04-25\",\"2023-04-26\",\"2023-04-27\",\"2023-04-28\",\"2023-05-01\",\"2023-05-02\",\"2023-05-03\",\"2023-05-04\",\"2023-05-05\",\"2023-05-08\",\"2023-05-09\",\"2023-05-10\",\"2023-05-11\",\"2023-05-12\",\"2023-05-15\",\"2023-05-16\",\"2023-05-17\",\"2023-05-18\",\"2023-05-19\",\"2023-05-22\",\"2023-05-23\",\"2023-05-24\",\"2023-05-25\"],\"xaxis\":\"x\",\"y\":[372.0886535644531,376.13226318359375,377.1866760253906,384.4032287597656,369.3413391113281,359.4838256835937,367.90960693359375,369.85400390625,372.4756164550781,375.3777160644531,374.9617309570313,373.5977478027344,372.9399108886719,370.0668640136719,382.4298095703125,394.183349609375,385.6221618652344,383.9776306152344,384.5386962890625,386.14453125,389.8978576660156,377.5736389160156,378.0476684570313,368.5093994140625,342.83544921875,335.9864807128906,336.740966796875,332.687744140625,332.1847229003906,330.4047546386719,331.49786376953125,329.9017639160156,335.68658447265625,343.1062927246094,352.1802062988281,351.2128601074219,347.16925048828125,355.604736328125,356.13671875,358.0231018066406,362.3085632324219,358.4778137207031,351.2128601074219,348.4848937988281,352.06414794921875,348.3010559082031,337.669677734375,334.7482604980469,333.03594970703125,330.0565185546875,329.0891418457031,338.695068359375,330.1532287597656,319.36187744140625,327.32159423828125,324.4412841796875,320.79229736328125,313.2218017578125,312.7157897949219,324.6067199707031,321.0160522460937,318.1941833496094,316.2286071777344,320.2960205078125,331.5836486816406,334.0260314941406,336.0792541503906,329.8710327148437,333.7730712890625,326.57232666015625,327.1756286621094,328.4017028808594,326.2706298828125,330.5132751464844,326.5528564453125,321.2107238769531,321.3274841308594,319.37158203125,315.2360534667969,307.7434387207031,305.6902160644531,312.7352905273437,312.1222229003906,311.16864013671875,313.29962158203125,312.9785461425781,320.99664306640625,326.9031982421875,331.8755798339844,325.2975769042969,311.15887451171875,312.7644958496094,304.6879272460937,304.79498291015625,309.8354797363281,297.263427734375,302.0606994628906,306.1864624023437,315.3819885253906,304.6393127441406,304.5322570800781,300.5718688964844,296.8450012207031,293.4295349121094,291.34716796875,298.7230224609375,295.2686462402344,304.5420227050781,298.4700622558594,299.9004821777344,298.5381774902344,308.0839538574219,305.4956359863281,306.4200134277344,314.9149475097656,319.73162841796875,319.9960021972656,315.1008605957031,317.45050048828125,311.997314453125,313.7889709472656,314.7679748535156,308.0811767578125,297.8405456542969,281.0011901855469,277.3788146972656,276.6151733398437,283.9872741699219,279.0040283203125,273.9228515625,278.8375244140625,278.5732421875,280.1690673828125,296.4013366699219,294.4726867675781,293.209716796875,296.9202575683594,290.79150390625,292.9552001953125,290.9677429199219,287.5998840332031,292.33837890625,290.2530212402344,287.0320129394531,286.3956604003906,284.0655517578125,275.6850891113281,287.7075500488281,294.942626953125,311.3805236816406,314.709228515625,319.6925048828125,317.13720703125,317.3232116699219,311.8700256347656,317.73443603515625,322.20855712890625,326.3988647460937,325.1163024902344,321.00439453125,326.1834716796875,324.91070556640625,327.6520080566406,327.6617736816406,329.56109619140625,340.6143798828125,344.3052978515625,346.40045166015625,348.3878479003906,347.5263061523437,346.32208251953125,347.0857238769531,341.9458312988281,335.239501953125,333.04644775390625,334.7695617675781,339.22412109375,329.3457336425781,326.917724609375,326.6337890625,328.1529235839844,328.9716186523437,326.97906494140625,322.0567932128906,326.071533203125,330.8260803222656,335.4820251464844,337.9283142089844,323.9310302734375,322.8163757324219,327.1171264648437,321.78057861328125,324.1973571777344,318.8706970214844,316.35528564453125,308.6710510253906,297.8697509765625,290.6195678710937,287.42352294921875,296.7057800292969,292.0893249511719,289.0708312988281,295.0880126953125,310.5945739746094,304.8042907714844,300.5330810546875,296.9918212890625,296.4591979980469,290.215087890625,291.3001708984375,302.9004821777344,295.9166259765625,302.5453796386719,309.58843994140625,307.5268249511719,306.5897216796875,320.6856689453125,324.2367858886719,327.88653564453125,331.13189697265625,332.6016540527344,337.1786499023437,339.8321228027344,343.8468322753906,345.0404357910156,344.1329345703125,353.0502014160156,357.63702392578125,359.0771789550781,357.08465576171875,373.1731567382813,379.9400329589844,377.1681823730469,377.6811218261719,377.1385803222656,374.6232299804688,374.0511169433594,375.04736328125,378.6576843261719,381.00537109375,383.5799255371094,377.1681823730469,378.4998474121094,383.40472412109375,381.0813598632813,377.8742980957031,368.8985900878906,360.3299560546875,357.3612060546875,355.5342712402344,356.5867614746094,360.5980224609375,366.06884765625,357.81793212890625,347.3429260253906,343.8876953125,342.1600341796875,342.0408935546875,347.67059326171875,343.1231384277344,343.0536499023437,339.538818359375,338.4466247558594,340.9884338378906,340.9388122558594,343.75860595703125,345.22808837890625,341.31610107421875,345.6053771972656,350.4903869628906,354.81939697265625,361.8887939453125,367.3099670410156,371.3410949707031,347.43231201171875,346.6081848144531,348.25640869140625,339.40972900390625,346.6578674316406,345.85357666015625,347.1443786621094,352.4464111328125,351.1854248046875,354.9186706542969,363.2093200683594,363.1100463867188,366.8433227539063,367.3199157714844,368.1638488769531,371.7382507324219,372.4332885742188,365.3738098144531,368.6404418945313,371.3609619140625,369.1369018554688,371.6786804199219,367.5681457519531,365.8802185058594,358.5526733398437,358.3243103027344,360.9554748535156,361.2632751464844,362.9313354492188,349.1499938964844,346.2300109863281,349.1000061035156,357.0899963378906,357.04998779296875,346.0799865722656,349.2900085449219,342.0899963378906,327.6700134277344,315.510009765625,322.1499938964844,312.19000244140625,315.0899963378906,303.5400085449219,309.5299987792969,317.2799987792969,313.6700134277344,314.8500061035156,312.57000732421875,318.5299987792969,318.44000244140625,320.7200012207031,321.1400146484375,327.1099853515625,326.5199890136719,322.6499938964844,321.5299987792969,322.3999938964844,324.9599914550781,327.3699951171875,330.239990234375,332.1300048828125,336.9200134277344,339.67999267578125,333.9100036621094,336.8900146484375,338.7099914550781,341.6600036621094,343.9599914550781,339.4800109863281,336.5599975585937,341.6000061035156,343.44000244140625,340.57000732421875,333.3699951171875,328.6499938964844,321.260009765625,327.0199890136719,326.510009765625,324.7699890136719,322.54998779296875,320.7200012207031,319.5,322.07000732421875,320.8099975585937,330.17999267578125,329.5799865722656,326.1499938964844,324.9200134277344,323.57000732421875,319.8099975585937,323.8800048828125],\"yaxis\":\"y\",\"type\":\"scatter\"}],                        {\"template\":{\"data\":{\"histogram2dcontour\":[{\"type\":\"histogram2dcontour\",\"colorbar\":{\"outlinewidth\":0,\"ticks\":\"\"},\"colorscale\":[[0.0,\"#0d0887\"],[0.1111111111111111,\"#46039f\"],[0.2222222222222222,\"#7201a8\"],[0.3333333333333333,\"#9c179e\"],[0.4444444444444444,\"#bd3786\"],[0.5555555555555556,\"#d8576b\"],[0.6666666666666666,\"#ed7953\"],[0.7777777777777778,\"#fb9f3a\"],[0.8888888888888888,\"#fdca26\"],[1.0,\"#f0f921\"]]}],\"choropleth\":[{\"type\":\"choropleth\",\"colorbar\":{\"outlinewidth\":0,\"ticks\":\"\"}}],\"histogram2d\":[{\"type\":\"histogram2d\",\"colorbar\":{\"outlinewidth\":0,\"ticks\":\"\"},\"colorscale\":[[0.0,\"#0d0887\"],[0.1111111111111111,\"#46039f\"],[0.2222222222222222,\"#7201a8\"],[0.3333333333333333,\"#9c179e\"],[0.4444444444444444,\"#bd3786\"],[0.5555555555555556,\"#d8576b\"],[0.6666666666666666,\"#ed7953\"],[0.7777777777777778,\"#fb9f3a\"],[0.8888888888888888,\"#fdca26\"],[1.0,\"#f0f921\"]]}],\"heatmap\":[{\"type\":\"heatmap\",\"colorbar\":{\"outlinewidth\":0,\"ticks\":\"\"},\"colorscale\":[[0.0,\"#0d0887\"],[0.1111111111111111,\"#46039f\"],[0.2222222222222222,\"#7201a8\"],[0.3333333333333333,\"#9c179e\"],[0.4444444444444444,\"#bd3786\"],[0.5555555555555556,\"#d8576b\"],[0.6666666666666666,\"#ed7953\"],[0.7777777777777778,\"#fb9f3a\"],[0.8888888888888888,\"#fdca26\"],[1.0,\"#f0f921\"]]}],\"heatmapgl\":[{\"type\":\"heatmapgl\",\"colorbar\":{\"outlinewidth\":0,\"ticks\":\"\"},\"colorscale\":[[0.0,\"#0d0887\"],[0.1111111111111111,\"#46039f\"],[0.2222222222222222,\"#7201a8\"],[0.3333333333333333,\"#9c179e\"],[0.4444444444444444,\"#bd3786\"],[0.5555555555555556,\"#d8576b\"],[0.6666666666666666,\"#ed7953\"],[0.7777777777777778,\"#fb9f3a\"],[0.8888888888888888,\"#fdca26\"],[1.0,\"#f0f921\"]]}],\"contourcarpet\":[{\"type\":\"contourcarpet\",\"colorbar\":{\"outlinewidth\":0,\"ticks\":\"\"}}],\"contour\":[{\"type\":\"contour\",\"colorbar\":{\"outlinewidth\":0,\"ticks\":\"\"},\"colorscale\":[[0.0,\"#0d0887\"],[0.1111111111111111,\"#46039f\"],[0.2222222222222222,\"#7201a8\"],[0.3333333333333333,\"#9c179e\"],[0.4444444444444444,\"#bd3786\"],[0.5555555555555556,\"#d8576b\"],[0.6666666666666666,\"#ed7953\"],[0.7777777777777778,\"#fb9f3a\"],[0.8888888888888888,\"#fdca26\"],[1.0,\"#f0f921\"]]}],\"surface\":[{\"type\":\"surface\",\"colorbar\":{\"outlinewidth\":0,\"ticks\":\"\"},\"colorscale\":[[0.0,\"#0d0887\"],[0.1111111111111111,\"#46039f\"],[0.2222222222222222,\"#7201a8\"],[0.3333333333333333,\"#9c179e\"],[0.4444444444444444,\"#bd3786\"],[0.5555555555555556,\"#d8576b\"],[0.6666666666666666,\"#ed7953\"],[0.7777777777777778,\"#fb9f3a\"],[0.8888888888888888,\"#fdca26\"],[1.0,\"#f0f921\"]]}],\"mesh3d\":[{\"type\":\"mesh3d\",\"colorbar\":{\"outlinewidth\":0,\"ticks\":\"\"}}],\"scatter\":[{\"fillpattern\":{\"fillmode\":\"overlay\",\"size\":10,\"solidity\":0.2},\"type\":\"scatter\"}],\"parcoords\":[{\"type\":\"parcoords\",\"line\":{\"colorbar\":{\"outlinewidth\":0,\"ticks\":\"\"}}}],\"scatterpolargl\":[{\"type\":\"scatterpolargl\",\"marker\":{\"colorbar\":{\"outlinewidth\":0,\"ticks\":\"\"}}}],\"bar\":[{\"error_x\":{\"color\":\"#2a3f5f\"},\"error_y\":{\"color\":\"#2a3f5f\"},\"marker\":{\"line\":{\"color\":\"#E5ECF6\",\"width\":0.5},\"pattern\":{\"fillmode\":\"overlay\",\"size\":10,\"solidity\":0.2}},\"type\":\"bar\"}],\"scattergeo\":[{\"type\":\"scattergeo\",\"marker\":{\"colorbar\":{\"outlinewidth\":0,\"ticks\":\"\"}}}],\"scatterpolar\":[{\"type\":\"scatterpolar\",\"marker\":{\"colorbar\":{\"outlinewidth\":0,\"ticks\":\"\"}}}],\"histogram\":[{\"marker\":{\"pattern\":{\"fillmode\":\"overlay\",\"size\":10,\"solidity\":0.2}},\"type\":\"histogram\"}],\"scattergl\":[{\"type\":\"scattergl\",\"marker\":{\"colorbar\":{\"outlinewidth\":0,\"ticks\":\"\"}}}],\"scatter3d\":[{\"type\":\"scatter3d\",\"line\":{\"colorbar\":{\"outlinewidth\":0,\"ticks\":\"\"}},\"marker\":{\"colorbar\":{\"outlinewidth\":0,\"ticks\":\"\"}}}],\"scattermapbox\":[{\"type\":\"scattermapbox\",\"marker\":{\"colorbar\":{\"outlinewidth\":0,\"ticks\":\"\"}}}],\"scatterternary\":[{\"type\":\"scatterternary\",\"marker\":{\"colorbar\":{\"outlinewidth\":0,\"ticks\":\"\"}}}],\"scattercarpet\":[{\"type\":\"scattercarpet\",\"marker\":{\"colorbar\":{\"outlinewidth\":0,\"ticks\":\"\"}}}],\"carpet\":[{\"aaxis\":{\"endlinecolor\":\"#2a3f5f\",\"gridcolor\":\"white\",\"linecolor\":\"white\",\"minorgridcolor\":\"white\",\"startlinecolor\":\"#2a3f5f\"},\"baxis\":{\"endlinecolor\":\"#2a3f5f\",\"gridcolor\":\"white\",\"linecolor\":\"white\",\"minorgridcolor\":\"white\",\"startlinecolor\":\"#2a3f5f\"},\"type\":\"carpet\"}],\"table\":[{\"cells\":{\"fill\":{\"color\":\"#EBF0F8\"},\"line\":{\"color\":\"white\"}},\"header\":{\"fill\":{\"color\":\"#C8D4E3\"},\"line\":{\"color\":\"white\"}},\"type\":\"table\"}],\"barpolar\":[{\"marker\":{\"line\":{\"color\":\"#E5ECF6\",\"width\":0.5},\"pattern\":{\"fillmode\":\"overlay\",\"size\":10,\"solidity\":0.2}},\"type\":\"barpolar\"}],\"pie\":[{\"automargin\":true,\"type\":\"pie\"}]},\"layout\":{\"autotypenumbers\":\"strict\",\"colorway\":[\"#636efa\",\"#EF553B\",\"#00cc96\",\"#ab63fa\",\"#FFA15A\",\"#19d3f3\",\"#FF6692\",\"#B6E880\",\"#FF97FF\",\"#FECB52\"],\"font\":{\"color\":\"#2a3f5f\"},\"hovermode\":\"closest\",\"hoverlabel\":{\"align\":\"left\"},\"paper_bgcolor\":\"white\",\"plot_bgcolor\":\"#E5ECF6\",\"polar\":{\"bgcolor\":\"#E5ECF6\",\"angularaxis\":{\"gridcolor\":\"white\",\"linecolor\":\"white\",\"ticks\":\"\"},\"radialaxis\":{\"gridcolor\":\"white\",\"linecolor\":\"white\",\"ticks\":\"\"}},\"ternary\":{\"bgcolor\":\"#E5ECF6\",\"aaxis\":{\"gridcolor\":\"white\",\"linecolor\":\"white\",\"ticks\":\"\"},\"baxis\":{\"gridcolor\":\"white\",\"linecolor\":\"white\",\"ticks\":\"\"},\"caxis\":{\"gridcolor\":\"white\",\"linecolor\":\"white\",\"ticks\":\"\"}},\"coloraxis\":{\"colorbar\":{\"outlinewidth\":0,\"ticks\":\"\"}},\"colorscale\":{\"sequential\":[[0.0,\"#0d0887\"],[0.1111111111111111,\"#46039f\"],[0.2222222222222222,\"#7201a8\"],[0.3333333333333333,\"#9c179e\"],[0.4444444444444444,\"#bd3786\"],[0.5555555555555556,\"#d8576b\"],[0.6666666666666666,\"#ed7953\"],[0.7777777777777778,\"#fb9f3a\"],[0.8888888888888888,\"#fdca26\"],[1.0,\"#f0f921\"]],\"sequentialminus\":[[0.0,\"#0d0887\"],[0.1111111111111111,\"#46039f\"],[0.2222222222222222,\"#7201a8\"],[0.3333333333333333,\"#9c179e\"],[0.4444444444444444,\"#bd3786\"],[0.5555555555555556,\"#d8576b\"],[0.6666666666666666,\"#ed7953\"],[0.7777777777777778,\"#fb9f3a\"],[0.8888888888888888,\"#fdca26\"],[1.0,\"#f0f921\"]],\"diverging\":[[0,\"#8e0152\"],[0.1,\"#c51b7d\"],[0.2,\"#de77ae\"],[0.3,\"#f1b6da\"],[0.4,\"#fde0ef\"],[0.5,\"#f7f7f7\"],[0.6,\"#e6f5d0\"],[0.7,\"#b8e186\"],[0.8,\"#7fbc41\"],[0.9,\"#4d9221\"],[1,\"#276419\"]]},\"xaxis\":{\"gridcolor\":\"white\",\"linecolor\":\"white\",\"ticks\":\"\",\"title\":{\"standoff\":15},\"zerolinecolor\":\"white\",\"automargin\":true,\"zerolinewidth\":2},\"yaxis\":{\"gridcolor\":\"white\",\"linecolor\":\"white\",\"ticks\":\"\",\"title\":{\"standoff\":15},\"zerolinecolor\":\"white\",\"automargin\":true,\"zerolinewidth\":2},\"scene\":{\"xaxis\":{\"backgroundcolor\":\"#E5ECF6\",\"gridcolor\":\"white\",\"linecolor\":\"white\",\"showbackground\":true,\"ticks\":\"\",\"zerolinecolor\":\"white\",\"gridwidth\":2},\"yaxis\":{\"backgroundcolor\":\"#E5ECF6\",\"gridcolor\":\"white\",\"linecolor\":\"white\",\"showbackground\":true,\"ticks\":\"\",\"zerolinecolor\":\"white\",\"gridwidth\":2},\"zaxis\":{\"backgroundcolor\":\"#E5ECF6\",\"gridcolor\":\"white\",\"linecolor\":\"white\",\"showbackground\":true,\"ticks\":\"\",\"zerolinecolor\":\"white\",\"gridwidth\":2}},\"shapedefaults\":{\"line\":{\"color\":\"#2a3f5f\"}},\"annotationdefaults\":{\"arrowcolor\":\"#2a3f5f\",\"arrowhead\":0,\"arrowwidth\":1},\"geo\":{\"bgcolor\":\"white\",\"landcolor\":\"#E5ECF6\",\"subunitcolor\":\"white\",\"showland\":true,\"showlakes\":true,\"lakecolor\":\"white\"},\"title\":{\"x\":0.05},\"mapbox\":{\"style\":\"light\"}}},\"xaxis\":{\"anchor\":\"y\",\"domain\":[0.0,1.0],\"title\":{\"text\":\"Date\"}},\"yaxis\":{\"anchor\":\"x\",\"domain\":[0.0,1.0],\"title\":{\"text\":\"Close\"}},\"legend\":{\"tracegroupgap\":0},\"margin\":{\"t\":60}},                        {\"responsive\": true}                    ).then(function(){\n",
              "                            \n",
              "var gd = document.getElementById('6d0df358-b748-4afe-b0ef-bcd2b0ad5498');\n",
              "var x = new MutationObserver(function (mutations, observer) {{\n",
              "        var display = window.getComputedStyle(gd).display;\n",
              "        if (!display || display === 'none') {{\n",
              "            console.log([gd, 'removed!']);\n",
              "            Plotly.purge(gd);\n",
              "            observer.disconnect();\n",
              "        }}\n",
              "}});\n",
              "\n",
              "// Listen for the removal of the full notebook cells\n",
              "var notebookContainer = gd.closest('#notebook-container');\n",
              "if (notebookContainer) {{\n",
              "    x.observe(notebookContainer, {childList: true});\n",
              "}}\n",
              "\n",
              "// Listen for the clearing of the current output cell\n",
              "var outputEl = gd.closest('.output');\n",
              "if (outputEl) {{\n",
              "    x.observe(outputEl, {childList: true});\n",
              "}}\n",
              "\n",
              "                        })                };                            </script>        </div>\n",
              "</body>\n",
              "</html>"
            ]
          },
          "metadata": {}
        }
      ]
    },
    {
      "cell_type": "code",
      "source": [
        "df_symbol.columns"
      ],
      "metadata": {
        "id": "rLsbg9OyWTy4",
        "colab": {
          "base_uri": "https://localhost:8080/"
        },
        "outputId": "36e7a8b4-1205-4f0e-84b8-81a4b8103059"
      },
      "id": "rLsbg9OyWTy4",
      "execution_count": 53,
      "outputs": [
        {
          "output_type": "execute_result",
          "data": {
            "text/plain": [
              "Index(['Date', 'Open', 'High', 'Low', 'Close', 'Volume'], dtype='object')"
            ]
          },
          "metadata": {},
          "execution_count": 53
        }
      ]
    },
    {
      "cell_type": "code",
      "source": [
        "df_symbol.head(15)"
      ],
      "metadata": {
        "id": "-TJJb8PZWXVQ",
        "colab": {
          "base_uri": "https://localhost:8080/",
          "height": 520
        },
        "outputId": "9597c54b-9956-4bcc-ae9d-bee2ef45ad3e"
      },
      "id": "-TJJb8PZWXVQ",
      "execution_count": 55,
      "outputs": [
        {
          "output_type": "execute_result",
          "data": {
            "text/plain": [
              "          Date        Open        High         Low       Close   Volume\n",
              "0   2021-12-13  378.424906  378.424906  370.173253  372.088654  2313300\n",
              "1   2021-12-14  371.043895  379.692173  370.753696  376.132263  2788500\n",
              "2   2021-12-15  376.790051  378.628046  368.180477  377.186676  2802300\n",
              "3   2021-12-16  382.236333  386.792630  379.014979  384.403229  3578200\n",
              "4   2021-12-17  376.509544  380.824030  368.209534  369.341339  7058600\n",
              "5   2021-12-20  363.266240  363.372666  354.685686  359.483826  3735600\n",
              "6   2021-12-21  364.146529  369.621839  362.531040  367.909607  2942800\n",
              "7   2021-12-22  368.006356  371.479206  366.893859  369.854004  1487900\n",
              "8   2021-12-23  371.266406  374.961731  371.053583  372.475616  1624000\n",
              "9   2021-12-27  374.361961  376.412778  372.436907  375.377716  1430400\n",
              "10  2021-12-28  376.238665  378.560343  373.636441  374.961731  1528200\n",
              "11  2021-12-29  375.309980  376.751349  371.875833  373.597748  1327800\n",
              "12  2021-12-30  375.097153  377.060910  372.630375  372.939911  1160100\n",
              "13  2021-12-31  372.436929  374.371666  368.412672  370.066864  1601300\n",
              "14  2022-01-03  376.306379  386.270264  374.700544  382.429810  3334300"
            ],
            "text/html": [
              "\n",
              "  <div id=\"df-5b0d993a-9d37-4fc1-8d44-a5c92761cd01\">\n",
              "    <div class=\"colab-df-container\">\n",
              "      <div>\n",
              "<style scoped>\n",
              "    .dataframe tbody tr th:only-of-type {\n",
              "        vertical-align: middle;\n",
              "    }\n",
              "\n",
              "    .dataframe tbody tr th {\n",
              "        vertical-align: top;\n",
              "    }\n",
              "\n",
              "    .dataframe thead th {\n",
              "        text-align: right;\n",
              "    }\n",
              "</style>\n",
              "<table border=\"1\" class=\"dataframe\">\n",
              "  <thead>\n",
              "    <tr style=\"text-align: right;\">\n",
              "      <th></th>\n",
              "      <th>Date</th>\n",
              "      <th>Open</th>\n",
              "      <th>High</th>\n",
              "      <th>Low</th>\n",
              "      <th>Close</th>\n",
              "      <th>Volume</th>\n",
              "    </tr>\n",
              "  </thead>\n",
              "  <tbody>\n",
              "    <tr>\n",
              "      <th>0</th>\n",
              "      <td>2021-12-13</td>\n",
              "      <td>378.424906</td>\n",
              "      <td>378.424906</td>\n",
              "      <td>370.173253</td>\n",
              "      <td>372.088654</td>\n",
              "      <td>2313300</td>\n",
              "    </tr>\n",
              "    <tr>\n",
              "      <th>1</th>\n",
              "      <td>2021-12-14</td>\n",
              "      <td>371.043895</td>\n",
              "      <td>379.692173</td>\n",
              "      <td>370.753696</td>\n",
              "      <td>376.132263</td>\n",
              "      <td>2788500</td>\n",
              "    </tr>\n",
              "    <tr>\n",
              "      <th>2</th>\n",
              "      <td>2021-12-15</td>\n",
              "      <td>376.790051</td>\n",
              "      <td>378.628046</td>\n",
              "      <td>368.180477</td>\n",
              "      <td>377.186676</td>\n",
              "      <td>2802300</td>\n",
              "    </tr>\n",
              "    <tr>\n",
              "      <th>3</th>\n",
              "      <td>2021-12-16</td>\n",
              "      <td>382.236333</td>\n",
              "      <td>386.792630</td>\n",
              "      <td>379.014979</td>\n",
              "      <td>384.403229</td>\n",
              "      <td>3578200</td>\n",
              "    </tr>\n",
              "    <tr>\n",
              "      <th>4</th>\n",
              "      <td>2021-12-17</td>\n",
              "      <td>376.509544</td>\n",
              "      <td>380.824030</td>\n",
              "      <td>368.209534</td>\n",
              "      <td>369.341339</td>\n",
              "      <td>7058600</td>\n",
              "    </tr>\n",
              "    <tr>\n",
              "      <th>5</th>\n",
              "      <td>2021-12-20</td>\n",
              "      <td>363.266240</td>\n",
              "      <td>363.372666</td>\n",
              "      <td>354.685686</td>\n",
              "      <td>359.483826</td>\n",
              "      <td>3735600</td>\n",
              "    </tr>\n",
              "    <tr>\n",
              "      <th>6</th>\n",
              "      <td>2021-12-21</td>\n",
              "      <td>364.146529</td>\n",
              "      <td>369.621839</td>\n",
              "      <td>362.531040</td>\n",
              "      <td>367.909607</td>\n",
              "      <td>2942800</td>\n",
              "    </tr>\n",
              "    <tr>\n",
              "      <th>7</th>\n",
              "      <td>2021-12-22</td>\n",
              "      <td>368.006356</td>\n",
              "      <td>371.479206</td>\n",
              "      <td>366.893859</td>\n",
              "      <td>369.854004</td>\n",
              "      <td>1487900</td>\n",
              "    </tr>\n",
              "    <tr>\n",
              "      <th>8</th>\n",
              "      <td>2021-12-23</td>\n",
              "      <td>371.266406</td>\n",
              "      <td>374.961731</td>\n",
              "      <td>371.053583</td>\n",
              "      <td>372.475616</td>\n",
              "      <td>1624000</td>\n",
              "    </tr>\n",
              "    <tr>\n",
              "      <th>9</th>\n",
              "      <td>2021-12-27</td>\n",
              "      <td>374.361961</td>\n",
              "      <td>376.412778</td>\n",
              "      <td>372.436907</td>\n",
              "      <td>375.377716</td>\n",
              "      <td>1430400</td>\n",
              "    </tr>\n",
              "    <tr>\n",
              "      <th>10</th>\n",
              "      <td>2021-12-28</td>\n",
              "      <td>376.238665</td>\n",
              "      <td>378.560343</td>\n",
              "      <td>373.636441</td>\n",
              "      <td>374.961731</td>\n",
              "      <td>1528200</td>\n",
              "    </tr>\n",
              "    <tr>\n",
              "      <th>11</th>\n",
              "      <td>2021-12-29</td>\n",
              "      <td>375.309980</td>\n",
              "      <td>376.751349</td>\n",
              "      <td>371.875833</td>\n",
              "      <td>373.597748</td>\n",
              "      <td>1327800</td>\n",
              "    </tr>\n",
              "    <tr>\n",
              "      <th>12</th>\n",
              "      <td>2021-12-30</td>\n",
              "      <td>375.097153</td>\n",
              "      <td>377.060910</td>\n",
              "      <td>372.630375</td>\n",
              "      <td>372.939911</td>\n",
              "      <td>1160100</td>\n",
              "    </tr>\n",
              "    <tr>\n",
              "      <th>13</th>\n",
              "      <td>2021-12-31</td>\n",
              "      <td>372.436929</td>\n",
              "      <td>374.371666</td>\n",
              "      <td>368.412672</td>\n",
              "      <td>370.066864</td>\n",
              "      <td>1601300</td>\n",
              "    </tr>\n",
              "    <tr>\n",
              "      <th>14</th>\n",
              "      <td>2022-01-03</td>\n",
              "      <td>376.306379</td>\n",
              "      <td>386.270264</td>\n",
              "      <td>374.700544</td>\n",
              "      <td>382.429810</td>\n",
              "      <td>3334300</td>\n",
              "    </tr>\n",
              "  </tbody>\n",
              "</table>\n",
              "</div>\n",
              "      <button class=\"colab-df-convert\" onclick=\"convertToInteractive('df-5b0d993a-9d37-4fc1-8d44-a5c92761cd01')\"\n",
              "              title=\"Convert this dataframe to an interactive table.\"\n",
              "              style=\"display:none;\">\n",
              "        \n",
              "  <svg xmlns=\"http://www.w3.org/2000/svg\" height=\"24px\"viewBox=\"0 0 24 24\"\n",
              "       width=\"24px\">\n",
              "    <path d=\"M0 0h24v24H0V0z\" fill=\"none\"/>\n",
              "    <path d=\"M18.56 5.44l.94 2.06.94-2.06 2.06-.94-2.06-.94-.94-2.06-.94 2.06-2.06.94zm-11 1L8.5 8.5l.94-2.06 2.06-.94-2.06-.94L8.5 2.5l-.94 2.06-2.06.94zm10 10l.94 2.06.94-2.06 2.06-.94-2.06-.94-.94-2.06-.94 2.06-2.06.94z\"/><path d=\"M17.41 7.96l-1.37-1.37c-.4-.4-.92-.59-1.43-.59-.52 0-1.04.2-1.43.59L10.3 9.45l-7.72 7.72c-.78.78-.78 2.05 0 2.83L4 21.41c.39.39.9.59 1.41.59.51 0 1.02-.2 1.41-.59l7.78-7.78 2.81-2.81c.8-.78.8-2.07 0-2.86zM5.41 20L4 18.59l7.72-7.72 1.47 1.35L5.41 20z\"/>\n",
              "  </svg>\n",
              "      </button>\n",
              "      \n",
              "  <style>\n",
              "    .colab-df-container {\n",
              "      display:flex;\n",
              "      flex-wrap:wrap;\n",
              "      gap: 12px;\n",
              "    }\n",
              "\n",
              "    .colab-df-convert {\n",
              "      background-color: #E8F0FE;\n",
              "      border: none;\n",
              "      border-radius: 50%;\n",
              "      cursor: pointer;\n",
              "      display: none;\n",
              "      fill: #1967D2;\n",
              "      height: 32px;\n",
              "      padding: 0 0 0 0;\n",
              "      width: 32px;\n",
              "    }\n",
              "\n",
              "    .colab-df-convert:hover {\n",
              "      background-color: #E2EBFA;\n",
              "      box-shadow: 0px 1px 2px rgba(60, 64, 67, 0.3), 0px 1px 3px 1px rgba(60, 64, 67, 0.15);\n",
              "      fill: #174EA6;\n",
              "    }\n",
              "\n",
              "    [theme=dark] .colab-df-convert {\n",
              "      background-color: #3B4455;\n",
              "      fill: #D2E3FC;\n",
              "    }\n",
              "\n",
              "    [theme=dark] .colab-df-convert:hover {\n",
              "      background-color: #434B5C;\n",
              "      box-shadow: 0px 1px 3px 1px rgba(0, 0, 0, 0.15);\n",
              "      filter: drop-shadow(0px 1px 2px rgba(0, 0, 0, 0.3));\n",
              "      fill: #FFFFFF;\n",
              "    }\n",
              "  </style>\n",
              "\n",
              "      <script>\n",
              "        const buttonEl =\n",
              "          document.querySelector('#df-5b0d993a-9d37-4fc1-8d44-a5c92761cd01 button.colab-df-convert');\n",
              "        buttonEl.style.display =\n",
              "          google.colab.kernel.accessAllowed ? 'block' : 'none';\n",
              "\n",
              "        async function convertToInteractive(key) {\n",
              "          const element = document.querySelector('#df-5b0d993a-9d37-4fc1-8d44-a5c92761cd01');\n",
              "          const dataTable =\n",
              "            await google.colab.kernel.invokeFunction('convertToInteractive',\n",
              "                                                     [key], {});\n",
              "          if (!dataTable) return;\n",
              "\n",
              "          const docLinkHtml = 'Like what you see? Visit the ' +\n",
              "            '<a target=\"_blank\" href=https://colab.research.google.com/notebooks/data_table.ipynb>data table notebook</a>'\n",
              "            + ' to learn more about interactive tables.';\n",
              "          element.innerHTML = '';\n",
              "          dataTable['output_type'] = 'display_data';\n",
              "          await google.colab.output.renderOutput(dataTable, element);\n",
              "          const docLink = document.createElement('div');\n",
              "          docLink.innerHTML = docLinkHtml;\n",
              "          element.appendChild(docLink);\n",
              "        }\n",
              "      </script>\n",
              "    </div>\n",
              "  </div>\n",
              "  "
            ]
          },
          "metadata": {},
          "execution_count": 55
        }
      ]
    },
    {
      "cell_type": "markdown",
      "source": [
        "#Plotting the Clustered Commodities"
      ],
      "metadata": {
        "id": "0H5FRhn9KfZp"
      },
      "id": "0H5FRhn9KfZp"
    },
    {
      "cell_type": "code",
      "source": [
        "#generate a Date column in gdf\n",
        "def getDateColumn():\n",
        "  df = pd.read_csv('GS')  \n",
        "  return df['Date']  #pandas series"
      ],
      "metadata": {
        "id": "hQ6W45x-HlE8"
      },
      "id": "hQ6W45x-HlE8",
      "execution_count": 57,
      "outputs": []
    },
    {
      "cell_type": "code",
      "source": [
        "symUpper = [x.upper() for x in sym] #make all symbols in sym to uppercase\n",
        "# print(symUpper)\n",
        "gdf = pd.DataFrame(columns=symUpper) #form a new global dataframe, gdf, for purpose of graphing\n",
        "gdf['Date'] = getDateColumn()            #get a common index for dates, for every commodity or equity\n",
        "for i in range(len(symUpper)):           #iterate the length of the uppercase symbols\n",
        "  df_x = pd.read_csv( symUpper[i])       #create one dataframe to hold the csv contents\n",
        "  gdf[symUpper[i]] = df_x['Close']       #extract the price series from the 'Closed' column\n",
        "print(gdf.head(3))                       #print the resulting top three rows from the new gdf\n",
        "# print(gdf.columns)\n"
      ],
      "metadata": {
        "id": "Y4rb7eofDjgw",
        "colab": {
          "base_uri": "https://localhost:8080/"
        },
        "outputId": "b395b2e5-51fb-4481-936b-43c108d127d6"
      },
      "id": "Y4rb7eofDjgw",
      "execution_count": 58,
      "outputs": [
        {
          "output_type": "stream",
          "name": "stdout",
          "text": [
            "         BAC        CAH        CVS          GS         JPM       TDOC  \\\n",
            "0  42.313931  46.186237  95.270760  372.088654  150.782211  92.540001   \n",
            "1  42.847950  46.653446  95.155167  376.132263  151.937531  92.169998   \n",
            "2  42.663464  46.920414  96.860214  377.186676  150.801300  92.940002   \n",
            "\n",
            "          UNP        Date  \n",
            "0  237.521729  2021-12-13  \n",
            "1  236.429550  2021-12-14  \n",
            "2  238.855576  2021-12-15  \n"
          ]
        }
      ]
    },
    {
      "cell_type": "code",
      "source": [
        "fig = px.line(gdf, x=\"Date\", y=gdf.columns,\n",
        "              hover_data={\"Date\": \"|%B %d, %Y\"},\n",
        "              title='Commodity Covariance Study')\n",
        "fig.update_xaxes(\n",
        "    dtick=\"M1\",\n",
        "    tickformat=\"%b\\n%Y\")\n",
        "fig.show()"
      ],
      "metadata": {
        "id": "-w16P8BxHAu5",
        "colab": {
          "base_uri": "https://localhost:8080/",
          "height": 542
        },
        "outputId": "a1ae8e2c-b7eb-4252-e2a1-a00e4a37ab68"
      },
      "id": "-w16P8BxHAu5",
      "execution_count": 59,
      "outputs": [
        {
          "output_type": "display_data",
          "data": {
            "text/html": [
              "<html>\n",
              "<head><meta charset=\"utf-8\" /></head>\n",
              "<body>\n",
              "    <div>            <script src=\"https://cdnjs.cloudflare.com/ajax/libs/mathjax/2.7.5/MathJax.js?config=TeX-AMS-MML_SVG\"></script><script type=\"text/javascript\">if (window.MathJax && window.MathJax.Hub && window.MathJax.Hub.Config) {window.MathJax.Hub.Config({SVG: {font: \"STIX-Web\"}});}</script>                <script type=\"text/javascript\">window.PlotlyConfig = {MathJaxConfig: 'local'};</script>\n",
              "        <script src=\"https://cdn.plot.ly/plotly-2.18.2.min.js\"></script>                <div id=\"7504a713-51ff-4dcf-9fcc-4c11f63bea3e\" class=\"plotly-graph-div\" style=\"height:525px; width:100%;\"></div>            <script type=\"text/javascript\">                                    window.PLOTLYENV=window.PLOTLYENV || {};                                    if (document.getElementById(\"7504a713-51ff-4dcf-9fcc-4c11f63bea3e\")) {                    Plotly.newPlot(                        \"7504a713-51ff-4dcf-9fcc-4c11f63bea3e\",                        [{\"hovertemplate\":\"variable=BAC<br>Date=%{x|%B %d, %Y}<br>value=%{y}<extra></extra>\",\"legendgroup\":\"BAC\",\"line\":{\"color\":\"#636efa\",\"dash\":\"solid\"},\"marker\":{\"symbol\":\"circle\"},\"mode\":\"lines\",\"name\":\"BAC\",\"showlegend\":true,\"x\":[\"2021-12-13\",\"2021-12-14\",\"2021-12-15\",\"2021-12-16\",\"2021-12-17\",\"2021-12-20\",\"2021-12-21\",\"2021-12-22\",\"2021-12-23\",\"2021-12-27\",\"2021-12-28\",\"2021-12-29\",\"2021-12-30\",\"2021-12-31\",\"2022-01-03\",\"2022-01-04\",\"2022-01-05\",\"2022-01-06\",\"2022-01-07\",\"2022-01-10\",\"2022-01-11\",\"2022-01-12\",\"2022-01-13\",\"2022-01-14\",\"2022-01-18\",\"2022-01-19\",\"2022-01-20\",\"2022-01-21\",\"2022-01-24\",\"2022-01-25\",\"2022-01-26\",\"2022-01-27\",\"2022-01-28\",\"2022-01-31\",\"2022-02-01\",\"2022-02-02\",\"2022-02-03\",\"2022-02-04\",\"2022-02-07\",\"2022-02-08\",\"2022-02-09\",\"2022-02-10\",\"2022-02-11\",\"2022-02-14\",\"2022-02-15\",\"2022-02-16\",\"2022-02-17\",\"2022-02-18\",\"2022-02-22\",\"2022-02-23\",\"2022-02-24\",\"2022-02-25\",\"2022-02-28\",\"2022-03-01\",\"2022-03-02\",\"2022-03-03\",\"2022-03-04\",\"2022-03-07\",\"2022-03-08\",\"2022-03-09\",\"2022-03-10\",\"2022-03-11\",\"2022-03-14\",\"2022-03-15\",\"2022-03-16\",\"2022-03-17\",\"2022-03-18\",\"2022-03-21\",\"2022-03-22\",\"2022-03-23\",\"2022-03-24\",\"2022-03-25\",\"2022-03-28\",\"2022-03-29\",\"2022-03-30\",\"2022-03-31\",\"2022-04-01\",\"2022-04-04\",\"2022-04-05\",\"2022-04-06\",\"2022-04-07\",\"2022-04-08\",\"2022-04-11\",\"2022-04-12\",\"2022-04-13\",\"2022-04-14\",\"2022-04-18\",\"2022-04-19\",\"2022-04-20\",\"2022-04-21\",\"2022-04-22\",\"2022-04-25\",\"2022-04-26\",\"2022-04-27\",\"2022-04-28\",\"2022-04-29\",\"2022-05-02\",\"2022-05-03\",\"2022-05-04\",\"2022-05-05\",\"2022-05-06\",\"2022-05-09\",\"2022-05-10\",\"2022-05-11\",\"2022-05-12\",\"2022-05-13\",\"2022-05-16\",\"2022-05-17\",\"2022-05-18\",\"2022-05-19\",\"2022-05-20\",\"2022-05-23\",\"2022-05-24\",\"2022-05-25\",\"2022-05-26\",\"2022-05-27\",\"2022-05-31\",\"2022-06-01\",\"2022-06-02\",\"2022-06-03\",\"2022-06-06\",\"2022-06-07\",\"2022-06-08\",\"2022-06-09\",\"2022-06-10\",\"2022-06-13\",\"2022-06-14\",\"2022-06-15\",\"2022-06-16\",\"2022-06-17\",\"2022-06-21\",\"2022-06-22\",\"2022-06-23\",\"2022-06-24\",\"2022-06-27\",\"2022-06-28\",\"2022-06-29\",\"2022-06-30\",\"2022-07-01\",\"2022-07-05\",\"2022-07-06\",\"2022-07-07\",\"2022-07-08\",\"2022-07-11\",\"2022-07-12\",\"2022-07-13\",\"2022-07-14\",\"2022-07-15\",\"2022-07-18\",\"2022-07-19\",\"2022-07-20\",\"2022-07-21\",\"2022-07-22\",\"2022-07-25\",\"2022-07-26\",\"2022-07-27\",\"2022-07-28\",\"2022-07-29\",\"2022-08-01\",\"2022-08-02\",\"2022-08-03\",\"2022-08-04\",\"2022-08-05\",\"2022-08-08\",\"2022-08-09\",\"2022-08-10\",\"2022-08-11\",\"2022-08-12\",\"2022-08-15\",\"2022-08-16\",\"2022-08-17\",\"2022-08-18\",\"2022-08-19\",\"2022-08-22\",\"2022-08-23\",\"2022-08-24\",\"2022-08-25\",\"2022-08-26\",\"2022-08-29\",\"2022-08-30\",\"2022-08-31\",\"2022-09-01\",\"2022-09-02\",\"2022-09-06\",\"2022-09-07\",\"2022-09-08\",\"2022-09-09\",\"2022-09-12\",\"2022-09-13\",\"2022-09-14\",\"2022-09-15\",\"2022-09-16\",\"2022-09-19\",\"2022-09-20\",\"2022-09-21\",\"2022-09-22\",\"2022-09-23\",\"2022-09-26\",\"2022-09-27\",\"2022-09-28\",\"2022-09-29\",\"2022-09-30\",\"2022-10-03\",\"2022-10-04\",\"2022-10-05\",\"2022-10-06\",\"2022-10-07\",\"2022-10-10\",\"2022-10-11\",\"2022-10-12\",\"2022-10-13\",\"2022-10-14\",\"2022-10-17\",\"2022-10-18\",\"2022-10-19\",\"2022-10-20\",\"2022-10-21\",\"2022-10-24\",\"2022-10-25\",\"2022-10-26\",\"2022-10-27\",\"2022-10-28\",\"2022-10-31\",\"2022-11-01\",\"2022-11-02\",\"2022-11-03\",\"2022-11-04\",\"2022-11-07\",\"2022-11-08\",\"2022-11-09\",\"2022-11-10\",\"2022-11-11\",\"2022-11-14\",\"2022-11-15\",\"2022-11-16\",\"2022-11-17\",\"2022-11-18\",\"2022-11-21\",\"2022-11-22\",\"2022-11-23\",\"2022-11-25\",\"2022-11-28\",\"2022-11-29\",\"2022-11-30\",\"2022-12-01\",\"2022-12-02\",\"2022-12-05\",\"2022-12-06\",\"2022-12-07\",\"2022-12-08\",\"2022-12-09\",\"2022-12-12\",\"2022-12-13\",\"2022-12-14\",\"2022-12-15\",\"2022-12-16\",\"2022-12-19\",\"2022-12-20\",\"2022-12-21\",\"2022-12-22\",\"2022-12-23\",\"2022-12-27\",\"2022-12-28\",\"2022-12-29\",\"2022-12-30\",\"2023-01-03\",\"2023-01-04\",\"2023-01-05\",\"2023-01-06\",\"2023-01-09\",\"2023-01-10\",\"2023-01-11\",\"2023-01-12\",\"2023-01-13\",\"2023-01-17\",\"2023-01-18\",\"2023-01-19\",\"2023-01-20\",\"2023-01-23\",\"2023-01-24\",\"2023-01-25\",\"2023-01-26\",\"2023-01-27\",\"2023-01-30\",\"2023-01-31\",\"2023-02-01\",\"2023-02-02\",\"2023-02-03\",\"2023-02-06\",\"2023-02-07\",\"2023-02-08\",\"2023-02-09\",\"2023-02-10\",\"2023-02-13\",\"2023-02-14\",\"2023-02-15\",\"2023-02-16\",\"2023-02-17\",\"2023-02-21\",\"2023-02-22\",\"2023-02-23\",\"2023-02-24\",\"2023-02-27\",\"2023-02-28\",\"2023-03-01\",\"2023-03-02\",\"2023-03-03\",\"2023-03-06\",\"2023-03-07\",\"2023-03-08\",\"2023-03-09\",\"2023-03-10\",\"2023-03-13\",\"2023-03-14\",\"2023-03-15\",\"2023-03-16\",\"2023-03-17\",\"2023-03-20\",\"2023-03-21\",\"2023-03-22\",\"2023-03-23\",\"2023-03-24\",\"2023-03-27\",\"2023-03-28\",\"2023-03-29\",\"2023-03-30\",\"2023-03-31\",\"2023-04-03\",\"2023-04-04\",\"2023-04-05\",\"2023-04-06\",\"2023-04-10\",\"2023-04-11\",\"2023-04-12\",\"2023-04-13\",\"2023-04-14\",\"2023-04-17\",\"2023-04-18\",\"2023-04-19\",\"2023-04-20\",\"2023-04-21\",\"2023-04-24\",\"2023-04-25\",\"2023-04-26\",\"2023-04-27\",\"2023-04-28\",\"2023-05-01\",\"2023-05-02\",\"2023-05-03\",\"2023-05-04\",\"2023-05-05\",\"2023-05-08\",\"2023-05-09\",\"2023-05-10\",\"2023-05-11\",\"2023-05-12\",\"2023-05-15\",\"2023-05-16\",\"2023-05-17\",\"2023-05-18\",\"2023-05-19\",\"2023-05-22\",\"2023-05-23\",\"2023-05-24\",\"2023-05-25\"],\"xaxis\":\"x\",\"y\":[42.31393051147461,42.84794998168945,42.6634635925293,43.69266891479492,42.60520935058594,41.90612411499024,42.90620422363281,42.99358749389648,43.129520416259766,43.34313201904297,43.40138626098633,43.33341979980469,43.236324310302734,43.19749069213867,44.83839416503906,46.59580612182617,45.8093376159668,46.73173904418945,47.75123596191406,47.50849914550781,47.78036117553711,47.440528869628906,47.34343338012695,46.51813125610352,44.91606521606445,45.09083557128906,44.42088317871094,43.614990234375,43.2557373046875,44.11017990112305,44.5665283203125,44.14901351928711,44.53739547729492,44.79954528808594,45.57631301879883,45.52775955200195,45.08112716674805,46.87737655639648,47.1006965637207,47.9454231262207,47.848331451416016,47.62501525878906,46.52783966064453,46.042362213134766,46.401615142822266,46.29481506347656,44.73158645629883,44.62477493286133,44.23640060424805,43.47906112670898,42.33333969116211,43.71209335327149,42.91591262817383,41.236175537109375,41.90612411499024,41.45730972290039,39.95473861694336,37.40816879272461,37.65209579467773,40.04254913330078,39.68153762817383,39.34980392456055,40.19865798950195,40.49136352539063,41.759765625,41.98417663574219,41.85734558105469,41.79880142211914,43.106231689453125,42.042728424072266,42.0232048034668,42.66716384887695,42.49154281616211,42.38421249389648,41.95491027832031,40.21817398071289,39.905948638916016,39.83765411376953,39.16442108154297,38.73511505126953,38.432647705078125,38.70584487915039,38.62778854370117,38.21799087524414,37.87650680541992,36.656883239746094,37.9057731628418,38.60827255249024,38.69609069824219,37.96431350708008,36.64712905883789,36.38368988037109,35.56410598754883,35.36896514892578,35.91535568237305,34.81281661987305,35.26163864135742,36.227577209472656,37.68136596679688,36.62761306762695,36.539798736572266,35.486045837402344,34.890872955322266,34.70549392700195,34.2176399230957,34.315216064453125,33.963966369628906,35.11528396606445,34.032257080078125,33.61271286010742,33.037052154541016,34.998199462890625,34.78355026245117,34.968929290771484,35.77875518798828,36.12024688720703,36.295875549316406,35.77875518798828,36.01427459716797,35.51380157470703,35.474552154541016,35.67081069946289,35.21940612792969,33.86518859863281,32.550228118896484,31.421714782714844,30.87217903137207,31.451154708862305,31.2548942565918,31.323583602905277,32.236209869384766,31.99087905883789,31.48059844970703,31.706300735473636,31.745548248291016,31.657230377197266,31.264707565307617,30.548343658447266,30.970312118530277,30.65629196166992,30.40114974975586,31.264707565307617,31.196014404296875,30.87217903137207,30.774049758911133,30.263765335083008,29.56702995300293,31.64741897583008,31.657230377197266,32.726863861083984,32.73667907714844,33.021263122558594,32.80537414550781,33.099761962890625,32.432472229003906,32.96238327026367,32.69742584228516,33.17827224731445,33.08014297485352,32.42266082763672,33.01144790649414,32.775936126708984,33.325469970703125,32.86425018310547,33.286216735839844,34.41472625732422,35.23903274536133,35.62174606323242,35.57267761230469,35.95539093017578,35.72969055175781,35.60211563110352,34.81707000732422,34.07127380371094,33.767059326171875,33.87500762939453,34.483421325683594,33.39415740966797,33.26659393310547,33.45304107666016,32.98200988769531,33.061031341552734,33.02151870727539,32.65604019165039,33.15980529785156,34.22661209106445,34.513065338134766,34.83903884887695,33.58455276489258,33.45614242553711,34.08831787109375,33.703086853027344,34.26612091064453,33.75247573852539,32.74494171142578,32.102882385253906,31.3422908782959,30.65084457397461,30.19646453857422,30.69035530090332,30.28536605834961,29.83098602294922,30.710111618041992,31.984352111816406,31.529970169067383,31.07558822631836,30.374265670776367,30.28536605834961,29.40624046325684,29.495141983032227,31.302780151367188,31.31266021728516,33.209197998046875,34.453800201416016,33.50553131103516,33.28822326660156,34.522945404052734,34.6414794921875,34.95756912231445,35.2637825012207,35.43170547485352,35.7379150390625,35.59962844848633,35.75767517089844,35.64901351928711,35.45145797729492,36.3404655456543,36.55777359008789,36.656551361083984,36.07376480102539,37.66408920288086,37.94066619873047,37.298606872558594,37.23934555053711,36.90349960327149,36.715816497802734,36.735572814941406,36.85411071777344,37.03190994262695,37.15044403076172,37.23934555053711,36.409610748291016,36.54789733886719,37.387508392333984,36.31446838378906,35.84749984741211,34.24787521362305,32.78734588623047,32.529022216796875,32.230953216552734,32.17134475708008,32.51908493041992,32.53895950317383,32.07198715209961,31.56527328491211,31.495725631713867,31.853404998779297,31.98256492614746,32.46940994262695,32.181278228759766,32.260765075683594,32.32037353515625,32.55883026123047,32.92644500732422,32.90657424926758,33.29405975341797,33.91999816894531,33.8504524230957,34.18825912475586,33.67161178588867,33.90012741088867,34.15845489501953,34.24787521362305,35.00297546386719,34.29755401611328,33.502708435058594,33.015865325927734,33.631866455078125,34.098838806152344,34.34722900390625,34.645294189453125,35.112266540527344,35.221561431884766,35.07252502441406,35.251365661621094,35.68852996826172,35.897178649902344,36.19524383544922,36.13562774658203,36.53305435180664,36.264793395996094,35.48981857299805,35.35072326660156,35.42027282714844,35.39046096801758,35.33085250854492,35.05265426635742,35.12220001220703,34.29755401611328,34.069034576416016,34.03922653198242,33.98954772949219,33.98954772949219,34.0789680480957,33.91999816894531,33.4900016784668,34.15999984741211,34.09000015258789,33.0,32.560001373291016,30.540000915527344,30.270000457763672,28.51000022888184,28.76000022888184,28.489999771118164,28.96999931335449,27.81999969482422,27.75,28.59000015258789,27.63999938964844,26.96999931335449,27.13999938964844,28.489999771118164,28.1200008392334,28.670000076293945,28.299999237060547,28.600000381469727,28.59000015258789,27.979999542236328,27.63999938964844,27.84000015258789,27.940000534057617,28.709999084472656,28.479999542236328,28.559999465942383,29.520000457763672,30.3700008392334,30.559999465942383,30.059999465942383,29.899999618530277,29.8700008392334,29.76000022888184,28.84000015258789,28.440000534057617,28.88999938964844,29.280000686645508,29.040000915527344,28.15999984741211,27.86000061035156,26.989999771118164,27.709999084472656,27.690000534057617,27.65999984741211,27.31999969482422,27.38999938964844,27.09000015258789,27.649999618530277,27.36000061035156,28.56999969482422,28.46999931335449,28.11000061035156,28.34000015258789,28.57999992370605,28.100000381469727,28.170000076293945],\"yaxis\":\"y\",\"type\":\"scattergl\"},{\"hovertemplate\":\"variable=CAH<br>Date=%{x|%B %d, %Y}<br>value=%{y}<extra></extra>\",\"legendgroup\":\"CAH\",\"line\":{\"color\":\"#EF553B\",\"dash\":\"solid\"},\"marker\":{\"symbol\":\"circle\"},\"mode\":\"lines\",\"name\":\"CAH\",\"showlegend\":true,\"x\":[\"2021-12-13\",\"2021-12-14\",\"2021-12-15\",\"2021-12-16\",\"2021-12-17\",\"2021-12-20\",\"2021-12-21\",\"2021-12-22\",\"2021-12-23\",\"2021-12-27\",\"2021-12-28\",\"2021-12-29\",\"2021-12-30\",\"2021-12-31\",\"2022-01-03\",\"2022-01-04\",\"2022-01-05\",\"2022-01-06\",\"2022-01-07\",\"2022-01-10\",\"2022-01-11\",\"2022-01-12\",\"2022-01-13\",\"2022-01-14\",\"2022-01-18\",\"2022-01-19\",\"2022-01-20\",\"2022-01-21\",\"2022-01-24\",\"2022-01-25\",\"2022-01-26\",\"2022-01-27\",\"2022-01-28\",\"2022-01-31\",\"2022-02-01\",\"2022-02-02\",\"2022-02-03\",\"2022-02-04\",\"2022-02-07\",\"2022-02-08\",\"2022-02-09\",\"2022-02-10\",\"2022-02-11\",\"2022-02-14\",\"2022-02-15\",\"2022-02-16\",\"2022-02-17\",\"2022-02-18\",\"2022-02-22\",\"2022-02-23\",\"2022-02-24\",\"2022-02-25\",\"2022-02-28\",\"2022-03-01\",\"2022-03-02\",\"2022-03-03\",\"2022-03-04\",\"2022-03-07\",\"2022-03-08\",\"2022-03-09\",\"2022-03-10\",\"2022-03-11\",\"2022-03-14\",\"2022-03-15\",\"2022-03-16\",\"2022-03-17\",\"2022-03-18\",\"2022-03-21\",\"2022-03-22\",\"2022-03-23\",\"2022-03-24\",\"2022-03-25\",\"2022-03-28\",\"2022-03-29\",\"2022-03-30\",\"2022-03-31\",\"2022-04-01\",\"2022-04-04\",\"2022-04-05\",\"2022-04-06\",\"2022-04-07\",\"2022-04-08\",\"2022-04-11\",\"2022-04-12\",\"2022-04-13\",\"2022-04-14\",\"2022-04-18\",\"2022-04-19\",\"2022-04-20\",\"2022-04-21\",\"2022-04-22\",\"2022-04-25\",\"2022-04-26\",\"2022-04-27\",\"2022-04-28\",\"2022-04-29\",\"2022-05-02\",\"2022-05-03\",\"2022-05-04\",\"2022-05-05\",\"2022-05-06\",\"2022-05-09\",\"2022-05-10\",\"2022-05-11\",\"2022-05-12\",\"2022-05-13\",\"2022-05-16\",\"2022-05-17\",\"2022-05-18\",\"2022-05-19\",\"2022-05-20\",\"2022-05-23\",\"2022-05-24\",\"2022-05-25\",\"2022-05-26\",\"2022-05-27\",\"2022-05-31\",\"2022-06-01\",\"2022-06-02\",\"2022-06-03\",\"2022-06-06\",\"2022-06-07\",\"2022-06-08\",\"2022-06-09\",\"2022-06-10\",\"2022-06-13\",\"2022-06-14\",\"2022-06-15\",\"2022-06-16\",\"2022-06-17\",\"2022-06-21\",\"2022-06-22\",\"2022-06-23\",\"2022-06-24\",\"2022-06-27\",\"2022-06-28\",\"2022-06-29\",\"2022-06-30\",\"2022-07-01\",\"2022-07-05\",\"2022-07-06\",\"2022-07-07\",\"2022-07-08\",\"2022-07-11\",\"2022-07-12\",\"2022-07-13\",\"2022-07-14\",\"2022-07-15\",\"2022-07-18\",\"2022-07-19\",\"2022-07-20\",\"2022-07-21\",\"2022-07-22\",\"2022-07-25\",\"2022-07-26\",\"2022-07-27\",\"2022-07-28\",\"2022-07-29\",\"2022-08-01\",\"2022-08-02\",\"2022-08-03\",\"2022-08-04\",\"2022-08-05\",\"2022-08-08\",\"2022-08-09\",\"2022-08-10\",\"2022-08-11\",\"2022-08-12\",\"2022-08-15\",\"2022-08-16\",\"2022-08-17\",\"2022-08-18\",\"2022-08-19\",\"2022-08-22\",\"2022-08-23\",\"2022-08-24\",\"2022-08-25\",\"2022-08-26\",\"2022-08-29\",\"2022-08-30\",\"2022-08-31\",\"2022-09-01\",\"2022-09-02\",\"2022-09-06\",\"2022-09-07\",\"2022-09-08\",\"2022-09-09\",\"2022-09-12\",\"2022-09-13\",\"2022-09-14\",\"2022-09-15\",\"2022-09-16\",\"2022-09-19\",\"2022-09-20\",\"2022-09-21\",\"2022-09-22\",\"2022-09-23\",\"2022-09-26\",\"2022-09-27\",\"2022-09-28\",\"2022-09-29\",\"2022-09-30\",\"2022-10-03\",\"2022-10-04\",\"2022-10-05\",\"2022-10-06\",\"2022-10-07\",\"2022-10-10\",\"2022-10-11\",\"2022-10-12\",\"2022-10-13\",\"2022-10-14\",\"2022-10-17\",\"2022-10-18\",\"2022-10-19\",\"2022-10-20\",\"2022-10-21\",\"2022-10-24\",\"2022-10-25\",\"2022-10-26\",\"2022-10-27\",\"2022-10-28\",\"2022-10-31\",\"2022-11-01\",\"2022-11-02\",\"2022-11-03\",\"2022-11-04\",\"2022-11-07\",\"2022-11-08\",\"2022-11-09\",\"2022-11-10\",\"2022-11-11\",\"2022-11-14\",\"2022-11-15\",\"2022-11-16\",\"2022-11-17\",\"2022-11-18\",\"2022-11-21\",\"2022-11-22\",\"2022-11-23\",\"2022-11-25\",\"2022-11-28\",\"2022-11-29\",\"2022-11-30\",\"2022-12-01\",\"2022-12-02\",\"2022-12-05\",\"2022-12-06\",\"2022-12-07\",\"2022-12-08\",\"2022-12-09\",\"2022-12-12\",\"2022-12-13\",\"2022-12-14\",\"2022-12-15\",\"2022-12-16\",\"2022-12-19\",\"2022-12-20\",\"2022-12-21\",\"2022-12-22\",\"2022-12-23\",\"2022-12-27\",\"2022-12-28\",\"2022-12-29\",\"2022-12-30\",\"2023-01-03\",\"2023-01-04\",\"2023-01-05\",\"2023-01-06\",\"2023-01-09\",\"2023-01-10\",\"2023-01-11\",\"2023-01-12\",\"2023-01-13\",\"2023-01-17\",\"2023-01-18\",\"2023-01-19\",\"2023-01-20\",\"2023-01-23\",\"2023-01-24\",\"2023-01-25\",\"2023-01-26\",\"2023-01-27\",\"2023-01-30\",\"2023-01-31\",\"2023-02-01\",\"2023-02-02\",\"2023-02-03\",\"2023-02-06\",\"2023-02-07\",\"2023-02-08\",\"2023-02-09\",\"2023-02-10\",\"2023-02-13\",\"2023-02-14\",\"2023-02-15\",\"2023-02-16\",\"2023-02-17\",\"2023-02-21\",\"2023-02-22\",\"2023-02-23\",\"2023-02-24\",\"2023-02-27\",\"2023-02-28\",\"2023-03-01\",\"2023-03-02\",\"2023-03-03\",\"2023-03-06\",\"2023-03-07\",\"2023-03-08\",\"2023-03-09\",\"2023-03-10\",\"2023-03-13\",\"2023-03-14\",\"2023-03-15\",\"2023-03-16\",\"2023-03-17\",\"2023-03-20\",\"2023-03-21\",\"2023-03-22\",\"2023-03-23\",\"2023-03-24\",\"2023-03-27\",\"2023-03-28\",\"2023-03-29\",\"2023-03-30\",\"2023-03-31\",\"2023-04-03\",\"2023-04-04\",\"2023-04-05\",\"2023-04-06\",\"2023-04-10\",\"2023-04-11\",\"2023-04-12\",\"2023-04-13\",\"2023-04-14\",\"2023-04-17\",\"2023-04-18\",\"2023-04-19\",\"2023-04-20\",\"2023-04-21\",\"2023-04-24\",\"2023-04-25\",\"2023-04-26\",\"2023-04-27\",\"2023-04-28\",\"2023-05-01\",\"2023-05-02\",\"2023-05-03\",\"2023-05-04\",\"2023-05-05\",\"2023-05-08\",\"2023-05-09\",\"2023-05-10\",\"2023-05-11\",\"2023-05-12\",\"2023-05-15\",\"2023-05-16\",\"2023-05-17\",\"2023-05-18\",\"2023-05-19\",\"2023-05-22\",\"2023-05-23\",\"2023-05-24\",\"2023-05-25\"],\"xaxis\":\"x\",\"y\":[46.18623733520508,46.653446197509766,46.92041397094727,47.13971328735352,47.33994674682617,46.84414291381836,47.40668487548828,47.84528350830078,48.388763427734375,48.97038650512695,49.31363677978516,49.62828063964844,49.74269485473633,49.5607795715332,50.06129455566406,50.629188537597656,51.322208404541016,50.54256057739258,52.20773696899414,49.118011474609375,50.73506927490234,49.74365997314453,50.282676696777344,51.100830078125,50.61956024169922,50.119049072265625,49.6762809753418,48.665618896484375,48.90625762939453,48.84850311279297,48.896629333496094,50.35005187988281,50.65806579589844,49.63777923583984,49.406776428222656,49.66665649414063,49.50302505493164,50.01316833496094,50.65806579589844,52.12110900878906,51.94785690307617,50.831321716308594,50.58106231689453,50.33080291748047,51.52434539794922,52.49650192260742,52.467620849609375,52.14998626708984,51.89973068237305,51.44734191894531,50.51367950439453,52.16924285888672,51.986358642578125,50.85057067871094,51.45696258544922,51.79385757446289,51.97673416137695,50.46555709838867,50.46555709838867,51.19708251953125,51.17782974243164,50.60031127929688,50.638816833496094,51.90935516357422,51.755348205566406,55.04720687866211,55.14345932006836,55.44184875488281,55.58622741699219,54.63331985473633,55.12421417236328,55.788360595703125,55.63435363769531,55.45148086547852,55.47072219848633,55.04454803466797,55.91826629638672,55.04454803466797,55.17074966430664,55.73381423950195,57.64629364013672,60.09272003173828,59.5879020690918,61.451847076416016,61.18972396850586,61.12177276611328,61.14118957519531,60.8887825012207,61.9954948425293,61.888702392578125,59.7723503112793,59.45199203491211,58.85979843139648,58.08316421508789,58.07345199584961,56.355125427246094,56.384254455566406,57.07352066040039,58.7238883972168,56.18038177490234,56.56870269775391,55.30665969848633,54.413516998291016,54.26789855957031,53.374759674072266,53.986366271972656,54.50089263916016,55.04454803466797,54.054325103759766,54.19994354248047,54.17081832885742,55.29695129394531,55.44257354736328,56.05418014526367,56.32600021362305,56.01534652709961,54.67564010620117,53.811622619628906,52.90877532958984,52.24863052368164,52.17096710205078,52.33600234985352,51.986515045166016,50.8215446472168,51.89914321899414,49.98666000366211,49.61775588989258,49.54979705810547,49.00614547729492,49.219722747802734,49.98666000366211,51.05454254150391,51.47198486328125,52.860233306884766,53.258262634277344,52.24863052368164,52.1224250793457,51.21703720092773,52.03031921386719,51.19744491577149,51.579586029052734,51.68737030029297,51.853946685791016,51.92253875732422,52.12830352783203,51.8343505859375,52.961185455322266,54.09781646728516,53.63728332519531,54.55834579467773,54.568145751953125,54.99928283691406,55.84195709228516,56.12611389160156,56.63564300537109,56.939395904541016,57.693885803222656,58.36018753051758,59.10487365722656,58.55615615844727,58.9578971862793,59.026485443115234,60.270904541015625,60.25130844116211,60.525665283203125,61.48592376708984,64.67045593261719,67.92357635498047,68.56047821044922,68.72705078125,67.71780395507812,67.41405487060547,67.83538818359375,66.54197692871094,66.61056518554688,67.36505889892578,67.7080078125,66.23822021484375,68.28612518310547,68.43309020996094,69.29537200927734,69.8832778930664,69.55992889404297,68.10974884033203,69.54033660888672,69.20718383789062,68.48209381103516,67.63941192626953,65.48373413085938,65.39554595947266,65.05259704589844,65.51312255859375,66.82613372802734,66.42439270019531,66.15983581542969,65.91487121582031,64.71944427490234,64.44508361816406,64.876220703125,67.89418029785156,66.42439270019531,65.81832885742188,67.09165954589844,68.91775512695312,68.4933090209961,68.54266357421875,67.33843231201172,67.89118957519531,69.42115783691406,66.98308563232422,67.98003387451172,67.20024108886719,67.33843231201172,69.74690246582031,69.88509368896484,69.85547637939453,72.08627319335938,72.84632873535156,72.7673568725586,73.94197845458984,74.36641693115234,76.14315795898438,74.919189453125,74.41577911376953,74.08016967773438,74.69215393066406,78.49240112304688,79.93354034423828,79.07477569580078,79.13400268554688,76.9229507446289,74.29731750488281,74.23809814453125,73.35960388183594,74.20848846435547,75.59040069580078,76.67618560791016,76.71566009521484,77.87054443359375,77.42636108398438,77.92976379394531,77.44609832763672,77.63365173339844,79.13400268554688,78.23577117919922,79.83482360839844,78.45292663574219,78.37395477294922,79.11426544189453,79.73612213134766,76.54786682128906,78.49240112304688,77.24869537353516,77.53494262695312,77.55467987060547,78.25550079345703,78.31472778320312,78.5516357421875,78.96620178222656,79.51895904541016,79.01555633544922,78.12718963623047,77.58428955078125,76.71566009521484,76.36399841308594,76.22492218017578,76.4931411743164,76.11564636230469,78.12234497070312,77.05938720703125,77.6156997680664,76.01629638671875,76.01629638671875,76.36399841308594,75.91695404052734,75.96662902832031,74.98314666748047,75.32090759277344,74.98314666748047,74.35729217529297,75.23149871826172,77.36734008789062,75.9765625,76.73155975341797,76.74149322509766,75.22156524658203,75.77787780761719,78.15214538574219,76.52294158935547,78.09254455566406,79.39391326904297,77.7448501586914,79.30451202392578,78.93694305419922,78.23162078857422,78.06273651123047,78.12234497070312,78.26142120361328,77.65543365478516,77.00971221923828,77.18852996826172,77.05938720703125,76.90044403076172,75.21163177490234,75.4798583984375,74.21820831298828,74.70498657226562,74.16854858398438,72.48966979980469,72.1717758178711,70.82072448730469,70.72138214111328,69.63855743408203,70.25447845458984,69.36040496826172,70.04586029052734,69.1617202758789,70.67171478271484,71.78433990478516,69.4796142578125,68.55573272705078,69.90678405761719,70.77104949951172,71.99295806884766,74.10893249511719,74.85399627685547,75.5,76.70999908447266,76.66000366210938,79.41999816894531,79.2300033569336,79.62000274658203,79.94999694824219,79.1500015258789,80.72000122070312,80.62999725341797,80.05999755859375,79.44999694824219,78.98999786376953,80.08999633789062,80.08000183105469,81.0,80.87999725341797,80.38999938964844,82.08000183105469,82.0999984741211,82.25,82.36000061035156,81.63999938964844,80.83000183105469,83.19999694824219,84.1500015258789,84.3499984741211,85.18000030517578,84.83999633789062,84.7699966430664,85.31999969482422,85.80000305175781,86.55999755859375,85.55999755859375,85.93000030517578,85.9800033569336,84.79000091552734,84.95999908447266,84.69999694824219],\"yaxis\":\"y\",\"type\":\"scattergl\"},{\"hovertemplate\":\"variable=CVS<br>Date=%{x|%B %d, %Y}<br>value=%{y}<extra></extra>\",\"legendgroup\":\"CVS\",\"line\":{\"color\":\"#00cc96\",\"dash\":\"solid\"},\"marker\":{\"symbol\":\"circle\"},\"mode\":\"lines\",\"name\":\"CVS\",\"showlegend\":true,\"x\":[\"2021-12-13\",\"2021-12-14\",\"2021-12-15\",\"2021-12-16\",\"2021-12-17\",\"2021-12-20\",\"2021-12-21\",\"2021-12-22\",\"2021-12-23\",\"2021-12-27\",\"2021-12-28\",\"2021-12-29\",\"2021-12-30\",\"2021-12-31\",\"2022-01-03\",\"2022-01-04\",\"2022-01-05\",\"2022-01-06\",\"2022-01-07\",\"2022-01-10\",\"2022-01-11\",\"2022-01-12\",\"2022-01-13\",\"2022-01-14\",\"2022-01-18\",\"2022-01-19\",\"2022-01-20\",\"2022-01-21\",\"2022-01-24\",\"2022-01-25\",\"2022-01-26\",\"2022-01-27\",\"2022-01-28\",\"2022-01-31\",\"2022-02-01\",\"2022-02-02\",\"2022-02-03\",\"2022-02-04\",\"2022-02-07\",\"2022-02-08\",\"2022-02-09\",\"2022-02-10\",\"2022-02-11\",\"2022-02-14\",\"2022-02-15\",\"2022-02-16\",\"2022-02-17\",\"2022-02-18\",\"2022-02-22\",\"2022-02-23\",\"2022-02-24\",\"2022-02-25\",\"2022-02-28\",\"2022-03-01\",\"2022-03-02\",\"2022-03-03\",\"2022-03-04\",\"2022-03-07\",\"2022-03-08\",\"2022-03-09\",\"2022-03-10\",\"2022-03-11\",\"2022-03-14\",\"2022-03-15\",\"2022-03-16\",\"2022-03-17\",\"2022-03-18\",\"2022-03-21\",\"2022-03-22\",\"2022-03-23\",\"2022-03-24\",\"2022-03-25\",\"2022-03-28\",\"2022-03-29\",\"2022-03-30\",\"2022-03-31\",\"2022-04-01\",\"2022-04-04\",\"2022-04-05\",\"2022-04-06\",\"2022-04-07\",\"2022-04-08\",\"2022-04-11\",\"2022-04-12\",\"2022-04-13\",\"2022-04-14\",\"2022-04-18\",\"2022-04-19\",\"2022-04-20\",\"2022-04-21\",\"2022-04-22\",\"2022-04-25\",\"2022-04-26\",\"2022-04-27\",\"2022-04-28\",\"2022-04-29\",\"2022-05-02\",\"2022-05-03\",\"2022-05-04\",\"2022-05-05\",\"2022-05-06\",\"2022-05-09\",\"2022-05-10\",\"2022-05-11\",\"2022-05-12\",\"2022-05-13\",\"2022-05-16\",\"2022-05-17\",\"2022-05-18\",\"2022-05-19\",\"2022-05-20\",\"2022-05-23\",\"2022-05-24\",\"2022-05-25\",\"2022-05-26\",\"2022-05-27\",\"2022-05-31\",\"2022-06-01\",\"2022-06-02\",\"2022-06-03\",\"2022-06-06\",\"2022-06-07\",\"2022-06-08\",\"2022-06-09\",\"2022-06-10\",\"2022-06-13\",\"2022-06-14\",\"2022-06-15\",\"2022-06-16\",\"2022-06-17\",\"2022-06-21\",\"2022-06-22\",\"2022-06-23\",\"2022-06-24\",\"2022-06-27\",\"2022-06-28\",\"2022-06-29\",\"2022-06-30\",\"2022-07-01\",\"2022-07-05\",\"2022-07-06\",\"2022-07-07\",\"2022-07-08\",\"2022-07-11\",\"2022-07-12\",\"2022-07-13\",\"2022-07-14\",\"2022-07-15\",\"2022-07-18\",\"2022-07-19\",\"2022-07-20\",\"2022-07-21\",\"2022-07-22\",\"2022-07-25\",\"2022-07-26\",\"2022-07-27\",\"2022-07-28\",\"2022-07-29\",\"2022-08-01\",\"2022-08-02\",\"2022-08-03\",\"2022-08-04\",\"2022-08-05\",\"2022-08-08\",\"2022-08-09\",\"2022-08-10\",\"2022-08-11\",\"2022-08-12\",\"2022-08-15\",\"2022-08-16\",\"2022-08-17\",\"2022-08-18\",\"2022-08-19\",\"2022-08-22\",\"2022-08-23\",\"2022-08-24\",\"2022-08-25\",\"2022-08-26\",\"2022-08-29\",\"2022-08-30\",\"2022-08-31\",\"2022-09-01\",\"2022-09-02\",\"2022-09-06\",\"2022-09-07\",\"2022-09-08\",\"2022-09-09\",\"2022-09-12\",\"2022-09-13\",\"2022-09-14\",\"2022-09-15\",\"2022-09-16\",\"2022-09-19\",\"2022-09-20\",\"2022-09-21\",\"2022-09-22\",\"2022-09-23\",\"2022-09-26\",\"2022-09-27\",\"2022-09-28\",\"2022-09-29\",\"2022-09-30\",\"2022-10-03\",\"2022-10-04\",\"2022-10-05\",\"2022-10-06\",\"2022-10-07\",\"2022-10-10\",\"2022-10-11\",\"2022-10-12\",\"2022-10-13\",\"2022-10-14\",\"2022-10-17\",\"2022-10-18\",\"2022-10-19\",\"2022-10-20\",\"2022-10-21\",\"2022-10-24\",\"2022-10-25\",\"2022-10-26\",\"2022-10-27\",\"2022-10-28\",\"2022-10-31\",\"2022-11-01\",\"2022-11-02\",\"2022-11-03\",\"2022-11-04\",\"2022-11-07\",\"2022-11-08\",\"2022-11-09\",\"2022-11-10\",\"2022-11-11\",\"2022-11-14\",\"2022-11-15\",\"2022-11-16\",\"2022-11-17\",\"2022-11-18\",\"2022-11-21\",\"2022-11-22\",\"2022-11-23\",\"2022-11-25\",\"2022-11-28\",\"2022-11-29\",\"2022-11-30\",\"2022-12-01\",\"2022-12-02\",\"2022-12-05\",\"2022-12-06\",\"2022-12-07\",\"2022-12-08\",\"2022-12-09\",\"2022-12-12\",\"2022-12-13\",\"2022-12-14\",\"2022-12-15\",\"2022-12-16\",\"2022-12-19\",\"2022-12-20\",\"2022-12-21\",\"2022-12-22\",\"2022-12-23\",\"2022-12-27\",\"2022-12-28\",\"2022-12-29\",\"2022-12-30\",\"2023-01-03\",\"2023-01-04\",\"2023-01-05\",\"2023-01-06\",\"2023-01-09\",\"2023-01-10\",\"2023-01-11\",\"2023-01-12\",\"2023-01-13\",\"2023-01-17\",\"2023-01-18\",\"2023-01-19\",\"2023-01-20\",\"2023-01-23\",\"2023-01-24\",\"2023-01-25\",\"2023-01-26\",\"2023-01-27\",\"2023-01-30\",\"2023-01-31\",\"2023-02-01\",\"2023-02-02\",\"2023-02-03\",\"2023-02-06\",\"2023-02-07\",\"2023-02-08\",\"2023-02-09\",\"2023-02-10\",\"2023-02-13\",\"2023-02-14\",\"2023-02-15\",\"2023-02-16\",\"2023-02-17\",\"2023-02-21\",\"2023-02-22\",\"2023-02-23\",\"2023-02-24\",\"2023-02-27\",\"2023-02-28\",\"2023-03-01\",\"2023-03-02\",\"2023-03-03\",\"2023-03-06\",\"2023-03-07\",\"2023-03-08\",\"2023-03-09\",\"2023-03-10\",\"2023-03-13\",\"2023-03-14\",\"2023-03-15\",\"2023-03-16\",\"2023-03-17\",\"2023-03-20\",\"2023-03-21\",\"2023-03-22\",\"2023-03-23\",\"2023-03-24\",\"2023-03-27\",\"2023-03-28\",\"2023-03-29\",\"2023-03-30\",\"2023-03-31\",\"2023-04-03\",\"2023-04-04\",\"2023-04-05\",\"2023-04-06\",\"2023-04-10\",\"2023-04-11\",\"2023-04-12\",\"2023-04-13\",\"2023-04-14\",\"2023-04-17\",\"2023-04-18\",\"2023-04-19\",\"2023-04-20\",\"2023-04-21\",\"2023-04-24\",\"2023-04-25\",\"2023-04-26\",\"2023-04-27\",\"2023-04-28\",\"2023-05-01\",\"2023-05-02\",\"2023-05-03\",\"2023-05-04\",\"2023-05-05\",\"2023-05-08\",\"2023-05-09\",\"2023-05-10\",\"2023-05-11\",\"2023-05-12\",\"2023-05-15\",\"2023-05-16\",\"2023-05-17\",\"2023-05-18\",\"2023-05-19\",\"2023-05-22\",\"2023-05-23\",\"2023-05-24\",\"2023-05-25\"],\"xaxis\":\"x\",\"y\":[95.27075958251952,95.15516662597656,96.86021423339844,97.50562286376952,96.67719268798828,96.63865661621094,97.09140014648438,97.1973648071289,97.59232330322266,98.64231872558594,98.99874114990234,99.89460754394533,99.8753433227539,99.37444305419922,100.33773803710938,100.46297454833984,101.92718505859376,98.82534790039062,100.36664581298828,101.20470428466795,102.14875793457033,101.8982925415039,101.47443389892578,102.3221435546875,100.67489624023438,99.65380096435548,99.1598892211914,98.3560562133789,100.24455261230467,99.84747314453124,101.55196380615234,103.42107391357422,105.82283782958984,103.14990997314452,102.91748046875,105.46450805664062,105.2901840209961,105.06744384765624,105.95842742919922,107.3336181640625,101.48416900634766,101.9974365234375,100.95152282714844,99.7506332397461,99.72158813476562,100.6609878540039,99.07272338867188,98.90808868408205,98.7047119140625,99.01461029052734,97.59099578857422,101.00962829589844,100.380126953125,98.83060455322266,101.13552856445312,101.24205780029295,101.87155151367188,101.2614288330078,99.13082122802734,100.33170318603516,100.79656219482422,100.205810546875,101.1936264038086,103.60508728027344,103.7309799194336,105.1352310180664,103.91498565673828,104.00214385986328,103.84719848632812,102.84968566894533,104.64132690429688,105.1352310180664,104.63164520263672,101.3776397705078,100.28328704833984,98.01709747314452,97.90088653564452,96.84527587890624,96.32231903076172,98.8402862548828,100.34139251708984,103.24675750732422,101.1548843383789,101.3388900756836,101.66817474365234,100.40918731689452,100.15739440917967,100.58350372314452,103.27581024169922,102.38994598388672,98.9827880859375,99.07039642333984,98.73942565917967,98.1748046875,98.1748046875,93.58000183105467,93.94019317626952,93.43399810791016,97.90222930908205,95.1375732421875,98.01905059814452,96.2375946044922,95.55616760253906,95.39067840576172,95.6437759399414,94.89419555664062,95.93582153320312,96.7437973022461,91.5259780883789,90.66931915283205,92.4118423461914,93.0348663330078,93.89152526855467,94.5729522705078,95.2057113647461,95.44908142089844,94.18356323242188,93.97913360595705,94.65084075927734,92.38263702392578,93.18089294433594,93.37557220458984,91.38968658447266,90.2799301147461,90.6985321044922,88.47900390625,88.23564147949219,89.02416229248047,87.46659851074219,86.30816650390625,88.66397094726562,88.86840057373047,89.91975402832031,92.01271057128906,92.03218841552734,90.72772979736328,90.87374877929688,90.20205688476562,91.44810485839844,90.07550811767578,90.7179946899414,91.2436752319336,91.68172454833984,92.19768524169922,92.46051025390624,90.9710922241211,90.36754608154295,92.84017181396484,91.788818359375,94.22250366210938,92.6259994506836,91.24542999267578,92.09727478027344,92.51829528808594,93.3211898803711,93.86949920654295,93.5365982055664,93.6834716796875,94.01637268066406,93.37994384765624,99.26451873779295,99.74430847167967,100.12616729736328,99.87158966064452,101.52632904052734,101.87881469726562,102.07464599609376,104.16998291015624,104.052490234375,104.20915222167967,102.73065948486328,101.47737121582033,101.87881469726562,100.2044906616211,99.01974487304688,99.16661071777344,100.01846313476562,97.97206115722656,98.23644256591795,96.73837280273438,96.10192108154295,97.84478759765624,97.3650131225586,96.6698226928711,98.57913208007812,100.12616729736328,100.01846313476562,100.889892578125,98.35393524169922,98.94141387939452,100.17511749267578,99.93033599853516,99.9792938232422,99.22535705566406,97.68811798095705,97.7468719482422,96.2977523803711,95.7004852294922,95.18154907226562,96.1117172241211,94.95633697509766,93.37994384765624,95.7200698852539,98.42247009277344,98.35393524169922,96.52295684814452,86.40850067138672,86.40850067138672,86.6532974243164,86.0070571899414,88.21990203857422,87.43659973144531,88.99342346191406,90.02151489257812,89.74735260009766,89.629150390625,91.3332748413086,93.38216400146484,90.84075164794922,91.34312438964844,91.31356811523438,92.7812957763672,93.28366088867188,93.2048568725586,95.35225677490234,96.3373031616211,98.07097625732422,99.666748046875,100.12972259521484,98.07097625732422,98.41574096679688,96.0910415649414,95.71672058105467,96.26834869384766,94.66272735595705,93.51022338867188,95.89402770996094,96.42594909667967,98.021728515625,98.56349182128906,99.74555206298828,98.90827178955078,99.37123107910156,100.35627746582033,100.12972259521484,101.04581451416016,100.48433685302734,99.67659759521484,100.7502899169922,100.9965591430664,100.12972259521484,102.23771667480467,99.67659759521484,99.17422485351562,96.14028930664062,94.02244567871094,93.62843322753906,93.57917785644533,92.71234130859376,92.00310516357422,92.16070556640624,91.6287841796875,91.3726806640625,92.05235290527344,91.79624938964844,91.52043914794922,90.6043472290039,89.09722137451172,90.23001861572266,90.12166595458984,89.29424285888672,88.40769958496094,87.84622192382812,88.57514953613281,88.03337860107422,86.88087463378906,86.76681518554688,86.29072570800781,86.48909759521484,85.31871795654297,85.05091857910156,86.94535064697266,87.06436920166016,86.34032440185547,87.50078582763672,86.7767333984375,85.4774169921875,85.07075500488281,84.55499267578125,85.27904510498047,88.23474884033203,89.33570098876953,88.92904663085938,89.13733673095703,87.79833221435547,87.62972259521484,87.25282287597656,87.85784912109375,86.90567779541016,86.49901580810547,86.16178894042969,85.07075500488281,84.14833068847656,82.85894012451172,81.79766082763672,80.7661361694336,81.14303588867188,82.29358673095703,79.79412841796875,79.15933990478516,76.37225341796875,76.471435546875,75.65811920166016,74.9439926147461,74.7853012084961,75.2117919921875,73.7636947631836,74.36872863769531,74.9439926147461,73.80337524414062,71.7800064086914,72.66275024414062,72.97021484375,72.52388763427734,73.48597717285156,74.09100341796875,73.70418548583984,75.46966552734375,75.62837219238281,77.11614227294922,76.90785217285156,75.42008209228516,75.66804504394531,74.30921173095703,74.80513000488281,74.09100341796875,75.18203735351562,75.5192642211914,73.60499572753906,73.25,72.83999633789062,73.44000244140625,72.87000274658203,72.26000213623047,73.05999755859375,73.30999755859375,73.88999938964844,72.76000213623047,70.08000183105469,68.79000091552734,70.68000030517578,69.68000030517578,69.97000122070312,69.70999908447266,68.97000122070312,68.58000183105469,68.8499984741211,67.0999984741211,69.43000030517578,69.30999755859375,69.37999725341797,69.41999816894531,69.66999816894531,68.81999969482422,67.66999816894531],\"yaxis\":\"y\",\"type\":\"scattergl\"},{\"hovertemplate\":\"variable=GS<br>Date=%{x|%B %d, %Y}<br>value=%{y}<extra></extra>\",\"legendgroup\":\"GS\",\"line\":{\"color\":\"#ab63fa\",\"dash\":\"solid\"},\"marker\":{\"symbol\":\"circle\"},\"mode\":\"lines\",\"name\":\"GS\",\"showlegend\":true,\"x\":[\"2021-12-13\",\"2021-12-14\",\"2021-12-15\",\"2021-12-16\",\"2021-12-17\",\"2021-12-20\",\"2021-12-21\",\"2021-12-22\",\"2021-12-23\",\"2021-12-27\",\"2021-12-28\",\"2021-12-29\",\"2021-12-30\",\"2021-12-31\",\"2022-01-03\",\"2022-01-04\",\"2022-01-05\",\"2022-01-06\",\"2022-01-07\",\"2022-01-10\",\"2022-01-11\",\"2022-01-12\",\"2022-01-13\",\"2022-01-14\",\"2022-01-18\",\"2022-01-19\",\"2022-01-20\",\"2022-01-21\",\"2022-01-24\",\"2022-01-25\",\"2022-01-26\",\"2022-01-27\",\"2022-01-28\",\"2022-01-31\",\"2022-02-01\",\"2022-02-02\",\"2022-02-03\",\"2022-02-04\",\"2022-02-07\",\"2022-02-08\",\"2022-02-09\",\"2022-02-10\",\"2022-02-11\",\"2022-02-14\",\"2022-02-15\",\"2022-02-16\",\"2022-02-17\",\"2022-02-18\",\"2022-02-22\",\"2022-02-23\",\"2022-02-24\",\"2022-02-25\",\"2022-02-28\",\"2022-03-01\",\"2022-03-02\",\"2022-03-03\",\"2022-03-04\",\"2022-03-07\",\"2022-03-08\",\"2022-03-09\",\"2022-03-10\",\"2022-03-11\",\"2022-03-14\",\"2022-03-15\",\"2022-03-16\",\"2022-03-17\",\"2022-03-18\",\"2022-03-21\",\"2022-03-22\",\"2022-03-23\",\"2022-03-24\",\"2022-03-25\",\"2022-03-28\",\"2022-03-29\",\"2022-03-30\",\"2022-03-31\",\"2022-04-01\",\"2022-04-04\",\"2022-04-05\",\"2022-04-06\",\"2022-04-07\",\"2022-04-08\",\"2022-04-11\",\"2022-04-12\",\"2022-04-13\",\"2022-04-14\",\"2022-04-18\",\"2022-04-19\",\"2022-04-20\",\"2022-04-21\",\"2022-04-22\",\"2022-04-25\",\"2022-04-26\",\"2022-04-27\",\"2022-04-28\",\"2022-04-29\",\"2022-05-02\",\"2022-05-03\",\"2022-05-04\",\"2022-05-05\",\"2022-05-06\",\"2022-05-09\",\"2022-05-10\",\"2022-05-11\",\"2022-05-12\",\"2022-05-13\",\"2022-05-16\",\"2022-05-17\",\"2022-05-18\",\"2022-05-19\",\"2022-05-20\",\"2022-05-23\",\"2022-05-24\",\"2022-05-25\",\"2022-05-26\",\"2022-05-27\",\"2022-05-31\",\"2022-06-01\",\"2022-06-02\",\"2022-06-03\",\"2022-06-06\",\"2022-06-07\",\"2022-06-08\",\"2022-06-09\",\"2022-06-10\",\"2022-06-13\",\"2022-06-14\",\"2022-06-15\",\"2022-06-16\",\"2022-06-17\",\"2022-06-21\",\"2022-06-22\",\"2022-06-23\",\"2022-06-24\",\"2022-06-27\",\"2022-06-28\",\"2022-06-29\",\"2022-06-30\",\"2022-07-01\",\"2022-07-05\",\"2022-07-06\",\"2022-07-07\",\"2022-07-08\",\"2022-07-11\",\"2022-07-12\",\"2022-07-13\",\"2022-07-14\",\"2022-07-15\",\"2022-07-18\",\"2022-07-19\",\"2022-07-20\",\"2022-07-21\",\"2022-07-22\",\"2022-07-25\",\"2022-07-26\",\"2022-07-27\",\"2022-07-28\",\"2022-07-29\",\"2022-08-01\",\"2022-08-02\",\"2022-08-03\",\"2022-08-04\",\"2022-08-05\",\"2022-08-08\",\"2022-08-09\",\"2022-08-10\",\"2022-08-11\",\"2022-08-12\",\"2022-08-15\",\"2022-08-16\",\"2022-08-17\",\"2022-08-18\",\"2022-08-19\",\"2022-08-22\",\"2022-08-23\",\"2022-08-24\",\"2022-08-25\",\"2022-08-26\",\"2022-08-29\",\"2022-08-30\",\"2022-08-31\",\"2022-09-01\",\"2022-09-02\",\"2022-09-06\",\"2022-09-07\",\"2022-09-08\",\"2022-09-09\",\"2022-09-12\",\"2022-09-13\",\"2022-09-14\",\"2022-09-15\",\"2022-09-16\",\"2022-09-19\",\"2022-09-20\",\"2022-09-21\",\"2022-09-22\",\"2022-09-23\",\"2022-09-26\",\"2022-09-27\",\"2022-09-28\",\"2022-09-29\",\"2022-09-30\",\"2022-10-03\",\"2022-10-04\",\"2022-10-05\",\"2022-10-06\",\"2022-10-07\",\"2022-10-10\",\"2022-10-11\",\"2022-10-12\",\"2022-10-13\",\"2022-10-14\",\"2022-10-17\",\"2022-10-18\",\"2022-10-19\",\"2022-10-20\",\"2022-10-21\",\"2022-10-24\",\"2022-10-25\",\"2022-10-26\",\"2022-10-27\",\"2022-10-28\",\"2022-10-31\",\"2022-11-01\",\"2022-11-02\",\"2022-11-03\",\"2022-11-04\",\"2022-11-07\",\"2022-11-08\",\"2022-11-09\",\"2022-11-10\",\"2022-11-11\",\"2022-11-14\",\"2022-11-15\",\"2022-11-16\",\"2022-11-17\",\"2022-11-18\",\"2022-11-21\",\"2022-11-22\",\"2022-11-23\",\"2022-11-25\",\"2022-11-28\",\"2022-11-29\",\"2022-11-30\",\"2022-12-01\",\"2022-12-02\",\"2022-12-05\",\"2022-12-06\",\"2022-12-07\",\"2022-12-08\",\"2022-12-09\",\"2022-12-12\",\"2022-12-13\",\"2022-12-14\",\"2022-12-15\",\"2022-12-16\",\"2022-12-19\",\"2022-12-20\",\"2022-12-21\",\"2022-12-22\",\"2022-12-23\",\"2022-12-27\",\"2022-12-28\",\"2022-12-29\",\"2022-12-30\",\"2023-01-03\",\"2023-01-04\",\"2023-01-05\",\"2023-01-06\",\"2023-01-09\",\"2023-01-10\",\"2023-01-11\",\"2023-01-12\",\"2023-01-13\",\"2023-01-17\",\"2023-01-18\",\"2023-01-19\",\"2023-01-20\",\"2023-01-23\",\"2023-01-24\",\"2023-01-25\",\"2023-01-26\",\"2023-01-27\",\"2023-01-30\",\"2023-01-31\",\"2023-02-01\",\"2023-02-02\",\"2023-02-03\",\"2023-02-06\",\"2023-02-07\",\"2023-02-08\",\"2023-02-09\",\"2023-02-10\",\"2023-02-13\",\"2023-02-14\",\"2023-02-15\",\"2023-02-16\",\"2023-02-17\",\"2023-02-21\",\"2023-02-22\",\"2023-02-23\",\"2023-02-24\",\"2023-02-27\",\"2023-02-28\",\"2023-03-01\",\"2023-03-02\",\"2023-03-03\",\"2023-03-06\",\"2023-03-07\",\"2023-03-08\",\"2023-03-09\",\"2023-03-10\",\"2023-03-13\",\"2023-03-14\",\"2023-03-15\",\"2023-03-16\",\"2023-03-17\",\"2023-03-20\",\"2023-03-21\",\"2023-03-22\",\"2023-03-23\",\"2023-03-24\",\"2023-03-27\",\"2023-03-28\",\"2023-03-29\",\"2023-03-30\",\"2023-03-31\",\"2023-04-03\",\"2023-04-04\",\"2023-04-05\",\"2023-04-06\",\"2023-04-10\",\"2023-04-11\",\"2023-04-12\",\"2023-04-13\",\"2023-04-14\",\"2023-04-17\",\"2023-04-18\",\"2023-04-19\",\"2023-04-20\",\"2023-04-21\",\"2023-04-24\",\"2023-04-25\",\"2023-04-26\",\"2023-04-27\",\"2023-04-28\",\"2023-05-01\",\"2023-05-02\",\"2023-05-03\",\"2023-05-04\",\"2023-05-05\",\"2023-05-08\",\"2023-05-09\",\"2023-05-10\",\"2023-05-11\",\"2023-05-12\",\"2023-05-15\",\"2023-05-16\",\"2023-05-17\",\"2023-05-18\",\"2023-05-19\",\"2023-05-22\",\"2023-05-23\",\"2023-05-24\",\"2023-05-25\"],\"xaxis\":\"x\",\"y\":[372.0886535644531,376.13226318359375,377.1866760253906,384.4032287597656,369.3413391113281,359.4838256835937,367.90960693359375,369.85400390625,372.4756164550781,375.3777160644531,374.9617309570313,373.5977478027344,372.9399108886719,370.0668640136719,382.4298095703125,394.183349609375,385.6221618652344,383.9776306152344,384.5386962890625,386.14453125,389.8978576660156,377.5736389160156,378.0476684570313,368.5093994140625,342.83544921875,335.9864807128906,336.740966796875,332.687744140625,332.1847229003906,330.4047546386719,331.49786376953125,329.9017639160156,335.68658447265625,343.1062927246094,352.1802062988281,351.2128601074219,347.16925048828125,355.604736328125,356.13671875,358.0231018066406,362.3085632324219,358.4778137207031,351.2128601074219,348.4848937988281,352.06414794921875,348.3010559082031,337.669677734375,334.7482604980469,333.03594970703125,330.0565185546875,329.0891418457031,338.695068359375,330.1532287597656,319.36187744140625,327.32159423828125,324.4412841796875,320.79229736328125,313.2218017578125,312.7157897949219,324.6067199707031,321.0160522460937,318.1941833496094,316.2286071777344,320.2960205078125,331.5836486816406,334.0260314941406,336.0792541503906,329.8710327148437,333.7730712890625,326.57232666015625,327.1756286621094,328.4017028808594,326.2706298828125,330.5132751464844,326.5528564453125,321.2107238769531,321.3274841308594,319.37158203125,315.2360534667969,307.7434387207031,305.6902160644531,312.7352905273437,312.1222229003906,311.16864013671875,313.29962158203125,312.9785461425781,320.99664306640625,326.9031982421875,331.8755798339844,325.2975769042969,311.15887451171875,312.7644958496094,304.6879272460937,304.79498291015625,309.8354797363281,297.263427734375,302.0606994628906,306.1864624023437,315.3819885253906,304.6393127441406,304.5322570800781,300.5718688964844,296.8450012207031,293.4295349121094,291.34716796875,298.7230224609375,295.2686462402344,304.5420227050781,298.4700622558594,299.9004821777344,298.5381774902344,308.0839538574219,305.4956359863281,306.4200134277344,314.9149475097656,319.73162841796875,319.9960021972656,315.1008605957031,317.45050048828125,311.997314453125,313.7889709472656,314.7679748535156,308.0811767578125,297.8405456542969,281.0011901855469,277.3788146972656,276.6151733398437,283.9872741699219,279.0040283203125,273.9228515625,278.8375244140625,278.5732421875,280.1690673828125,296.4013366699219,294.4726867675781,293.209716796875,296.9202575683594,290.79150390625,292.9552001953125,290.9677429199219,287.5998840332031,292.33837890625,290.2530212402344,287.0320129394531,286.3956604003906,284.0655517578125,275.6850891113281,287.7075500488281,294.942626953125,311.3805236816406,314.709228515625,319.6925048828125,317.13720703125,317.3232116699219,311.8700256347656,317.73443603515625,322.20855712890625,326.3988647460937,325.1163024902344,321.00439453125,326.1834716796875,324.91070556640625,327.6520080566406,327.6617736816406,329.56109619140625,340.6143798828125,344.3052978515625,346.40045166015625,348.3878479003906,347.5263061523437,346.32208251953125,347.0857238769531,341.9458312988281,335.239501953125,333.04644775390625,334.7695617675781,339.22412109375,329.3457336425781,326.917724609375,326.6337890625,328.1529235839844,328.9716186523437,326.97906494140625,322.0567932128906,326.071533203125,330.8260803222656,335.4820251464844,337.9283142089844,323.9310302734375,322.8163757324219,327.1171264648437,321.78057861328125,324.1973571777344,318.8706970214844,316.35528564453125,308.6710510253906,297.8697509765625,290.6195678710937,287.42352294921875,296.7057800292969,292.0893249511719,289.0708312988281,295.0880126953125,310.5945739746094,304.8042907714844,300.5330810546875,296.9918212890625,296.4591979980469,290.215087890625,291.3001708984375,302.9004821777344,295.9166259765625,302.5453796386719,309.58843994140625,307.5268249511719,306.5897216796875,320.6856689453125,324.2367858886719,327.88653564453125,331.13189697265625,332.6016540527344,337.1786499023437,339.8321228027344,343.8468322753906,345.0404357910156,344.1329345703125,353.0502014160156,357.63702392578125,359.0771789550781,357.08465576171875,373.1731567382813,379.9400329589844,377.1681823730469,377.6811218261719,377.1385803222656,374.6232299804688,374.0511169433594,375.04736328125,378.6576843261719,381.00537109375,383.5799255371094,377.1681823730469,378.4998474121094,383.40472412109375,381.0813598632813,377.8742980957031,368.8985900878906,360.3299560546875,357.3612060546875,355.5342712402344,356.5867614746094,360.5980224609375,366.06884765625,357.81793212890625,347.3429260253906,343.8876953125,342.1600341796875,342.0408935546875,347.67059326171875,343.1231384277344,343.0536499023437,339.538818359375,338.4466247558594,340.9884338378906,340.9388122558594,343.75860595703125,345.22808837890625,341.31610107421875,345.6053771972656,350.4903869628906,354.81939697265625,361.8887939453125,367.3099670410156,371.3410949707031,347.43231201171875,346.6081848144531,348.25640869140625,339.40972900390625,346.6578674316406,345.85357666015625,347.1443786621094,352.4464111328125,351.1854248046875,354.9186706542969,363.2093200683594,363.1100463867188,366.8433227539063,367.3199157714844,368.1638488769531,371.7382507324219,372.4332885742188,365.3738098144531,368.6404418945313,371.3609619140625,369.1369018554688,371.6786804199219,367.5681457519531,365.8802185058594,358.5526733398437,358.3243103027344,360.9554748535156,361.2632751464844,362.9313354492188,349.1499938964844,346.2300109863281,349.1000061035156,357.0899963378906,357.04998779296875,346.0799865722656,349.2900085449219,342.0899963378906,327.6700134277344,315.510009765625,322.1499938964844,312.19000244140625,315.0899963378906,303.5400085449219,309.5299987792969,317.2799987792969,313.6700134277344,314.8500061035156,312.57000732421875,318.5299987792969,318.44000244140625,320.7200012207031,321.1400146484375,327.1099853515625,326.5199890136719,322.6499938964844,321.5299987792969,322.3999938964844,324.9599914550781,327.3699951171875,330.239990234375,332.1300048828125,336.9200134277344,339.67999267578125,333.9100036621094,336.8900146484375,338.7099914550781,341.6600036621094,343.9599914550781,339.4800109863281,336.5599975585937,341.6000061035156,343.44000244140625,340.57000732421875,333.3699951171875,328.6499938964844,321.260009765625,327.0199890136719,326.510009765625,324.7699890136719,322.54998779296875,320.7200012207031,319.5,322.07000732421875,320.8099975585937,330.17999267578125,329.5799865722656,326.1499938964844,324.9200134277344,323.57000732421875,319.8099975585937,323.8800048828125],\"yaxis\":\"y\",\"type\":\"scattergl\"},{\"hovertemplate\":\"variable=JPM<br>Date=%{x|%B %d, %Y}<br>value=%{y}<extra></extra>\",\"legendgroup\":\"JPM\",\"line\":{\"color\":\"#FFA15A\",\"dash\":\"solid\"},\"marker\":{\"symbol\":\"circle\"},\"mode\":\"lines\",\"name\":\"JPM\",\"showlegend\":true,\"x\":[\"2021-12-13\",\"2021-12-14\",\"2021-12-15\",\"2021-12-16\",\"2021-12-17\",\"2021-12-20\",\"2021-12-21\",\"2021-12-22\",\"2021-12-23\",\"2021-12-27\",\"2021-12-28\",\"2021-12-29\",\"2021-12-30\",\"2021-12-31\",\"2022-01-03\",\"2022-01-04\",\"2022-01-05\",\"2022-01-06\",\"2022-01-07\",\"2022-01-10\",\"2022-01-11\",\"2022-01-12\",\"2022-01-13\",\"2022-01-14\",\"2022-01-18\",\"2022-01-19\",\"2022-01-20\",\"2022-01-21\",\"2022-01-24\",\"2022-01-25\",\"2022-01-26\",\"2022-01-27\",\"2022-01-28\",\"2022-01-31\",\"2022-02-01\",\"2022-02-02\",\"2022-02-03\",\"2022-02-04\",\"2022-02-07\",\"2022-02-08\",\"2022-02-09\",\"2022-02-10\",\"2022-02-11\",\"2022-02-14\",\"2022-02-15\",\"2022-02-16\",\"2022-02-17\",\"2022-02-18\",\"2022-02-22\",\"2022-02-23\",\"2022-02-24\",\"2022-02-25\",\"2022-02-28\",\"2022-03-01\",\"2022-03-02\",\"2022-03-03\",\"2022-03-04\",\"2022-03-07\",\"2022-03-08\",\"2022-03-09\",\"2022-03-10\",\"2022-03-11\",\"2022-03-14\",\"2022-03-15\",\"2022-03-16\",\"2022-03-17\",\"2022-03-18\",\"2022-03-21\",\"2022-03-22\",\"2022-03-23\",\"2022-03-24\",\"2022-03-25\",\"2022-03-28\",\"2022-03-29\",\"2022-03-30\",\"2022-03-31\",\"2022-04-01\",\"2022-04-04\",\"2022-04-05\",\"2022-04-06\",\"2022-04-07\",\"2022-04-08\",\"2022-04-11\",\"2022-04-12\",\"2022-04-13\",\"2022-04-14\",\"2022-04-18\",\"2022-04-19\",\"2022-04-20\",\"2022-04-21\",\"2022-04-22\",\"2022-04-25\",\"2022-04-26\",\"2022-04-27\",\"2022-04-28\",\"2022-04-29\",\"2022-05-02\",\"2022-05-03\",\"2022-05-04\",\"2022-05-05\",\"2022-05-06\",\"2022-05-09\",\"2022-05-10\",\"2022-05-11\",\"2022-05-12\",\"2022-05-13\",\"2022-05-16\",\"2022-05-17\",\"2022-05-18\",\"2022-05-19\",\"2022-05-20\",\"2022-05-23\",\"2022-05-24\",\"2022-05-25\",\"2022-05-26\",\"2022-05-27\",\"2022-05-31\",\"2022-06-01\",\"2022-06-02\",\"2022-06-03\",\"2022-06-06\",\"2022-06-07\",\"2022-06-08\",\"2022-06-09\",\"2022-06-10\",\"2022-06-13\",\"2022-06-14\",\"2022-06-15\",\"2022-06-16\",\"2022-06-17\",\"2022-06-21\",\"2022-06-22\",\"2022-06-23\",\"2022-06-24\",\"2022-06-27\",\"2022-06-28\",\"2022-06-29\",\"2022-06-30\",\"2022-07-01\",\"2022-07-05\",\"2022-07-06\",\"2022-07-07\",\"2022-07-08\",\"2022-07-11\",\"2022-07-12\",\"2022-07-13\",\"2022-07-14\",\"2022-07-15\",\"2022-07-18\",\"2022-07-19\",\"2022-07-20\",\"2022-07-21\",\"2022-07-22\",\"2022-07-25\",\"2022-07-26\",\"2022-07-27\",\"2022-07-28\",\"2022-07-29\",\"2022-08-01\",\"2022-08-02\",\"2022-08-03\",\"2022-08-04\",\"2022-08-05\",\"2022-08-08\",\"2022-08-09\",\"2022-08-10\",\"2022-08-11\",\"2022-08-12\",\"2022-08-15\",\"2022-08-16\",\"2022-08-17\",\"2022-08-18\",\"2022-08-19\",\"2022-08-22\",\"2022-08-23\",\"2022-08-24\",\"2022-08-25\",\"2022-08-26\",\"2022-08-29\",\"2022-08-30\",\"2022-08-31\",\"2022-09-01\",\"2022-09-02\",\"2022-09-06\",\"2022-09-07\",\"2022-09-08\",\"2022-09-09\",\"2022-09-12\",\"2022-09-13\",\"2022-09-14\",\"2022-09-15\",\"2022-09-16\",\"2022-09-19\",\"2022-09-20\",\"2022-09-21\",\"2022-09-22\",\"2022-09-23\",\"2022-09-26\",\"2022-09-27\",\"2022-09-28\",\"2022-09-29\",\"2022-09-30\",\"2022-10-03\",\"2022-10-04\",\"2022-10-05\",\"2022-10-06\",\"2022-10-07\",\"2022-10-10\",\"2022-10-11\",\"2022-10-12\",\"2022-10-13\",\"2022-10-14\",\"2022-10-17\",\"2022-10-18\",\"2022-10-19\",\"2022-10-20\",\"2022-10-21\",\"2022-10-24\",\"2022-10-25\",\"2022-10-26\",\"2022-10-27\",\"2022-10-28\",\"2022-10-31\",\"2022-11-01\",\"2022-11-02\",\"2022-11-03\",\"2022-11-04\",\"2022-11-07\",\"2022-11-08\",\"2022-11-09\",\"2022-11-10\",\"2022-11-11\",\"2022-11-14\",\"2022-11-15\",\"2022-11-16\",\"2022-11-17\",\"2022-11-18\",\"2022-11-21\",\"2022-11-22\",\"2022-11-23\",\"2022-11-25\",\"2022-11-28\",\"2022-11-29\",\"2022-11-30\",\"2022-12-01\",\"2022-12-02\",\"2022-12-05\",\"2022-12-06\",\"2022-12-07\",\"2022-12-08\",\"2022-12-09\",\"2022-12-12\",\"2022-12-13\",\"2022-12-14\",\"2022-12-15\",\"2022-12-16\",\"2022-12-19\",\"2022-12-20\",\"2022-12-21\",\"2022-12-22\",\"2022-12-23\",\"2022-12-27\",\"2022-12-28\",\"2022-12-29\",\"2022-12-30\",\"2023-01-03\",\"2023-01-04\",\"2023-01-05\",\"2023-01-06\",\"2023-01-09\",\"2023-01-10\",\"2023-01-11\",\"2023-01-12\",\"2023-01-13\",\"2023-01-17\",\"2023-01-18\",\"2023-01-19\",\"2023-01-20\",\"2023-01-23\",\"2023-01-24\",\"2023-01-25\",\"2023-01-26\",\"2023-01-27\",\"2023-01-30\",\"2023-01-31\",\"2023-02-01\",\"2023-02-02\",\"2023-02-03\",\"2023-02-06\",\"2023-02-07\",\"2023-02-08\",\"2023-02-09\",\"2023-02-10\",\"2023-02-13\",\"2023-02-14\",\"2023-02-15\",\"2023-02-16\",\"2023-02-17\",\"2023-02-21\",\"2023-02-22\",\"2023-02-23\",\"2023-02-24\",\"2023-02-27\",\"2023-02-28\",\"2023-03-01\",\"2023-03-02\",\"2023-03-03\",\"2023-03-06\",\"2023-03-07\",\"2023-03-08\",\"2023-03-09\",\"2023-03-10\",\"2023-03-13\",\"2023-03-14\",\"2023-03-15\",\"2023-03-16\",\"2023-03-17\",\"2023-03-20\",\"2023-03-21\",\"2023-03-22\",\"2023-03-23\",\"2023-03-24\",\"2023-03-27\",\"2023-03-28\",\"2023-03-29\",\"2023-03-30\",\"2023-03-31\",\"2023-04-03\",\"2023-04-04\",\"2023-04-05\",\"2023-04-06\",\"2023-04-10\",\"2023-04-11\",\"2023-04-12\",\"2023-04-13\",\"2023-04-14\",\"2023-04-17\",\"2023-04-18\",\"2023-04-19\",\"2023-04-20\",\"2023-04-21\",\"2023-04-24\",\"2023-04-25\",\"2023-04-26\",\"2023-04-27\",\"2023-04-28\",\"2023-05-01\",\"2023-05-02\",\"2023-05-03\",\"2023-05-04\",\"2023-05-05\",\"2023-05-08\",\"2023-05-09\",\"2023-05-10\",\"2023-05-11\",\"2023-05-12\",\"2023-05-15\",\"2023-05-16\",\"2023-05-17\",\"2023-05-18\",\"2023-05-19\",\"2023-05-22\",\"2023-05-23\",\"2023-05-24\",\"2023-05-25\"],\"xaxis\":\"x\",\"y\":[150.78221130371094,151.93753051757812,150.80130004882812,153.15966796875,149.6746368408203,146.98211669921875,149.03492736816406,149.61734008789062,150.15203857421875,151.0113525390625,151.46966552734375,151.39328002929688,151.31689453125,151.1927947998047,154.391357421875,160.24429321289062,157.31468200683594,158.98602294921875,160.561279296875,160.71498107910156,160.87826538085938,161.79074096679688,161.5890350341797,151.65719604492188,145.29852294921875,143.0509033203125,141.83103942871094,139.35287475585938,139.22801208496094,140.74563598632812,142.08078002929688,139.5738067626953,140.82249450683594,142.7339630126953,145.1832733154297,144.02105712890625,142.82997131347656,146.53759765625,147.02748107910156,149.79379272460938,150.41815185546875,149.79379272460938,147.84393310546875,146.4703826904297,148.61233520507812,148.88128662109375,145.4522247314453,146.13418579101562,145.87484741210938,142.8203887939453,138.8438262939453,142.12879943847656,136.20237731933594,131.06356811523438,133.78184509277344,132.83091735839844,129.094482421875,124.109375,123.23529815673828,128.17239379882812,126.6547622680664,123.802001953125,125.03146362304688,127.25029754638672,132.93658447265625,134.61749267578125,134.56948852539062,134.13723754882812,136.989990234375,134.26211547851562,135.13619995117188,136.317626953125,135.30908203125,135.60682678222656,134.9921112060547,130.93869018554688,129.9685516357422,130.54490661621094,129.0256805419922,127.2355499267578,126.84846496582033,129.17083740234375,128.69668579101562,127.28392028808594,123.18111419677734,122.03929138183594,124.30358123779295,126.87750244140624,127.3226318359375,126.33563995361328,122.70696258544922,122.6682586669922,119.03958892822266,117.49136352539062,119.34923553466795,115.4980239868164,116.55274963378906,119.0492706298828,122.98757934570312,119.91046905517578,119.7169418334961,117.91712188720705,115.04322814941406,114.31748962402344,114.2207260131836,115.23675537109376,114.43360900878906,118.22677612304688,116.20439910888672,114.4819793701172,113.54337310791016,120.56846618652344,122.27152252197266,123.123046875,125.25187683105467,127.02266693115234,127.95159912109376,125.7066650390625,127.7290496826172,125.94857788085938,125.53247833251952,125.86149597167967,123.85845947265624,121.2554931640625,115.68186950683594,112.23704528808594,110.36949920654295,111.67581939697266,109.75989532470705,109.3728256225586,112.08223724365234,111.45326232910156,110.23402404785156,113.5240249633789,112.61443328857422,112.0725555419922,111.56937408447266,108.96641540527344,110.35982513427734,109.94005584716795,109.22743225097656,111.99008178710938,111.63865661621094,110.17434692382812,110.28173065185548,109.2469482421875,105.43000030517578,110.26220703125,109.12981414794922,111.8338851928711,111.81436920166016,112.5758056640625,112.02913665771484,112.47818756103516,110.72101593017578,112.4977035522461,112.07794189453124,112.61485290527344,111.49222564697266,109.75457763671876,110.906494140625,109.68624114990234,113.00534057617188,111.6288833618164,112.6343765258789,115.57275390625,117.28111267089844,119.22374725341795,119.5458984375,120.68805694580078,119.6728057861328,118.74541473388672,115.80703735351562,113.8936767578125,112.7710418701172,113.0443878173828,115.72895050048828,111.94126892089844,111.66793823242188,111.68746948242188,111.02365112304688,111.78507995605467,111.00411987304688,111.0334014892578,113.14201354980467,115.77775573730467,116.33419036865234,117.71063995361328,113.6203384399414,113.35677337646484,115.06512451171876,114.29393005371094,115.34822845458984,113.07366943359376,109.81314849853516,108.56360626220705,106.5428695678711,104.24879455566406,103.33116149902344,105.42024230957033,103.6337890625,102.0132827758789,105.16642761230467,110.08648681640624,108.72727966308594,106.51116180419922,104.38370513916016,103.40860748291016,100.42424774169922,102.04940032958984,107.72264099121094,109.51522827148438,114.11488342285156,117.04999542236328,114.75509643554688,114.3808135986328,120.3889389038086,120.53667449951172,120.85186004638672,122.2406234741211,122.7232437133789,124.18094635009766,123.98395538330078,126.21976470947266,125.05754089355467,125.28407287597656,128.71165466308594,129.39126586914062,129.47006225585938,127.78582763671876,133.04539489746094,133.26206970214844,131.8930206298828,130.9376220703125,131.1149139404297,130.54364013671875,131.82406616210938,131.04595947265625,133.0059814453125,134.42430114746094,134.68038940429688,132.32640075683594,134.5030975341797,136.0986785888672,134.1879119873047,133.12417602539062,129.39126586914062,129.6079559326172,129.51930236816406,130.87852478027344,130.16937255859375,132.18850708007812,132.06044006347656,131.40054321289062,128.14041137695312,127.34259033203124,128.1009979248047,128.7215118408203,130.16937255859375,128.6919708251953,129.30262756347656,129.75570678710938,130.46485900878906,131.21340942382812,132.0801544189453,133.0847930908203,134.3258056640625,134.29605102539062,136.86587524414062,136.30030822753906,137.52073669433594,138.54270935058594,138.40380859375,141.89639282226562,139.70359802246094,135.5065460205078,133.70071411132812,134.02813720703125,136.2010955810547,137.3719024658203,138.03668212890625,138.88998413085938,139.2273406982422,138.04661560058594,138.87014770507812,138.50302124023438,137.85809326171875,139.9913330078125,140.81488037109375,142.53140258789062,141.52926635742188,139.32655334472656,139.9417266845703,141.45982360839844,142.0849151611328,142.68023681640625,140.71566772460938,141.13238525390625,138.54270935058594,137.4810333251953,138.5823974609375,139.83258056640625,141.05300903320312,142.23374938964844,141.43997192382812,139.9715118408203,142.5413360595703,141.70787048339844,137.5405731201172,136.72695922851562,129.32504272460938,132.60926818847656,130.22796630859375,133.57171630859375,127.26124572753906,129.7318572998047,124.830322265625,126.14997100830078,129.53341674804688,126.18965911865234,125.85230255126952,123.93733978271484,127.48946380615234,127.87642669677734,128.1343994140625,127.7474365234375,129.2952880859375,129.14645385742188,127.41999816894533,127.61000061035156,127.47000122070312,127.88999938964844,128.52000427246094,128.5,128.99000549316406,138.72999572753906,139.8300018310547,141.39999389648438,141.22000122070312,140.80999755859375,140.5399932861328,140.72999572753906,137.6699981689453,135.22999572753906,137.0500030517578,138.24000549316406,141.1999969482422,138.9199981689453,135.97999572753906,134.1199951171875,136.74000549316406,137.07000732421875,136.41000366210938,136.47999572753906,136.0500030517578,134.10000610351562,135.22999572753906,134.32000732421875,138.4499969482422,139.5,139.17999267578125,138.02999877929688,136.58999633789062,135.33999633789062,135.6699981689453],\"yaxis\":\"y\",\"type\":\"scattergl\"},{\"hovertemplate\":\"variable=TDOC<br>Date=%{x|%B %d, %Y}<br>value=%{y}<extra></extra>\",\"legendgroup\":\"TDOC\",\"line\":{\"color\":\"#19d3f3\",\"dash\":\"solid\"},\"marker\":{\"symbol\":\"circle\"},\"mode\":\"lines\",\"name\":\"TDOC\",\"showlegend\":true,\"x\":[\"2021-12-13\",\"2021-12-14\",\"2021-12-15\",\"2021-12-16\",\"2021-12-17\",\"2021-12-20\",\"2021-12-21\",\"2021-12-22\",\"2021-12-23\",\"2021-12-27\",\"2021-12-28\",\"2021-12-29\",\"2021-12-30\",\"2021-12-31\",\"2022-01-03\",\"2022-01-04\",\"2022-01-05\",\"2022-01-06\",\"2022-01-07\",\"2022-01-10\",\"2022-01-11\",\"2022-01-12\",\"2022-01-13\",\"2022-01-14\",\"2022-01-18\",\"2022-01-19\",\"2022-01-20\",\"2022-01-21\",\"2022-01-24\",\"2022-01-25\",\"2022-01-26\",\"2022-01-27\",\"2022-01-28\",\"2022-01-31\",\"2022-02-01\",\"2022-02-02\",\"2022-02-03\",\"2022-02-04\",\"2022-02-07\",\"2022-02-08\",\"2022-02-09\",\"2022-02-10\",\"2022-02-11\",\"2022-02-14\",\"2022-02-15\",\"2022-02-16\",\"2022-02-17\",\"2022-02-18\",\"2022-02-22\",\"2022-02-23\",\"2022-02-24\",\"2022-02-25\",\"2022-02-28\",\"2022-03-01\",\"2022-03-02\",\"2022-03-03\",\"2022-03-04\",\"2022-03-07\",\"2022-03-08\",\"2022-03-09\",\"2022-03-10\",\"2022-03-11\",\"2022-03-14\",\"2022-03-15\",\"2022-03-16\",\"2022-03-17\",\"2022-03-18\",\"2022-03-21\",\"2022-03-22\",\"2022-03-23\",\"2022-03-24\",\"2022-03-25\",\"2022-03-28\",\"2022-03-29\",\"2022-03-30\",\"2022-03-31\",\"2022-04-01\",\"2022-04-04\",\"2022-04-05\",\"2022-04-06\",\"2022-04-07\",\"2022-04-08\",\"2022-04-11\",\"2022-04-12\",\"2022-04-13\",\"2022-04-14\",\"2022-04-18\",\"2022-04-19\",\"2022-04-20\",\"2022-04-21\",\"2022-04-22\",\"2022-04-25\",\"2022-04-26\",\"2022-04-27\",\"2022-04-28\",\"2022-04-29\",\"2022-05-02\",\"2022-05-03\",\"2022-05-04\",\"2022-05-05\",\"2022-05-06\",\"2022-05-09\",\"2022-05-10\",\"2022-05-11\",\"2022-05-12\",\"2022-05-13\",\"2022-05-16\",\"2022-05-17\",\"2022-05-18\",\"2022-05-19\",\"2022-05-20\",\"2022-05-23\",\"2022-05-24\",\"2022-05-25\",\"2022-05-26\",\"2022-05-27\",\"2022-05-31\",\"2022-06-01\",\"2022-06-02\",\"2022-06-03\",\"2022-06-06\",\"2022-06-07\",\"2022-06-08\",\"2022-06-09\",\"2022-06-10\",\"2022-06-13\",\"2022-06-14\",\"2022-06-15\",\"2022-06-16\",\"2022-06-17\",\"2022-06-21\",\"2022-06-22\",\"2022-06-23\",\"2022-06-24\",\"2022-06-27\",\"2022-06-28\",\"2022-06-29\",\"2022-06-30\",\"2022-07-01\",\"2022-07-05\",\"2022-07-06\",\"2022-07-07\",\"2022-07-08\",\"2022-07-11\",\"2022-07-12\",\"2022-07-13\",\"2022-07-14\",\"2022-07-15\",\"2022-07-18\",\"2022-07-19\",\"2022-07-20\",\"2022-07-21\",\"2022-07-22\",\"2022-07-25\",\"2022-07-26\",\"2022-07-27\",\"2022-07-28\",\"2022-07-29\",\"2022-08-01\",\"2022-08-02\",\"2022-08-03\",\"2022-08-04\",\"2022-08-05\",\"2022-08-08\",\"2022-08-09\",\"2022-08-10\",\"2022-08-11\",\"2022-08-12\",\"2022-08-15\",\"2022-08-16\",\"2022-08-17\",\"2022-08-18\",\"2022-08-19\",\"2022-08-22\",\"2022-08-23\",\"2022-08-24\",\"2022-08-25\",\"2022-08-26\",\"2022-08-29\",\"2022-08-30\",\"2022-08-31\",\"2022-09-01\",\"2022-09-02\",\"2022-09-06\",\"2022-09-07\",\"2022-09-08\",\"2022-09-09\",\"2022-09-12\",\"2022-09-13\",\"2022-09-14\",\"2022-09-15\",\"2022-09-16\",\"2022-09-19\",\"2022-09-20\",\"2022-09-21\",\"2022-09-22\",\"2022-09-23\",\"2022-09-26\",\"2022-09-27\",\"2022-09-28\",\"2022-09-29\",\"2022-09-30\",\"2022-10-03\",\"2022-10-04\",\"2022-10-05\",\"2022-10-06\",\"2022-10-07\",\"2022-10-10\",\"2022-10-11\",\"2022-10-12\",\"2022-10-13\",\"2022-10-14\",\"2022-10-17\",\"2022-10-18\",\"2022-10-19\",\"2022-10-20\",\"2022-10-21\",\"2022-10-24\",\"2022-10-25\",\"2022-10-26\",\"2022-10-27\",\"2022-10-28\",\"2022-10-31\",\"2022-11-01\",\"2022-11-02\",\"2022-11-03\",\"2022-11-04\",\"2022-11-07\",\"2022-11-08\",\"2022-11-09\",\"2022-11-10\",\"2022-11-11\",\"2022-11-14\",\"2022-11-15\",\"2022-11-16\",\"2022-11-17\",\"2022-11-18\",\"2022-11-21\",\"2022-11-22\",\"2022-11-23\",\"2022-11-25\",\"2022-11-28\",\"2022-11-29\",\"2022-11-30\",\"2022-12-01\",\"2022-12-02\",\"2022-12-05\",\"2022-12-06\",\"2022-12-07\",\"2022-12-08\",\"2022-12-09\",\"2022-12-12\",\"2022-12-13\",\"2022-12-14\",\"2022-12-15\",\"2022-12-16\",\"2022-12-19\",\"2022-12-20\",\"2022-12-21\",\"2022-12-22\",\"2022-12-23\",\"2022-12-27\",\"2022-12-28\",\"2022-12-29\",\"2022-12-30\",\"2023-01-03\",\"2023-01-04\",\"2023-01-05\",\"2023-01-06\",\"2023-01-09\",\"2023-01-10\",\"2023-01-11\",\"2023-01-12\",\"2023-01-13\",\"2023-01-17\",\"2023-01-18\",\"2023-01-19\",\"2023-01-20\",\"2023-01-23\",\"2023-01-24\",\"2023-01-25\",\"2023-01-26\",\"2023-01-27\",\"2023-01-30\",\"2023-01-31\",\"2023-02-01\",\"2023-02-02\",\"2023-02-03\",\"2023-02-06\",\"2023-02-07\",\"2023-02-08\",\"2023-02-09\",\"2023-02-10\",\"2023-02-13\",\"2023-02-14\",\"2023-02-15\",\"2023-02-16\",\"2023-02-17\",\"2023-02-21\",\"2023-02-22\",\"2023-02-23\",\"2023-02-24\",\"2023-02-27\",\"2023-02-28\",\"2023-03-01\",\"2023-03-02\",\"2023-03-03\",\"2023-03-06\",\"2023-03-07\",\"2023-03-08\",\"2023-03-09\",\"2023-03-10\",\"2023-03-13\",\"2023-03-14\",\"2023-03-15\",\"2023-03-16\",\"2023-03-17\",\"2023-03-20\",\"2023-03-21\",\"2023-03-22\",\"2023-03-23\",\"2023-03-24\",\"2023-03-27\",\"2023-03-28\",\"2023-03-29\",\"2023-03-30\",\"2023-03-31\",\"2023-04-03\",\"2023-04-04\",\"2023-04-05\",\"2023-04-06\",\"2023-04-10\",\"2023-04-11\",\"2023-04-12\",\"2023-04-13\",\"2023-04-14\",\"2023-04-17\",\"2023-04-18\",\"2023-04-19\",\"2023-04-20\",\"2023-04-21\",\"2023-04-24\",\"2023-04-25\",\"2023-04-26\",\"2023-04-27\",\"2023-04-28\",\"2023-05-01\",\"2023-05-02\",\"2023-05-03\",\"2023-05-04\",\"2023-05-05\",\"2023-05-08\",\"2023-05-09\",\"2023-05-10\",\"2023-05-11\",\"2023-05-12\",\"2023-05-15\",\"2023-05-16\",\"2023-05-17\",\"2023-05-18\",\"2023-05-19\",\"2023-05-22\",\"2023-05-23\",\"2023-05-24\",\"2023-05-25\"],\"xaxis\":\"x\",\"y\":[92.54000091552734,92.16999816894533,92.94000244140624,87.43000030517578,97.7699966430664,95.51000213623048,96.70999908447266,94.37999725341795,95.08999633789062,93.54000091552734,91.11000061035156,90.12000274658205,94.3499984741211,91.81999969482422,95.08000183105467,91.47000122070312,84.31999969482422,81.76000213623047,82.18000030517578,82.18000030517578,86.31999969482422,81.87999725341797,78.5,79.56999969482422,75.69999694824219,75.51000213623047,76.19000244140625,72.9000015258789,75.16000366210938,72.02999877929688,69.58000183105469,67.44000244140625,70.4000015258789,76.70999908447266,80.33999633789062,76.88999938964844,72.86000061035156,74.55000305175781,74.52999877929688,69.94999694824219,75.88999938964844,73.41000366210938,72.83000183105469,70.83999633789062,74.93000030517578,73.7699966430664,70.48999786376953,65.0,65.30000305175781,61.459999084472656,68.94000244140625,70.73999786376953,75.91000366210938,74.20999908447266,72.48999786376953,69.16999816894531,66.77999877929688,63.70000076293945,63.54999923706055,66.2699966430664,60.2400016784668,54.61000061035156,50.790000915527344,54.52999877929688,60.72999954223633,63.93999862670898,68.95999908447266,66.69000244140625,69.87999725341797,69.22000122070312,69.38999938964844,66.70999908447266,69.81999969482422,76.16999816894531,73.06999969482422,72.12999725341797,73.7699966430664,75.86000061035156,71.22000122070312,67.69999694824219,68.79000091552734,66.05999755859375,65.80999755859375,66.7699966430664,68.79000091552734,65.18000030517578,62.0099983215332,64.62000274658203,61.68999862670898,59.04999923706055,58.25,60.560001373291016,57.77000045776367,55.9900016784668,33.5099983215332,33.7599983215332,37.13999938964844,38.31999969482422,39.459999084472656,35.599998474121094,33.45000076293945,30.520000457763672,29.770000457763672,28.68000030517578,30.690000534057617,33.59000015258789,31.729999542236328,32.849998474121094,30.8700008392334,32.90999984741211,32.7400016784668,32.9900016784668,30.8700008392334,31.65999984741211,33.45000076293945,35.77000045776367,34.09000015258789,32.619998931884766,36.02999877929688,34.529998779296875,34.61000061035156,34.81999969482422,35.439998626708984,33.279998779296875,31.739999771118164,28.6299991607666,29.270000457763672,30.959999084472656,29.09000015258789,30.670000076293945,31.51000022888184,32.77000045776367,35.88999938964844,37.16999816894531,37.459999084472656,35.08000183105469,34.349998474121094,33.209999084472656,34.83000183105469,38.810001373291016,38.810001373291016,42.220001220703125,41.810001373291016,38.93000030517578,39.81999969482422,40.09999847412109,39.18000030517578,40.58000183105469,39.5,41.150001525878906,43.20000076293945,43.65999984741211,41.18000030517578,42.08000183105469,40.18999862670898,43.2400016784668,35.599998474121094,36.84999847412109,36.810001373291016,36.91999816894531,38.5,37.459999084472656,37.47999954223633,38.790000915527344,35.40999984741211,37.790000915527344,37.9900016784668,40.31999969482422,40.93000030517578,39.45000076293945,35.95000076293945,35.060001373291016,32.900001525878906,32.709999084472656,32.7599983215332,33.65999984741211,35.0099983215332,32.099998474121094,31.100000381469727,31.11000061035156,31.059999465942383,30.799999237060547,30.18000030517578,29.030000686645508,30.600000381469727,32.40999984741211,33.459999084472656,34.20000076293945,31.309999465942383,31.670000076293945,31.88999938964844,30.489999771118164,30.1299991607666,29.450000762939453,28.84000015258789,27.959999084472656,26.96999931335449,26.420000076293945,26.6299991607666,28.200000762939453,26.229999542236328,25.350000381469727,25.8700008392334,28.0,27.030000686645508,26.809999465942383,25.1299991607666,24.920000076293945,24.709999084472656,25.030000686645508,24.56999969482422,23.15999984741211,24.6299991607666,25.450000762939453,24.25,23.920000076293945,24.030000686645508,24.6299991607666,26.75,26.739999771118164,28.46999931335449,29.549999237060547,29.63999938964844,28.8799991607666,28.040000915527344,27.71999931335449,27.280000686645508,27.15999984741211,27.25,26.76000022888184,30.979999542236328,33.310001373291016,32.29999923706055,32.66999816894531,31.06999969482422,29.959999084472656,28.790000915527344,27.899999618530277,27.81999969482422,28.56999969482422,27.600000381469727,26.489999771118164,27.1299991607666,28.51000022888184,29.0,29.200000762939453,27.07999992370605,26.040000915527344,25.899999618530277,27.09000015258789,27.21999931335449,28.0,28.18000030517578,28.3799991607666,26.959999084472656,27.020000457763672,25.809999465942383,25.84000015258789,26.46999931335449,24.209999084472656,23.530000686645508,22.82999992370605,22.93000030517578,23.850000381469727,23.649999618530277,22.57999992370605,23.34000015258789,22.450000762939453,22.290000915527344,23.209999084472656,23.8700008392334,25.290000915527344,26.030000686645508,26.920000076293945,28.21999931335449,26.36000061035156,24.93000030517578,26.18000030517578,27.65999984741211,27.200000762939453,27.06999969482422,27.68000030517578,29.46999931335449,27.850000381469727,29.399999618530277,30.739999771118164,33.20000076293945,31.43000030517578,30.309999465942383,31.76000022888184,31.11000061035156,30.56999969482422,29.299999237060547,30.09000015258789,30.43000030517578,31.96999931335449,30.420000076293945,30.06999969482422,28.540000915527344,29.43000030517578,27.43000030517578,27.040000915527344,27.0,26.489999771118164,25.8799991607666,25.440000534057617,26.8799991607666,25.559999465942383,25.5,25.350000381469727,24.07999992370605,23.530000686645508,24.239999771118164,24.6200008392334,25.0,25.21999931335449,24.56999969482422,24.3799991607666,25.690000534057617,24.489999771118164,24.229999542236328,25.059999465942383,24.530000686645508,24.26000022888184,25.030000686645508,24.43000030517578,25.899999618530277,25.61000061035156,26.1299991607666,25.81999969482422,25.979999542236328,25.709999084472656,26.26000022888184,25.239999771118164,26.1200008392334,25.59000015258789,25.8700008392334,27.34000015258789,28.06999969482422,27.51000022888184,27.790000915527344,28.170000076293945,26.5,25.770000457763672,27.40999984741211,26.530000686645508,27.06999969482422,26.030000686645508,25.71999931335449,25.25,26.149999618530277,26.09000015258789,25.06999969482422,24.770000457763672,24.850000381469727,24.31999969482422,24.75,23.90999984741211,24.3799991607666,24.1299991607666,23.780000686645508,24.649999618530277,24.170000076293945,23.34000015258789,22.8799991607666],\"yaxis\":\"y\",\"type\":\"scattergl\"},{\"hovertemplate\":\"variable=UNP<br>Date=%{x|%B %d, %Y}<br>value=%{y}<extra></extra>\",\"legendgroup\":\"UNP\",\"line\":{\"color\":\"#FF6692\",\"dash\":\"solid\"},\"marker\":{\"symbol\":\"circle\"},\"mode\":\"lines\",\"name\":\"UNP\",\"showlegend\":true,\"x\":[\"2021-12-13\",\"2021-12-14\",\"2021-12-15\",\"2021-12-16\",\"2021-12-17\",\"2021-12-20\",\"2021-12-21\",\"2021-12-22\",\"2021-12-23\",\"2021-12-27\",\"2021-12-28\",\"2021-12-29\",\"2021-12-30\",\"2021-12-31\",\"2022-01-03\",\"2022-01-04\",\"2022-01-05\",\"2022-01-06\",\"2022-01-07\",\"2022-01-10\",\"2022-01-11\",\"2022-01-12\",\"2022-01-13\",\"2022-01-14\",\"2022-01-18\",\"2022-01-19\",\"2022-01-20\",\"2022-01-21\",\"2022-01-24\",\"2022-01-25\",\"2022-01-26\",\"2022-01-27\",\"2022-01-28\",\"2022-01-31\",\"2022-02-01\",\"2022-02-02\",\"2022-02-03\",\"2022-02-04\",\"2022-02-07\",\"2022-02-08\",\"2022-02-09\",\"2022-02-10\",\"2022-02-11\",\"2022-02-14\",\"2022-02-15\",\"2022-02-16\",\"2022-02-17\",\"2022-02-18\",\"2022-02-22\",\"2022-02-23\",\"2022-02-24\",\"2022-02-25\",\"2022-02-28\",\"2022-03-01\",\"2022-03-02\",\"2022-03-03\",\"2022-03-04\",\"2022-03-07\",\"2022-03-08\",\"2022-03-09\",\"2022-03-10\",\"2022-03-11\",\"2022-03-14\",\"2022-03-15\",\"2022-03-16\",\"2022-03-17\",\"2022-03-18\",\"2022-03-21\",\"2022-03-22\",\"2022-03-23\",\"2022-03-24\",\"2022-03-25\",\"2022-03-28\",\"2022-03-29\",\"2022-03-30\",\"2022-03-31\",\"2022-04-01\",\"2022-04-04\",\"2022-04-05\",\"2022-04-06\",\"2022-04-07\",\"2022-04-08\",\"2022-04-11\",\"2022-04-12\",\"2022-04-13\",\"2022-04-14\",\"2022-04-18\",\"2022-04-19\",\"2022-04-20\",\"2022-04-21\",\"2022-04-22\",\"2022-04-25\",\"2022-04-26\",\"2022-04-27\",\"2022-04-28\",\"2022-04-29\",\"2022-05-02\",\"2022-05-03\",\"2022-05-04\",\"2022-05-05\",\"2022-05-06\",\"2022-05-09\",\"2022-05-10\",\"2022-05-11\",\"2022-05-12\",\"2022-05-13\",\"2022-05-16\",\"2022-05-17\",\"2022-05-18\",\"2022-05-19\",\"2022-05-20\",\"2022-05-23\",\"2022-05-24\",\"2022-05-25\",\"2022-05-26\",\"2022-05-27\",\"2022-05-31\",\"2022-06-01\",\"2022-06-02\",\"2022-06-03\",\"2022-06-06\",\"2022-06-07\",\"2022-06-08\",\"2022-06-09\",\"2022-06-10\",\"2022-06-13\",\"2022-06-14\",\"2022-06-15\",\"2022-06-16\",\"2022-06-17\",\"2022-06-21\",\"2022-06-22\",\"2022-06-23\",\"2022-06-24\",\"2022-06-27\",\"2022-06-28\",\"2022-06-29\",\"2022-06-30\",\"2022-07-01\",\"2022-07-05\",\"2022-07-06\",\"2022-07-07\",\"2022-07-08\",\"2022-07-11\",\"2022-07-12\",\"2022-07-13\",\"2022-07-14\",\"2022-07-15\",\"2022-07-18\",\"2022-07-19\",\"2022-07-20\",\"2022-07-21\",\"2022-07-22\",\"2022-07-25\",\"2022-07-26\",\"2022-07-27\",\"2022-07-28\",\"2022-07-29\",\"2022-08-01\",\"2022-08-02\",\"2022-08-03\",\"2022-08-04\",\"2022-08-05\",\"2022-08-08\",\"2022-08-09\",\"2022-08-10\",\"2022-08-11\",\"2022-08-12\",\"2022-08-15\",\"2022-08-16\",\"2022-08-17\",\"2022-08-18\",\"2022-08-19\",\"2022-08-22\",\"2022-08-23\",\"2022-08-24\",\"2022-08-25\",\"2022-08-26\",\"2022-08-29\",\"2022-08-30\",\"2022-08-31\",\"2022-09-01\",\"2022-09-02\",\"2022-09-06\",\"2022-09-07\",\"2022-09-08\",\"2022-09-09\",\"2022-09-12\",\"2022-09-13\",\"2022-09-14\",\"2022-09-15\",\"2022-09-16\",\"2022-09-19\",\"2022-09-20\",\"2022-09-21\",\"2022-09-22\",\"2022-09-23\",\"2022-09-26\",\"2022-09-27\",\"2022-09-28\",\"2022-09-29\",\"2022-09-30\",\"2022-10-03\",\"2022-10-04\",\"2022-10-05\",\"2022-10-06\",\"2022-10-07\",\"2022-10-10\",\"2022-10-11\",\"2022-10-12\",\"2022-10-13\",\"2022-10-14\",\"2022-10-17\",\"2022-10-18\",\"2022-10-19\",\"2022-10-20\",\"2022-10-21\",\"2022-10-24\",\"2022-10-25\",\"2022-10-26\",\"2022-10-27\",\"2022-10-28\",\"2022-10-31\",\"2022-11-01\",\"2022-11-02\",\"2022-11-03\",\"2022-11-04\",\"2022-11-07\",\"2022-11-08\",\"2022-11-09\",\"2022-11-10\",\"2022-11-11\",\"2022-11-14\",\"2022-11-15\",\"2022-11-16\",\"2022-11-17\",\"2022-11-18\",\"2022-11-21\",\"2022-11-22\",\"2022-11-23\",\"2022-11-25\",\"2022-11-28\",\"2022-11-29\",\"2022-11-30\",\"2022-12-01\",\"2022-12-02\",\"2022-12-05\",\"2022-12-06\",\"2022-12-07\",\"2022-12-08\",\"2022-12-09\",\"2022-12-12\",\"2022-12-13\",\"2022-12-14\",\"2022-12-15\",\"2022-12-16\",\"2022-12-19\",\"2022-12-20\",\"2022-12-21\",\"2022-12-22\",\"2022-12-23\",\"2022-12-27\",\"2022-12-28\",\"2022-12-29\",\"2022-12-30\",\"2023-01-03\",\"2023-01-04\",\"2023-01-05\",\"2023-01-06\",\"2023-01-09\",\"2023-01-10\",\"2023-01-11\",\"2023-01-12\",\"2023-01-13\",\"2023-01-17\",\"2023-01-18\",\"2023-01-19\",\"2023-01-20\",\"2023-01-23\",\"2023-01-24\",\"2023-01-25\",\"2023-01-26\",\"2023-01-27\",\"2023-01-30\",\"2023-01-31\",\"2023-02-01\",\"2023-02-02\",\"2023-02-03\",\"2023-02-06\",\"2023-02-07\",\"2023-02-08\",\"2023-02-09\",\"2023-02-10\",\"2023-02-13\",\"2023-02-14\",\"2023-02-15\",\"2023-02-16\",\"2023-02-17\",\"2023-02-21\",\"2023-02-22\",\"2023-02-23\",\"2023-02-24\",\"2023-02-27\",\"2023-02-28\",\"2023-03-01\",\"2023-03-02\",\"2023-03-03\",\"2023-03-06\",\"2023-03-07\",\"2023-03-08\",\"2023-03-09\",\"2023-03-10\",\"2023-03-13\",\"2023-03-14\",\"2023-03-15\",\"2023-03-16\",\"2023-03-17\",\"2023-03-20\",\"2023-03-21\",\"2023-03-22\",\"2023-03-23\",\"2023-03-24\",\"2023-03-27\",\"2023-03-28\",\"2023-03-29\",\"2023-03-30\",\"2023-03-31\",\"2023-04-03\",\"2023-04-04\",\"2023-04-05\",\"2023-04-06\",\"2023-04-10\",\"2023-04-11\",\"2023-04-12\",\"2023-04-13\",\"2023-04-14\",\"2023-04-17\",\"2023-04-18\",\"2023-04-19\",\"2023-04-20\",\"2023-04-21\",\"2023-04-24\",\"2023-04-25\",\"2023-04-26\",\"2023-04-27\",\"2023-04-28\",\"2023-05-01\",\"2023-05-02\",\"2023-05-03\",\"2023-05-04\",\"2023-05-05\",\"2023-05-08\",\"2023-05-09\",\"2023-05-10\",\"2023-05-11\",\"2023-05-12\",\"2023-05-15\",\"2023-05-16\",\"2023-05-17\",\"2023-05-18\",\"2023-05-19\",\"2023-05-22\",\"2023-05-23\",\"2023-05-24\",\"2023-05-25\"],\"xaxis\":\"x\",\"y\":[237.521728515625,236.42955017089844,238.85557556152344,240.04446411132807,235.6936187744141,233.7027282714844,235.23716735839844,235.8878631591797,238.5585784912109,240.8019561767578,242.0450897216797,243.79318237304688,242.3461456298828,244.667236328125,240.627197265625,244.7643585205078,245.5024261474609,246.18228149414065,247.43508911132807,243.06480407714844,239.31607055664065,239.87936401367188,240.4814910888672,239.17042541503903,231.17767333984372,232.58587646484372,235.09149169921875,239.2286834716797,238.0341339111328,237.08238220214844,237.82046508789065,237.53884887695312,238.8402099609375,237.5,239.5977325439453,244.0165557861328,237.3057556152344,235.4022521972656,234.1980133056641,235.9461212158203,239.38406372070312,235.14002990722656,231.9254608154297,235.55764770507807,242.1324920654297,246.49305725097656,243.75433349609372,243.9485626220703,239.17042541503903,237.76220703125,235.1109161376953,240.478515625,240.02960205078125,236.5943145751953,246.2950439453125,249.3106842041016,258.25994873046875,255.1662139892578,247.3685760498047,247.56375122070312,253.39979553222656,255.2248077392578,251.45770263671875,253.8682861328125,257.7914428710937,257.2156982421875,255.02963256835935,258.1428527832031,259.4602966308594,261.23651123046875,263.7055969238281,266.79931640625,268.7121276855469,267.0237731933594,270.02960205078125,266.6333923339844,253.70233154296875,251.5357666015625,246.0413055419922,237.0822906494141,238.9658203125,236.1551513671875,237.25796508789065,239.16102600097656,238.7413787841797,240.28335571289065,236.2917938232422,239.70751953125,241.1226348876953,238.51690673828125,228.6600341796875,230.7289886474609,227.9671173095703,231.090087890625,233.49087524414065,228.6502685546875,227.2644500732422,226.51300048828125,231.3828582763672,225.90792846679688,224.0634002685547,219.8278961181641,217.2416839599609,218.4908599853516,220.49151611328125,225.2052154541016,222.4043426513672,226.60081481933597,219.5741424560547,211.28851318359372,208.4387969970703,211.6691131591797,211.86428833007807,212.18637084960935,215.96319580078125,218.42726135253903,215.75704956054688,217.2688751220703,221.26434326171875,219.89979553222656,221.0483856201172,224.56285095214844,217.6222686767578,212.8217620849609,207.25555419921875,204.2613983154297,204.6737060546875,205.9989776611328,204.37918090820312,202.6710357666016,205.63577270507807,205.16455078125,205.9106292724609,211.83026123046875,209.9355926513672,209.45455932617188,209.24838256835935,209.3760223388672,211.3197784423828,206.3229522705078,205.8811798095703,208.7379302978516,205.86155700683597,206.02842712402344,202.7201232910156,202.92628479003903,201.7580718994141,205.30198669433597,206.37203979492188,212.92974853515625,210.52459716796875,208.0212860107422,209.4938201904297,213.3813323974609,212.01678466796875,215.86502075195312,219.64456176757807,223.139404296875,222.9234161376953,218.42726135253903,221.4999542236328,223.18849182128903,224.4352264404297,223.68914794921875,224.3076019287109,231.4445343017578,234.8706512451172,235.55784606933597,233.8104248046875,236.9322204589844,236.4806365966797,237.48196411132807,234.1540069580078,233.1625061035156,233.2901306152344,233.92822265625,234.6939697265625,227.0367431640625,228.1558532714844,222.36090087890625,221.64019775390625,223.1703948974609,221.07749938964844,225.06585693359372,225.8654937744141,227.39569091796875,228.916015625,231.1668701171875,223.3974456787109,215.1640625,215.56881713867188,209.2901306152344,213.4364318847656,210.5438995361328,209.18153381347656,206.4962921142578,201.36276245117188,198.2925262451172,194.72866821289065,199.2501220703125,196.6537322998047,192.32974243164065,197.7001953125,202.75474548339844,198.0555877685547,195.6763916015625,193.1195068359375,191.569580078125,190.17758178710935,189.6642303466797,194.2251892089844,191.31288146972656,196.06141662597656,199.0625457763672,197.50274658203125,184.06671142578125,188.0945587158203,191.0167236328125,192.12240600585935,193.27745056152344,193.53411865234372,196.1107635498047,194.6200714111328,194.30416870117188,190.06900024414065,190.72056579589844,194.1856842041016,193.7908172607422,201.4022521972656,200.8099365234375,210.26747131347656,214.7198181152344,214.1768493652344,207.96725463867188,209.55667114257807,207.1379852294922,207.8882751464844,209.55667114257807,210.4747772216797,209.8034820556641,210.60313415527344,205.8546142578125,210.05029296875,214.6507110595703,213.1698760986328,211.9852294921875,208.3621368408203,208.4411163330078,209.5073089599609,210.30694580078125,208.6484375,213.0711669921875,215.23318481445312,214.79879760742188,209.59616088867188,208.8015289306641,205.00711059570312,204.03369140625,207.0235137939453,207.2619171142578,208.5035400390625,208.91079711914065,205.48390197753903,207.8181610107422,205.6825714111328,206.18914794921875,207.8380279541016,201.71929931640625,210.58946228027344,210.04315185546875,210.85765075683597,212.8243865966797,213.2515106201172,211.80128479003903,212.87405395507807,208.076416015625,204.12307739257807,207.2619171142578,208.72206115722656,201.8186187744141,198.7791290283203,200.1300048828125,201.03392028808597,198.8585968017578,202.8218536376953,206.5367889404297,211.98008728027344,208.8809814453125,207.55990600585935,207.6393585205078,205.7520904541016,201.4510955810547,204.12307739257807,204.66940307617188,202.66293334960935,201.7490997314453,199.17645263671875,200.23927307128903,192.45181274414065,190.09768676757807,192.0247039794922,192.72000122070312,212.1699981689453,207.27999877929688,207.9900054931641,211.3600006103516,209.3600006103516,208.8300018310547,205.3999938964844,203.57000732421875,199.57000732421875,196.05999755859372,195.1000061035156,195.1499938964844,192.0399932861328,192.91000366210935,190.00999450683597,189.69000244140625,189.5399932861328,185.72000122070312,186.1999969482422,188.50999450683597,193.22999572753903,196.5800018310547,199.08999633789065,198.3600006103516,201.25999450683597,199.5399932861328,195.8800048828125,194.2100067138672,198.63999938964844,198.3699951171875,198.8999938964844,198.72999572753903,197.9199981689453,198.52999877929688,200.0399932861328,199.47000122070312,202.0,202.6000061035156,198.8500061035156,200.27999877929688,194.75,191.5,193.5399932861328,195.6999969482422,198.6300048828125,196.07000732421875,195.3300018310547,197.05999755859372,201.22999572753903,199.94000244140625,200.58999633789065,199.05999755859372,198.0800018310547,198.9900054931641,199.63999938964844,196.8699951171875,198.83999633789065,198.80999755859372,198.97000122070312,198.2899932861328,196.3800048828125,191.91000366210935,193.2100067138672],\"yaxis\":\"y\",\"type\":\"scattergl\"}],                        {\"template\":{\"data\":{\"histogram2dcontour\":[{\"type\":\"histogram2dcontour\",\"colorbar\":{\"outlinewidth\":0,\"ticks\":\"\"},\"colorscale\":[[0.0,\"#0d0887\"],[0.1111111111111111,\"#46039f\"],[0.2222222222222222,\"#7201a8\"],[0.3333333333333333,\"#9c179e\"],[0.4444444444444444,\"#bd3786\"],[0.5555555555555556,\"#d8576b\"],[0.6666666666666666,\"#ed7953\"],[0.7777777777777778,\"#fb9f3a\"],[0.8888888888888888,\"#fdca26\"],[1.0,\"#f0f921\"]]}],\"choropleth\":[{\"type\":\"choropleth\",\"colorbar\":{\"outlinewidth\":0,\"ticks\":\"\"}}],\"histogram2d\":[{\"type\":\"histogram2d\",\"colorbar\":{\"outlinewidth\":0,\"ticks\":\"\"},\"colorscale\":[[0.0,\"#0d0887\"],[0.1111111111111111,\"#46039f\"],[0.2222222222222222,\"#7201a8\"],[0.3333333333333333,\"#9c179e\"],[0.4444444444444444,\"#bd3786\"],[0.5555555555555556,\"#d8576b\"],[0.6666666666666666,\"#ed7953\"],[0.7777777777777778,\"#fb9f3a\"],[0.8888888888888888,\"#fdca26\"],[1.0,\"#f0f921\"]]}],\"heatmap\":[{\"type\":\"heatmap\",\"colorbar\":{\"outlinewidth\":0,\"ticks\":\"\"},\"colorscale\":[[0.0,\"#0d0887\"],[0.1111111111111111,\"#46039f\"],[0.2222222222222222,\"#7201a8\"],[0.3333333333333333,\"#9c179e\"],[0.4444444444444444,\"#bd3786\"],[0.5555555555555556,\"#d8576b\"],[0.6666666666666666,\"#ed7953\"],[0.7777777777777778,\"#fb9f3a\"],[0.8888888888888888,\"#fdca26\"],[1.0,\"#f0f921\"]]}],\"heatmapgl\":[{\"type\":\"heatmapgl\",\"colorbar\":{\"outlinewidth\":0,\"ticks\":\"\"},\"colorscale\":[[0.0,\"#0d0887\"],[0.1111111111111111,\"#46039f\"],[0.2222222222222222,\"#7201a8\"],[0.3333333333333333,\"#9c179e\"],[0.4444444444444444,\"#bd3786\"],[0.5555555555555556,\"#d8576b\"],[0.6666666666666666,\"#ed7953\"],[0.7777777777777778,\"#fb9f3a\"],[0.8888888888888888,\"#fdca26\"],[1.0,\"#f0f921\"]]}],\"contourcarpet\":[{\"type\":\"contourcarpet\",\"colorbar\":{\"outlinewidth\":0,\"ticks\":\"\"}}],\"contour\":[{\"type\":\"contour\",\"colorbar\":{\"outlinewidth\":0,\"ticks\":\"\"},\"colorscale\":[[0.0,\"#0d0887\"],[0.1111111111111111,\"#46039f\"],[0.2222222222222222,\"#7201a8\"],[0.3333333333333333,\"#9c179e\"],[0.4444444444444444,\"#bd3786\"],[0.5555555555555556,\"#d8576b\"],[0.6666666666666666,\"#ed7953\"],[0.7777777777777778,\"#fb9f3a\"],[0.8888888888888888,\"#fdca26\"],[1.0,\"#f0f921\"]]}],\"surface\":[{\"type\":\"surface\",\"colorbar\":{\"outlinewidth\":0,\"ticks\":\"\"},\"colorscale\":[[0.0,\"#0d0887\"],[0.1111111111111111,\"#46039f\"],[0.2222222222222222,\"#7201a8\"],[0.3333333333333333,\"#9c179e\"],[0.4444444444444444,\"#bd3786\"],[0.5555555555555556,\"#d8576b\"],[0.6666666666666666,\"#ed7953\"],[0.7777777777777778,\"#fb9f3a\"],[0.8888888888888888,\"#fdca26\"],[1.0,\"#f0f921\"]]}],\"mesh3d\":[{\"type\":\"mesh3d\",\"colorbar\":{\"outlinewidth\":0,\"ticks\":\"\"}}],\"scatter\":[{\"fillpattern\":{\"fillmode\":\"overlay\",\"size\":10,\"solidity\":0.2},\"type\":\"scatter\"}],\"parcoords\":[{\"type\":\"parcoords\",\"line\":{\"colorbar\":{\"outlinewidth\":0,\"ticks\":\"\"}}}],\"scatterpolargl\":[{\"type\":\"scatterpolargl\",\"marker\":{\"colorbar\":{\"outlinewidth\":0,\"ticks\":\"\"}}}],\"bar\":[{\"error_x\":{\"color\":\"#2a3f5f\"},\"error_y\":{\"color\":\"#2a3f5f\"},\"marker\":{\"line\":{\"color\":\"#E5ECF6\",\"width\":0.5},\"pattern\":{\"fillmode\":\"overlay\",\"size\":10,\"solidity\":0.2}},\"type\":\"bar\"}],\"scattergeo\":[{\"type\":\"scattergeo\",\"marker\":{\"colorbar\":{\"outlinewidth\":0,\"ticks\":\"\"}}}],\"scatterpolar\":[{\"type\":\"scatterpolar\",\"marker\":{\"colorbar\":{\"outlinewidth\":0,\"ticks\":\"\"}}}],\"histogram\":[{\"marker\":{\"pattern\":{\"fillmode\":\"overlay\",\"size\":10,\"solidity\":0.2}},\"type\":\"histogram\"}],\"scattergl\":[{\"type\":\"scattergl\",\"marker\":{\"colorbar\":{\"outlinewidth\":0,\"ticks\":\"\"}}}],\"scatter3d\":[{\"type\":\"scatter3d\",\"line\":{\"colorbar\":{\"outlinewidth\":0,\"ticks\":\"\"}},\"marker\":{\"colorbar\":{\"outlinewidth\":0,\"ticks\":\"\"}}}],\"scattermapbox\":[{\"type\":\"scattermapbox\",\"marker\":{\"colorbar\":{\"outlinewidth\":0,\"ticks\":\"\"}}}],\"scatterternary\":[{\"type\":\"scatterternary\",\"marker\":{\"colorbar\":{\"outlinewidth\":0,\"ticks\":\"\"}}}],\"scattercarpet\":[{\"type\":\"scattercarpet\",\"marker\":{\"colorbar\":{\"outlinewidth\":0,\"ticks\":\"\"}}}],\"carpet\":[{\"aaxis\":{\"endlinecolor\":\"#2a3f5f\",\"gridcolor\":\"white\",\"linecolor\":\"white\",\"minorgridcolor\":\"white\",\"startlinecolor\":\"#2a3f5f\"},\"baxis\":{\"endlinecolor\":\"#2a3f5f\",\"gridcolor\":\"white\",\"linecolor\":\"white\",\"minorgridcolor\":\"white\",\"startlinecolor\":\"#2a3f5f\"},\"type\":\"carpet\"}],\"table\":[{\"cells\":{\"fill\":{\"color\":\"#EBF0F8\"},\"line\":{\"color\":\"white\"}},\"header\":{\"fill\":{\"color\":\"#C8D4E3\"},\"line\":{\"color\":\"white\"}},\"type\":\"table\"}],\"barpolar\":[{\"marker\":{\"line\":{\"color\":\"#E5ECF6\",\"width\":0.5},\"pattern\":{\"fillmode\":\"overlay\",\"size\":10,\"solidity\":0.2}},\"type\":\"barpolar\"}],\"pie\":[{\"automargin\":true,\"type\":\"pie\"}]},\"layout\":{\"autotypenumbers\":\"strict\",\"colorway\":[\"#636efa\",\"#EF553B\",\"#00cc96\",\"#ab63fa\",\"#FFA15A\",\"#19d3f3\",\"#FF6692\",\"#B6E880\",\"#FF97FF\",\"#FECB52\"],\"font\":{\"color\":\"#2a3f5f\"},\"hovermode\":\"closest\",\"hoverlabel\":{\"align\":\"left\"},\"paper_bgcolor\":\"white\",\"plot_bgcolor\":\"#E5ECF6\",\"polar\":{\"bgcolor\":\"#E5ECF6\",\"angularaxis\":{\"gridcolor\":\"white\",\"linecolor\":\"white\",\"ticks\":\"\"},\"radialaxis\":{\"gridcolor\":\"white\",\"linecolor\":\"white\",\"ticks\":\"\"}},\"ternary\":{\"bgcolor\":\"#E5ECF6\",\"aaxis\":{\"gridcolor\":\"white\",\"linecolor\":\"white\",\"ticks\":\"\"},\"baxis\":{\"gridcolor\":\"white\",\"linecolor\":\"white\",\"ticks\":\"\"},\"caxis\":{\"gridcolor\":\"white\",\"linecolor\":\"white\",\"ticks\":\"\"}},\"coloraxis\":{\"colorbar\":{\"outlinewidth\":0,\"ticks\":\"\"}},\"colorscale\":{\"sequential\":[[0.0,\"#0d0887\"],[0.1111111111111111,\"#46039f\"],[0.2222222222222222,\"#7201a8\"],[0.3333333333333333,\"#9c179e\"],[0.4444444444444444,\"#bd3786\"],[0.5555555555555556,\"#d8576b\"],[0.6666666666666666,\"#ed7953\"],[0.7777777777777778,\"#fb9f3a\"],[0.8888888888888888,\"#fdca26\"],[1.0,\"#f0f921\"]],\"sequentialminus\":[[0.0,\"#0d0887\"],[0.1111111111111111,\"#46039f\"],[0.2222222222222222,\"#7201a8\"],[0.3333333333333333,\"#9c179e\"],[0.4444444444444444,\"#bd3786\"],[0.5555555555555556,\"#d8576b\"],[0.6666666666666666,\"#ed7953\"],[0.7777777777777778,\"#fb9f3a\"],[0.8888888888888888,\"#fdca26\"],[1.0,\"#f0f921\"]],\"diverging\":[[0,\"#8e0152\"],[0.1,\"#c51b7d\"],[0.2,\"#de77ae\"],[0.3,\"#f1b6da\"],[0.4,\"#fde0ef\"],[0.5,\"#f7f7f7\"],[0.6,\"#e6f5d0\"],[0.7,\"#b8e186\"],[0.8,\"#7fbc41\"],[0.9,\"#4d9221\"],[1,\"#276419\"]]},\"xaxis\":{\"gridcolor\":\"white\",\"linecolor\":\"white\",\"ticks\":\"\",\"title\":{\"standoff\":15},\"zerolinecolor\":\"white\",\"automargin\":true,\"zerolinewidth\":2},\"yaxis\":{\"gridcolor\":\"white\",\"linecolor\":\"white\",\"ticks\":\"\",\"title\":{\"standoff\":15},\"zerolinecolor\":\"white\",\"automargin\":true,\"zerolinewidth\":2},\"scene\":{\"xaxis\":{\"backgroundcolor\":\"#E5ECF6\",\"gridcolor\":\"white\",\"linecolor\":\"white\",\"showbackground\":true,\"ticks\":\"\",\"zerolinecolor\":\"white\",\"gridwidth\":2},\"yaxis\":{\"backgroundcolor\":\"#E5ECF6\",\"gridcolor\":\"white\",\"linecolor\":\"white\",\"showbackground\":true,\"ticks\":\"\",\"zerolinecolor\":\"white\",\"gridwidth\":2},\"zaxis\":{\"backgroundcolor\":\"#E5ECF6\",\"gridcolor\":\"white\",\"linecolor\":\"white\",\"showbackground\":true,\"ticks\":\"\",\"zerolinecolor\":\"white\",\"gridwidth\":2}},\"shapedefaults\":{\"line\":{\"color\":\"#2a3f5f\"}},\"annotationdefaults\":{\"arrowcolor\":\"#2a3f5f\",\"arrowhead\":0,\"arrowwidth\":1},\"geo\":{\"bgcolor\":\"white\",\"landcolor\":\"#E5ECF6\",\"subunitcolor\":\"white\",\"showland\":true,\"showlakes\":true,\"lakecolor\":\"white\"},\"title\":{\"x\":0.05},\"mapbox\":{\"style\":\"light\"}}},\"xaxis\":{\"anchor\":\"y\",\"domain\":[0.0,1.0],\"title\":{\"text\":\"Date\"},\"dtick\":\"M1\",\"tickformat\":\"%b\\n%Y\"},\"yaxis\":{\"anchor\":\"x\",\"domain\":[0.0,1.0],\"title\":{\"text\":\"value\"}},\"legend\":{\"title\":{\"text\":\"variable\"},\"tracegroupgap\":0},\"title\":{\"text\":\"Commodity Covariance Study\"}},                        {\"responsive\": true}                    ).then(function(){\n",
              "                            \n",
              "var gd = document.getElementById('7504a713-51ff-4dcf-9fcc-4c11f63bea3e');\n",
              "var x = new MutationObserver(function (mutations, observer) {{\n",
              "        var display = window.getComputedStyle(gd).display;\n",
              "        if (!display || display === 'none') {{\n",
              "            console.log([gd, 'removed!']);\n",
              "            Plotly.purge(gd);\n",
              "            observer.disconnect();\n",
              "        }}\n",
              "}});\n",
              "\n",
              "// Listen for the removal of the full notebook cells\n",
              "var notebookContainer = gd.closest('#notebook-container');\n",
              "if (notebookContainer) {{\n",
              "    x.observe(notebookContainer, {childList: true});\n",
              "}}\n",
              "\n",
              "// Listen for the clearing of the current output cell\n",
              "var outputEl = gd.closest('.output');\n",
              "if (outputEl) {{\n",
              "    x.observe(outputEl, {childList: true});\n",
              "}}\n",
              "\n",
              "                        })                };                            </script>        </div>\n",
              "</body>\n",
              "</html>"
            ]
          },
          "metadata": {}
        }
      ]
    }
  ],
  "metadata": {
    "kernelspec": {
      "display_name": "Python 3 (ipykernel)",
      "language": "python",
      "name": "python3"
    },
    "language_info": {
      "codemirror_mode": {
        "name": "ipython",
        "version": 3
      },
      "file_extension": ".py",
      "mimetype": "text/x-python",
      "name": "python",
      "nbconvert_exporter": "python",
      "pygments_lexer": "ipython3",
      "version": "3.8.10"
    },
    "colab": {
      "provenance": []
    }
  },
  "nbformat": 4,
  "nbformat_minor": 5
}